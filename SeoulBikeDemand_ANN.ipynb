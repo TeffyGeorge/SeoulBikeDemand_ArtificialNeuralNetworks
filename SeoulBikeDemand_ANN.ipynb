{
  "cells": [
    {
      "cell_type": "code",
      "execution_count": null,
      "metadata": {
        "id": "kvic8-KEx1le"
      },
      "outputs": [],
      "source": [
        "#Loading the libraries\n",
        "import pandas as pd\n",
        "import numpy as np\n",
        "import matplotlib.pyplot as plt\n",
        "import seaborn as sb\n",
        "import os \n",
        "from sklearn.model_selection import cross_validate\n",
        "from sklearn.model_selection import train_test_split\n",
        "from sklearn.model_selection import GridSearchCV\n",
        "from sklearn.model_selection import cross_val_score\n",
        "from sklearn.model_selection import RepeatedStratifiedKFold\n",
        "from sklearn.model_selection import RandomizedSearchCV\n",
        "import seaborn as sns\n",
        "\n",
        "from sklearn.preprocessing import StandardScaler\n",
        "from sklearn import preprocessing\n",
        "\n",
        "from sklearn.metrics import mean_squared_error, mean_absolute_error, r2_score\n",
        "import warnings\n",
        "warnings.filterwarnings('ignore')"
      ]
    },
    {
      "cell_type": "code",
      "execution_count": null,
      "metadata": {
        "colab": {
          "base_uri": "https://localhost:8080/",
          "height": 795
        },
        "id": "3f1LFMNarYrR",
        "outputId": "d4553422-e36f-462f-b0d1-95865b60ff10"
      },
      "outputs": [
        {
          "output_type": "stream",
          "name": "stdout",
          "text": [
            "Mounted at /content/gdrive\n",
            "Info:-\n",
            "<class 'pandas.core.frame.DataFrame'>\n",
            "RangeIndex: 8760 entries, 0 to 8759\n",
            "Data columns (total 14 columns):\n",
            " #   Column                     Non-Null Count  Dtype  \n",
            "---  ------                     --------------  -----  \n",
            " 0   Date                       8760 non-null   object \n",
            " 1   Rented Bike Count          8760 non-null   int64  \n",
            " 2   Hour                       8760 non-null   int64  \n",
            " 3   Temperature(°C)            8760 non-null   float64\n",
            " 4   Humidity(%)                8760 non-null   int64  \n",
            " 5   Wind speed (m/s)           8760 non-null   float64\n",
            " 6   Visibility (10m)           8760 non-null   int64  \n",
            " 7   Dew point temperature(°C)  8760 non-null   float64\n",
            " 8   Solar Radiation (MJ/m2)    8760 non-null   float64\n",
            " 9   Rainfall(mm)               8760 non-null   float64\n",
            " 10  Snowfall (cm)              8760 non-null   float64\n",
            " 11  Seasons                    8760 non-null   object \n",
            " 12  Holiday                    8760 non-null   object \n",
            " 13  Functioning Day            8760 non-null   object \n",
            "dtypes: float64(6), int64(4), object(4)\n",
            "memory usage: 958.2+ KB\n",
            "Describe:-\n"
          ]
        },
        {
          "output_type": "execute_result",
          "data": {
            "text/plain": [
              "       Rented Bike Count         Hour  Temperature(°C)  Humidity(%)  \\\n",
              "count        8760.000000  8760.000000      8760.000000  8760.000000   \n",
              "mean          704.602055    11.500000        12.882922    58.226256   \n",
              "std           644.997468     6.922582        11.944825    20.362413   \n",
              "min             0.000000     0.000000       -17.800000     0.000000   \n",
              "25%           191.000000     5.750000         3.500000    42.000000   \n",
              "50%           504.500000    11.500000        13.700000    57.000000   \n",
              "75%          1065.250000    17.250000        22.500000    74.000000   \n",
              "max          3556.000000    23.000000        39.400000    98.000000   \n",
              "\n",
              "       Wind speed (m/s)  Visibility (10m)  Dew point temperature(°C)  \\\n",
              "count       8760.000000       8760.000000                8760.000000   \n",
              "mean           1.724909       1436.825799                   4.073813   \n",
              "std            1.036300        608.298712                  13.060369   \n",
              "min            0.000000         27.000000                 -30.600000   \n",
              "25%            0.900000        940.000000                  -4.700000   \n",
              "50%            1.500000       1698.000000                   5.100000   \n",
              "75%            2.300000       2000.000000                  14.800000   \n",
              "max            7.400000       2000.000000                  27.200000   \n",
              "\n",
              "       Solar Radiation (MJ/m2)  Rainfall(mm)  Snowfall (cm)  \n",
              "count              8760.000000   8760.000000    8760.000000  \n",
              "mean                  0.569111      0.148687       0.075068  \n",
              "std                   0.868746      1.128193       0.436746  \n",
              "min                   0.000000      0.000000       0.000000  \n",
              "25%                   0.000000      0.000000       0.000000  \n",
              "50%                   0.010000      0.000000       0.000000  \n",
              "75%                   0.930000      0.000000       0.000000  \n",
              "max                   3.520000     35.000000       8.800000  "
            ],
            "text/html": [
              "\n",
              "  <div id=\"df-d73b4bc8-a833-4c1d-8ed1-2f1f72be410f\">\n",
              "    <div class=\"colab-df-container\">\n",
              "      <div>\n",
              "<style scoped>\n",
              "    .dataframe tbody tr th:only-of-type {\n",
              "        vertical-align: middle;\n",
              "    }\n",
              "\n",
              "    .dataframe tbody tr th {\n",
              "        vertical-align: top;\n",
              "    }\n",
              "\n",
              "    .dataframe thead th {\n",
              "        text-align: right;\n",
              "    }\n",
              "</style>\n",
              "<table border=\"1\" class=\"dataframe\">\n",
              "  <thead>\n",
              "    <tr style=\"text-align: right;\">\n",
              "      <th></th>\n",
              "      <th>Rented Bike Count</th>\n",
              "      <th>Hour</th>\n",
              "      <th>Temperature(°C)</th>\n",
              "      <th>Humidity(%)</th>\n",
              "      <th>Wind speed (m/s)</th>\n",
              "      <th>Visibility (10m)</th>\n",
              "      <th>Dew point temperature(°C)</th>\n",
              "      <th>Solar Radiation (MJ/m2)</th>\n",
              "      <th>Rainfall(mm)</th>\n",
              "      <th>Snowfall (cm)</th>\n",
              "    </tr>\n",
              "  </thead>\n",
              "  <tbody>\n",
              "    <tr>\n",
              "      <th>count</th>\n",
              "      <td>8760.000000</td>\n",
              "      <td>8760.000000</td>\n",
              "      <td>8760.000000</td>\n",
              "      <td>8760.000000</td>\n",
              "      <td>8760.000000</td>\n",
              "      <td>8760.000000</td>\n",
              "      <td>8760.000000</td>\n",
              "      <td>8760.000000</td>\n",
              "      <td>8760.000000</td>\n",
              "      <td>8760.000000</td>\n",
              "    </tr>\n",
              "    <tr>\n",
              "      <th>mean</th>\n",
              "      <td>704.602055</td>\n",
              "      <td>11.500000</td>\n",
              "      <td>12.882922</td>\n",
              "      <td>58.226256</td>\n",
              "      <td>1.724909</td>\n",
              "      <td>1436.825799</td>\n",
              "      <td>4.073813</td>\n",
              "      <td>0.569111</td>\n",
              "      <td>0.148687</td>\n",
              "      <td>0.075068</td>\n",
              "    </tr>\n",
              "    <tr>\n",
              "      <th>std</th>\n",
              "      <td>644.997468</td>\n",
              "      <td>6.922582</td>\n",
              "      <td>11.944825</td>\n",
              "      <td>20.362413</td>\n",
              "      <td>1.036300</td>\n",
              "      <td>608.298712</td>\n",
              "      <td>13.060369</td>\n",
              "      <td>0.868746</td>\n",
              "      <td>1.128193</td>\n",
              "      <td>0.436746</td>\n",
              "    </tr>\n",
              "    <tr>\n",
              "      <th>min</th>\n",
              "      <td>0.000000</td>\n",
              "      <td>0.000000</td>\n",
              "      <td>-17.800000</td>\n",
              "      <td>0.000000</td>\n",
              "      <td>0.000000</td>\n",
              "      <td>27.000000</td>\n",
              "      <td>-30.600000</td>\n",
              "      <td>0.000000</td>\n",
              "      <td>0.000000</td>\n",
              "      <td>0.000000</td>\n",
              "    </tr>\n",
              "    <tr>\n",
              "      <th>25%</th>\n",
              "      <td>191.000000</td>\n",
              "      <td>5.750000</td>\n",
              "      <td>3.500000</td>\n",
              "      <td>42.000000</td>\n",
              "      <td>0.900000</td>\n",
              "      <td>940.000000</td>\n",
              "      <td>-4.700000</td>\n",
              "      <td>0.000000</td>\n",
              "      <td>0.000000</td>\n",
              "      <td>0.000000</td>\n",
              "    </tr>\n",
              "    <tr>\n",
              "      <th>50%</th>\n",
              "      <td>504.500000</td>\n",
              "      <td>11.500000</td>\n",
              "      <td>13.700000</td>\n",
              "      <td>57.000000</td>\n",
              "      <td>1.500000</td>\n",
              "      <td>1698.000000</td>\n",
              "      <td>5.100000</td>\n",
              "      <td>0.010000</td>\n",
              "      <td>0.000000</td>\n",
              "      <td>0.000000</td>\n",
              "    </tr>\n",
              "    <tr>\n",
              "      <th>75%</th>\n",
              "      <td>1065.250000</td>\n",
              "      <td>17.250000</td>\n",
              "      <td>22.500000</td>\n",
              "      <td>74.000000</td>\n",
              "      <td>2.300000</td>\n",
              "      <td>2000.000000</td>\n",
              "      <td>14.800000</td>\n",
              "      <td>0.930000</td>\n",
              "      <td>0.000000</td>\n",
              "      <td>0.000000</td>\n",
              "    </tr>\n",
              "    <tr>\n",
              "      <th>max</th>\n",
              "      <td>3556.000000</td>\n",
              "      <td>23.000000</td>\n",
              "      <td>39.400000</td>\n",
              "      <td>98.000000</td>\n",
              "      <td>7.400000</td>\n",
              "      <td>2000.000000</td>\n",
              "      <td>27.200000</td>\n",
              "      <td>3.520000</td>\n",
              "      <td>35.000000</td>\n",
              "      <td>8.800000</td>\n",
              "    </tr>\n",
              "  </tbody>\n",
              "</table>\n",
              "</div>\n",
              "      <button class=\"colab-df-convert\" onclick=\"convertToInteractive('df-d73b4bc8-a833-4c1d-8ed1-2f1f72be410f')\"\n",
              "              title=\"Convert this dataframe to an interactive table.\"\n",
              "              style=\"display:none;\">\n",
              "        \n",
              "  <svg xmlns=\"http://www.w3.org/2000/svg\" height=\"24px\"viewBox=\"0 0 24 24\"\n",
              "       width=\"24px\">\n",
              "    <path d=\"M0 0h24v24H0V0z\" fill=\"none\"/>\n",
              "    <path d=\"M18.56 5.44l.94 2.06.94-2.06 2.06-.94-2.06-.94-.94-2.06-.94 2.06-2.06.94zm-11 1L8.5 8.5l.94-2.06 2.06-.94-2.06-.94L8.5 2.5l-.94 2.06-2.06.94zm10 10l.94 2.06.94-2.06 2.06-.94-2.06-.94-.94-2.06-.94 2.06-2.06.94z\"/><path d=\"M17.41 7.96l-1.37-1.37c-.4-.4-.92-.59-1.43-.59-.52 0-1.04.2-1.43.59L10.3 9.45l-7.72 7.72c-.78.78-.78 2.05 0 2.83L4 21.41c.39.39.9.59 1.41.59.51 0 1.02-.2 1.41-.59l7.78-7.78 2.81-2.81c.8-.78.8-2.07 0-2.86zM5.41 20L4 18.59l7.72-7.72 1.47 1.35L5.41 20z\"/>\n",
              "  </svg>\n",
              "      </button>\n",
              "      \n",
              "  <style>\n",
              "    .colab-df-container {\n",
              "      display:flex;\n",
              "      flex-wrap:wrap;\n",
              "      gap: 12px;\n",
              "    }\n",
              "\n",
              "    .colab-df-convert {\n",
              "      background-color: #E8F0FE;\n",
              "      border: none;\n",
              "      border-radius: 50%;\n",
              "      cursor: pointer;\n",
              "      display: none;\n",
              "      fill: #1967D2;\n",
              "      height: 32px;\n",
              "      padding: 0 0 0 0;\n",
              "      width: 32px;\n",
              "    }\n",
              "\n",
              "    .colab-df-convert:hover {\n",
              "      background-color: #E2EBFA;\n",
              "      box-shadow: 0px 1px 2px rgba(60, 64, 67, 0.3), 0px 1px 3px 1px rgba(60, 64, 67, 0.15);\n",
              "      fill: #174EA6;\n",
              "    }\n",
              "\n",
              "    [theme=dark] .colab-df-convert {\n",
              "      background-color: #3B4455;\n",
              "      fill: #D2E3FC;\n",
              "    }\n",
              "\n",
              "    [theme=dark] .colab-df-convert:hover {\n",
              "      background-color: #434B5C;\n",
              "      box-shadow: 0px 1px 3px 1px rgba(0, 0, 0, 0.15);\n",
              "      filter: drop-shadow(0px 1px 2px rgba(0, 0, 0, 0.3));\n",
              "      fill: #FFFFFF;\n",
              "    }\n",
              "  </style>\n",
              "\n",
              "      <script>\n",
              "        const buttonEl =\n",
              "          document.querySelector('#df-d73b4bc8-a833-4c1d-8ed1-2f1f72be410f button.colab-df-convert');\n",
              "        buttonEl.style.display =\n",
              "          google.colab.kernel.accessAllowed ? 'block' : 'none';\n",
              "\n",
              "        async function convertToInteractive(key) {\n",
              "          const element = document.querySelector('#df-d73b4bc8-a833-4c1d-8ed1-2f1f72be410f');\n",
              "          const dataTable =\n",
              "            await google.colab.kernel.invokeFunction('convertToInteractive',\n",
              "                                                     [key], {});\n",
              "          if (!dataTable) return;\n",
              "\n",
              "          const docLinkHtml = 'Like what you see? Visit the ' +\n",
              "            '<a target=\"_blank\" href=https://colab.research.google.com/notebooks/data_table.ipynb>data table notebook</a>'\n",
              "            + ' to learn more about interactive tables.';\n",
              "          element.innerHTML = '';\n",
              "          dataTable['output_type'] = 'display_data';\n",
              "          await google.colab.output.renderOutput(dataTable, element);\n",
              "          const docLink = document.createElement('div');\n",
              "          docLink.innerHTML = docLinkHtml;\n",
              "          element.appendChild(docLink);\n",
              "        }\n",
              "      </script>\n",
              "    </div>\n",
              "  </div>\n",
              "  "
            ]
          },
          "metadata": {},
          "execution_count": 7
        }
      ],
      "source": [
        "from google.colab import drive\n",
        "drive.mount('/content/gdrive')\n",
        "\n",
        "path = '/content/gdrive/MyDrive/ML/SeoulBikeData.csv'\n",
        "bike_df = pd.read_csv(path, encoding='cp1252')\n",
        "print(\"Info:-\")\n",
        "bike_df.info()\n",
        "print(\"Describe:-\")\n",
        "bike_df.describe()"
      ]
    },
    {
      "cell_type": "code",
      "execution_count": null,
      "metadata": {
        "colab": {
          "base_uri": "https://localhost:8080/"
        },
        "id": "FSzA-FKatWOZ",
        "outputId": "bc79a391-2718-4e07-a710-cb0ee97125ae"
      },
      "outputs": [
        {
          "output_type": "execute_result",
          "data": {
            "text/plain": [
              "Date                         0\n",
              "Rented Bike Count            0\n",
              "Hour                         0\n",
              "Temperature(°C)              0\n",
              "Humidity(%)                  0\n",
              "Wind speed (m/s)             0\n",
              "Visibility (10m)             0\n",
              "Dew point temperature(°C)    0\n",
              "Solar Radiation (MJ/m2)      0\n",
              "Rainfall(mm)                 0\n",
              "Snowfall (cm)                0\n",
              "Seasons                      0\n",
              "Holiday                      0\n",
              "Functioning Day              0\n",
              "dtype: int64"
            ]
          },
          "metadata": {},
          "execution_count": 8
        }
      ],
      "source": [
        "#checking missing values\n",
        "bike_df.isna().sum()\n",
        "bike_df.isnull().sum()"
      ]
    },
    {
      "cell_type": "code",
      "execution_count": null,
      "metadata": {
        "colab": {
          "base_uri": "https://localhost:8080/"
        },
        "id": "45sPnTkRwnay",
        "outputId": "493f6f6c-7c78-4cf8-e471-386e573ad202"
      },
      "outputs": [
        {
          "output_type": "stream",
          "name": "stdout",
          "text": [
            "Duplicate values :  0\n"
          ]
        }
      ],
      "source": [
        "#checking duplicate values\n",
        "print('Duplicate values : ', len(bike_df[bike_df.duplicated()]))"
      ]
    },
    {
      "cell_type": "code",
      "execution_count": null,
      "metadata": {
        "colab": {
          "base_uri": "https://localhost:8080/"
        },
        "id": "zk-YWLW9wpcz",
        "outputId": "ecb05447-6e01-4035-9043-531bd93c4ee2"
      },
      "outputs": [
        {
          "output_type": "execute_result",
          "data": {
            "text/plain": [
              "1065.25"
            ]
          },
          "metadata": {},
          "execution_count": 10
        }
      ],
      "source": [
        "# Dependent variable is Rented Bike Count. \n",
        "# We will change this numerical output to a binary classification \n",
        "# Adding a new variable with threshold set \n",
        "threshold = bike_df['Rented Bike Count'].quantile(0.75)\n",
        "threshold"
      ]
    },
    {
      "cell_type": "code",
      "execution_count": null,
      "metadata": {
        "colab": {
          "base_uri": "https://localhost:8080/",
          "height": 696
        },
        "id": "PDgsyypZwrhY",
        "outputId": "e1bcbbbb-e608-499e-cec7-566c4229f391"
      },
      "outputs": [
        {
          "output_type": "execute_result",
          "data": {
            "text/plain": [
              "            Date  Rented Bike Count  Hour  Temperature(°C)  Humidity(%)  \\\n",
              "0     01/12/2017                254     0             -5.2           37   \n",
              "1     01/12/2017                204     1             -5.5           38   \n",
              "2     01/12/2017                173     2             -6.0           39   \n",
              "3     01/12/2017                107     3             -6.2           40   \n",
              "4     01/12/2017                 78     4             -6.0           36   \n",
              "...          ...                ...   ...              ...          ...   \n",
              "4995  27/06/2018                152     3             19.4           97   \n",
              "4996  27/06/2018                110     4             19.2           97   \n",
              "4997  27/06/2018                162     5             19.1           97   \n",
              "4998  27/06/2018                417     6             19.2           97   \n",
              "4999  27/06/2018               1084     7             19.3           98   \n",
              "\n",
              "      Wind speed (m/s)  Visibility (10m)  Dew point temperature(°C)  \\\n",
              "0                  2.2              2000                      -17.6   \n",
              "1                  0.8              2000                      -17.6   \n",
              "2                  1.0              2000                      -17.7   \n",
              "3                  0.9              2000                      -17.6   \n",
              "4                  2.3              2000                      -18.6   \n",
              "...                ...               ...                        ...   \n",
              "4995               2.9               282                       18.9   \n",
              "4996               1.0               217                       18.7   \n",
              "4997               1.2               402                       18.6   \n",
              "4998               1.5               157                       18.7   \n",
              "4999               1.0               188                       18.9   \n",
              "\n",
              "      Solar Radiation (MJ/m2)  Rainfall(mm)  Snowfall (cm) Seasons  \\\n",
              "0                        0.00           0.0            0.0  Winter   \n",
              "1                        0.00           0.0            0.0  Winter   \n",
              "2                        0.00           0.0            0.0  Winter   \n",
              "3                        0.00           0.0            0.0  Winter   \n",
              "4                        0.00           0.0            0.0  Winter   \n",
              "...                       ...           ...            ...     ...   \n",
              "4995                     0.00           0.0            0.0  Summer   \n",
              "4996                     0.00           0.5            0.0  Summer   \n",
              "4997                     0.00           0.0            0.0  Summer   \n",
              "4998                     0.00           0.0            0.0  Summer   \n",
              "4999                     0.06           0.0            0.0  Summer   \n",
              "\n",
              "         Holiday Functioning Day  Rented_Bike_Count_Value  \n",
              "0     No Holiday             Yes                      0.0  \n",
              "1     No Holiday             Yes                      0.0  \n",
              "2     No Holiday             Yes                      0.0  \n",
              "3     No Holiday             Yes                      0.0  \n",
              "4     No Holiday             Yes                      0.0  \n",
              "...          ...             ...                      ...  \n",
              "4995  No Holiday             Yes                      0.0  \n",
              "4996  No Holiday             Yes                      0.0  \n",
              "4997  No Holiday             Yes                      0.0  \n",
              "4998  No Holiday             Yes                      0.0  \n",
              "4999  No Holiday             Yes                      1.0  \n",
              "\n",
              "[5000 rows x 15 columns]"
            ],
            "text/html": [
              "\n",
              "  <div id=\"df-481935bc-8aef-4437-9369-3ae5806c07f7\">\n",
              "    <div class=\"colab-df-container\">\n",
              "      <div>\n",
              "<style scoped>\n",
              "    .dataframe tbody tr th:only-of-type {\n",
              "        vertical-align: middle;\n",
              "    }\n",
              "\n",
              "    .dataframe tbody tr th {\n",
              "        vertical-align: top;\n",
              "    }\n",
              "\n",
              "    .dataframe thead th {\n",
              "        text-align: right;\n",
              "    }\n",
              "</style>\n",
              "<table border=\"1\" class=\"dataframe\">\n",
              "  <thead>\n",
              "    <tr style=\"text-align: right;\">\n",
              "      <th></th>\n",
              "      <th>Date</th>\n",
              "      <th>Rented Bike Count</th>\n",
              "      <th>Hour</th>\n",
              "      <th>Temperature(°C)</th>\n",
              "      <th>Humidity(%)</th>\n",
              "      <th>Wind speed (m/s)</th>\n",
              "      <th>Visibility (10m)</th>\n",
              "      <th>Dew point temperature(°C)</th>\n",
              "      <th>Solar Radiation (MJ/m2)</th>\n",
              "      <th>Rainfall(mm)</th>\n",
              "      <th>Snowfall (cm)</th>\n",
              "      <th>Seasons</th>\n",
              "      <th>Holiday</th>\n",
              "      <th>Functioning Day</th>\n",
              "      <th>Rented_Bike_Count_Value</th>\n",
              "    </tr>\n",
              "  </thead>\n",
              "  <tbody>\n",
              "    <tr>\n",
              "      <th>0</th>\n",
              "      <td>01/12/2017</td>\n",
              "      <td>254</td>\n",
              "      <td>0</td>\n",
              "      <td>-5.2</td>\n",
              "      <td>37</td>\n",
              "      <td>2.2</td>\n",
              "      <td>2000</td>\n",
              "      <td>-17.6</td>\n",
              "      <td>0.00</td>\n",
              "      <td>0.0</td>\n",
              "      <td>0.0</td>\n",
              "      <td>Winter</td>\n",
              "      <td>No Holiday</td>\n",
              "      <td>Yes</td>\n",
              "      <td>0.0</td>\n",
              "    </tr>\n",
              "    <tr>\n",
              "      <th>1</th>\n",
              "      <td>01/12/2017</td>\n",
              "      <td>204</td>\n",
              "      <td>1</td>\n",
              "      <td>-5.5</td>\n",
              "      <td>38</td>\n",
              "      <td>0.8</td>\n",
              "      <td>2000</td>\n",
              "      <td>-17.6</td>\n",
              "      <td>0.00</td>\n",
              "      <td>0.0</td>\n",
              "      <td>0.0</td>\n",
              "      <td>Winter</td>\n",
              "      <td>No Holiday</td>\n",
              "      <td>Yes</td>\n",
              "      <td>0.0</td>\n",
              "    </tr>\n",
              "    <tr>\n",
              "      <th>2</th>\n",
              "      <td>01/12/2017</td>\n",
              "      <td>173</td>\n",
              "      <td>2</td>\n",
              "      <td>-6.0</td>\n",
              "      <td>39</td>\n",
              "      <td>1.0</td>\n",
              "      <td>2000</td>\n",
              "      <td>-17.7</td>\n",
              "      <td>0.00</td>\n",
              "      <td>0.0</td>\n",
              "      <td>0.0</td>\n",
              "      <td>Winter</td>\n",
              "      <td>No Holiday</td>\n",
              "      <td>Yes</td>\n",
              "      <td>0.0</td>\n",
              "    </tr>\n",
              "    <tr>\n",
              "      <th>3</th>\n",
              "      <td>01/12/2017</td>\n",
              "      <td>107</td>\n",
              "      <td>3</td>\n",
              "      <td>-6.2</td>\n",
              "      <td>40</td>\n",
              "      <td>0.9</td>\n",
              "      <td>2000</td>\n",
              "      <td>-17.6</td>\n",
              "      <td>0.00</td>\n",
              "      <td>0.0</td>\n",
              "      <td>0.0</td>\n",
              "      <td>Winter</td>\n",
              "      <td>No Holiday</td>\n",
              "      <td>Yes</td>\n",
              "      <td>0.0</td>\n",
              "    </tr>\n",
              "    <tr>\n",
              "      <th>4</th>\n",
              "      <td>01/12/2017</td>\n",
              "      <td>78</td>\n",
              "      <td>4</td>\n",
              "      <td>-6.0</td>\n",
              "      <td>36</td>\n",
              "      <td>2.3</td>\n",
              "      <td>2000</td>\n",
              "      <td>-18.6</td>\n",
              "      <td>0.00</td>\n",
              "      <td>0.0</td>\n",
              "      <td>0.0</td>\n",
              "      <td>Winter</td>\n",
              "      <td>No Holiday</td>\n",
              "      <td>Yes</td>\n",
              "      <td>0.0</td>\n",
              "    </tr>\n",
              "    <tr>\n",
              "      <th>...</th>\n",
              "      <td>...</td>\n",
              "      <td>...</td>\n",
              "      <td>...</td>\n",
              "      <td>...</td>\n",
              "      <td>...</td>\n",
              "      <td>...</td>\n",
              "      <td>...</td>\n",
              "      <td>...</td>\n",
              "      <td>...</td>\n",
              "      <td>...</td>\n",
              "      <td>...</td>\n",
              "      <td>...</td>\n",
              "      <td>...</td>\n",
              "      <td>...</td>\n",
              "      <td>...</td>\n",
              "    </tr>\n",
              "    <tr>\n",
              "      <th>4995</th>\n",
              "      <td>27/06/2018</td>\n",
              "      <td>152</td>\n",
              "      <td>3</td>\n",
              "      <td>19.4</td>\n",
              "      <td>97</td>\n",
              "      <td>2.9</td>\n",
              "      <td>282</td>\n",
              "      <td>18.9</td>\n",
              "      <td>0.00</td>\n",
              "      <td>0.0</td>\n",
              "      <td>0.0</td>\n",
              "      <td>Summer</td>\n",
              "      <td>No Holiday</td>\n",
              "      <td>Yes</td>\n",
              "      <td>0.0</td>\n",
              "    </tr>\n",
              "    <tr>\n",
              "      <th>4996</th>\n",
              "      <td>27/06/2018</td>\n",
              "      <td>110</td>\n",
              "      <td>4</td>\n",
              "      <td>19.2</td>\n",
              "      <td>97</td>\n",
              "      <td>1.0</td>\n",
              "      <td>217</td>\n",
              "      <td>18.7</td>\n",
              "      <td>0.00</td>\n",
              "      <td>0.5</td>\n",
              "      <td>0.0</td>\n",
              "      <td>Summer</td>\n",
              "      <td>No Holiday</td>\n",
              "      <td>Yes</td>\n",
              "      <td>0.0</td>\n",
              "    </tr>\n",
              "    <tr>\n",
              "      <th>4997</th>\n",
              "      <td>27/06/2018</td>\n",
              "      <td>162</td>\n",
              "      <td>5</td>\n",
              "      <td>19.1</td>\n",
              "      <td>97</td>\n",
              "      <td>1.2</td>\n",
              "      <td>402</td>\n",
              "      <td>18.6</td>\n",
              "      <td>0.00</td>\n",
              "      <td>0.0</td>\n",
              "      <td>0.0</td>\n",
              "      <td>Summer</td>\n",
              "      <td>No Holiday</td>\n",
              "      <td>Yes</td>\n",
              "      <td>0.0</td>\n",
              "    </tr>\n",
              "    <tr>\n",
              "      <th>4998</th>\n",
              "      <td>27/06/2018</td>\n",
              "      <td>417</td>\n",
              "      <td>6</td>\n",
              "      <td>19.2</td>\n",
              "      <td>97</td>\n",
              "      <td>1.5</td>\n",
              "      <td>157</td>\n",
              "      <td>18.7</td>\n",
              "      <td>0.00</td>\n",
              "      <td>0.0</td>\n",
              "      <td>0.0</td>\n",
              "      <td>Summer</td>\n",
              "      <td>No Holiday</td>\n",
              "      <td>Yes</td>\n",
              "      <td>0.0</td>\n",
              "    </tr>\n",
              "    <tr>\n",
              "      <th>4999</th>\n",
              "      <td>27/06/2018</td>\n",
              "      <td>1084</td>\n",
              "      <td>7</td>\n",
              "      <td>19.3</td>\n",
              "      <td>98</td>\n",
              "      <td>1.0</td>\n",
              "      <td>188</td>\n",
              "      <td>18.9</td>\n",
              "      <td>0.06</td>\n",
              "      <td>0.0</td>\n",
              "      <td>0.0</td>\n",
              "      <td>Summer</td>\n",
              "      <td>No Holiday</td>\n",
              "      <td>Yes</td>\n",
              "      <td>1.0</td>\n",
              "    </tr>\n",
              "  </tbody>\n",
              "</table>\n",
              "<p>5000 rows × 15 columns</p>\n",
              "</div>\n",
              "      <button class=\"colab-df-convert\" onclick=\"convertToInteractive('df-481935bc-8aef-4437-9369-3ae5806c07f7')\"\n",
              "              title=\"Convert this dataframe to an interactive table.\"\n",
              "              style=\"display:none;\">\n",
              "        \n",
              "  <svg xmlns=\"http://www.w3.org/2000/svg\" height=\"24px\"viewBox=\"0 0 24 24\"\n",
              "       width=\"24px\">\n",
              "    <path d=\"M0 0h24v24H0V0z\" fill=\"none\"/>\n",
              "    <path d=\"M18.56 5.44l.94 2.06.94-2.06 2.06-.94-2.06-.94-.94-2.06-.94 2.06-2.06.94zm-11 1L8.5 8.5l.94-2.06 2.06-.94-2.06-.94L8.5 2.5l-.94 2.06-2.06.94zm10 10l.94 2.06.94-2.06 2.06-.94-2.06-.94-.94-2.06-.94 2.06-2.06.94z\"/><path d=\"M17.41 7.96l-1.37-1.37c-.4-.4-.92-.59-1.43-.59-.52 0-1.04.2-1.43.59L10.3 9.45l-7.72 7.72c-.78.78-.78 2.05 0 2.83L4 21.41c.39.39.9.59 1.41.59.51 0 1.02-.2 1.41-.59l7.78-7.78 2.81-2.81c.8-.78.8-2.07 0-2.86zM5.41 20L4 18.59l7.72-7.72 1.47 1.35L5.41 20z\"/>\n",
              "  </svg>\n",
              "      </button>\n",
              "      \n",
              "  <style>\n",
              "    .colab-df-container {\n",
              "      display:flex;\n",
              "      flex-wrap:wrap;\n",
              "      gap: 12px;\n",
              "    }\n",
              "\n",
              "    .colab-df-convert {\n",
              "      background-color: #E8F0FE;\n",
              "      border: none;\n",
              "      border-radius: 50%;\n",
              "      cursor: pointer;\n",
              "      display: none;\n",
              "      fill: #1967D2;\n",
              "      height: 32px;\n",
              "      padding: 0 0 0 0;\n",
              "      width: 32px;\n",
              "    }\n",
              "\n",
              "    .colab-df-convert:hover {\n",
              "      background-color: #E2EBFA;\n",
              "      box-shadow: 0px 1px 2px rgba(60, 64, 67, 0.3), 0px 1px 3px 1px rgba(60, 64, 67, 0.15);\n",
              "      fill: #174EA6;\n",
              "    }\n",
              "\n",
              "    [theme=dark] .colab-df-convert {\n",
              "      background-color: #3B4455;\n",
              "      fill: #D2E3FC;\n",
              "    }\n",
              "\n",
              "    [theme=dark] .colab-df-convert:hover {\n",
              "      background-color: #434B5C;\n",
              "      box-shadow: 0px 1px 3px 1px rgba(0, 0, 0, 0.15);\n",
              "      filter: drop-shadow(0px 1px 2px rgba(0, 0, 0, 0.3));\n",
              "      fill: #FFFFFF;\n",
              "    }\n",
              "  </style>\n",
              "\n",
              "      <script>\n",
              "        const buttonEl =\n",
              "          document.querySelector('#df-481935bc-8aef-4437-9369-3ae5806c07f7 button.colab-df-convert');\n",
              "        buttonEl.style.display =\n",
              "          google.colab.kernel.accessAllowed ? 'block' : 'none';\n",
              "\n",
              "        async function convertToInteractive(key) {\n",
              "          const element = document.querySelector('#df-481935bc-8aef-4437-9369-3ae5806c07f7');\n",
              "          const dataTable =\n",
              "            await google.colab.kernel.invokeFunction('convertToInteractive',\n",
              "                                                     [key], {});\n",
              "          if (!dataTable) return;\n",
              "\n",
              "          const docLinkHtml = 'Like what you see? Visit the ' +\n",
              "            '<a target=\"_blank\" href=https://colab.research.google.com/notebooks/data_table.ipynb>data table notebook</a>'\n",
              "            + ' to learn more about interactive tables.';\n",
              "          element.innerHTML = '';\n",
              "          dataTable['output_type'] = 'display_data';\n",
              "          await google.colab.output.renderOutput(dataTable, element);\n",
              "          const docLink = document.createElement('div');\n",
              "          docLink.innerHTML = docLinkHtml;\n",
              "          element.appendChild(docLink);\n",
              "        }\n",
              "      </script>\n",
              "    </div>\n",
              "  </div>\n",
              "  "
            ]
          },
          "metadata": {},
          "execution_count": 11
        }
      ],
      "source": [
        "# We set the threshold to 1065.25, which is the 75th percentile for Rented Bike Count.\n",
        "# Every field with a bike count above 1065.25 will be labeled 1, \n",
        "# and rest will be labeled 0.\n",
        "# threshold = 1065.25\n",
        "bike_df[\"Rented_Bike_Count_Value\"] = (bike_df['Rented Bike Count'] > threshold).astype(float)\n",
        "bike_df.head(5000)"
      ]
    },
    {
      "cell_type": "markdown",
      "metadata": {
        "id": "etNN7X4ewy3Z"
      },
      "source": [
        "DATA PREPROCESSING"
      ]
    },
    {
      "cell_type": "code",
      "execution_count": null,
      "metadata": {
        "id": "I05YVO81w3aP"
      },
      "outputs": [],
      "source": [
        "# Add few variables (split the date to month, year,weekday and day)\n",
        "bike_df['Date']=pd.to_datetime(bike_df['Date'])\n",
        "from datetime import datetime\n",
        "import datetime as dt\n",
        "\n",
        "bike_df['Year']=bike_df['Date'].dt.year\n",
        "bike_df['Month']=bike_df['Date'].dt.month\n",
        "bike_df['Day']=bike_df['Date'].dt.day\n",
        "bike_df['DayName']=bike_df['Date'].dt.day_name()\n",
        "bike_df['Weekday'] = bike_df['DayName'].apply(lambda x : 1 if x=='Saturday' or x=='Sunday' else 0 )\n",
        "bike_df=bike_df.drop(columns=['Date','DayName','Year'],axis=1)"
      ]
    },
    {
      "cell_type": "code",
      "execution_count": null,
      "metadata": {
        "id": "0GF-5Vsvw8H8"
      },
      "outputs": [],
      "source": [
        "#Holiday, Functioning Day and Seasons need to have dummy variables  (object DType)\n",
        "bike_df = pd.get_dummies(bike_df, columns = ['Seasons',\t'Holiday',\t'Functioning Day'])"
      ]
    },
    {
      "cell_type": "code",
      "execution_count": null,
      "metadata": {
        "colab": {
          "base_uri": "https://localhost:8080/",
          "height": 334
        },
        "id": "E_59ahPuw9le",
        "outputId": "c56ee340-2471-4a88-f64f-474a0e570006"
      },
      "outputs": [
        {
          "output_type": "execute_result",
          "data": {
            "text/plain": [
              "   Rented Bike Count  Hour  Temperature(°C)  Humidity(%)  Wind speed (m/s)  \\\n",
              "0                254     0             -5.2           37               2.2   \n",
              "1                204     1             -5.5           38               0.8   \n",
              "2                173     2             -6.0           39               1.0   \n",
              "3                107     3             -6.2           40               0.9   \n",
              "4                 78     4             -6.0           36               2.3   \n",
              "\n",
              "   Visibility (10m)  Dew point temperature(°C)  Solar Radiation (MJ/m2)  \\\n",
              "0              2000                      -17.6                      0.0   \n",
              "1              2000                      -17.6                      0.0   \n",
              "2              2000                      -17.7                      0.0   \n",
              "3              2000                      -17.6                      0.0   \n",
              "4              2000                      -18.6                      0.0   \n",
              "\n",
              "   Rainfall(mm)  Snowfall (cm)  ...  Day  Weekday  Seasons_Autumn  \\\n",
              "0           0.0            0.0  ...   12        0               0   \n",
              "1           0.0            0.0  ...   12        0               0   \n",
              "2           0.0            0.0  ...   12        0               0   \n",
              "3           0.0            0.0  ...   12        0               0   \n",
              "4           0.0            0.0  ...   12        0               0   \n",
              "\n",
              "   Seasons_Spring  Seasons_Summer  Seasons_Winter  Holiday_Holiday  \\\n",
              "0               0               0               1                0   \n",
              "1               0               0               1                0   \n",
              "2               0               0               1                0   \n",
              "3               0               0               1                0   \n",
              "4               0               0               1                0   \n",
              "\n",
              "   Holiday_No Holiday  Functioning Day_No  Functioning Day_Yes  \n",
              "0                   1                   0                    1  \n",
              "1                   1                   0                    1  \n",
              "2                   1                   0                    1  \n",
              "3                   1                   0                    1  \n",
              "4                   1                   0                    1  \n",
              "\n",
              "[5 rows x 22 columns]"
            ],
            "text/html": [
              "\n",
              "  <div id=\"df-62c07211-1a8a-49e0-a421-9bd155975998\">\n",
              "    <div class=\"colab-df-container\">\n",
              "      <div>\n",
              "<style scoped>\n",
              "    .dataframe tbody tr th:only-of-type {\n",
              "        vertical-align: middle;\n",
              "    }\n",
              "\n",
              "    .dataframe tbody tr th {\n",
              "        vertical-align: top;\n",
              "    }\n",
              "\n",
              "    .dataframe thead th {\n",
              "        text-align: right;\n",
              "    }\n",
              "</style>\n",
              "<table border=\"1\" class=\"dataframe\">\n",
              "  <thead>\n",
              "    <tr style=\"text-align: right;\">\n",
              "      <th></th>\n",
              "      <th>Rented Bike Count</th>\n",
              "      <th>Hour</th>\n",
              "      <th>Temperature(°C)</th>\n",
              "      <th>Humidity(%)</th>\n",
              "      <th>Wind speed (m/s)</th>\n",
              "      <th>Visibility (10m)</th>\n",
              "      <th>Dew point temperature(°C)</th>\n",
              "      <th>Solar Radiation (MJ/m2)</th>\n",
              "      <th>Rainfall(mm)</th>\n",
              "      <th>Snowfall (cm)</th>\n",
              "      <th>...</th>\n",
              "      <th>Day</th>\n",
              "      <th>Weekday</th>\n",
              "      <th>Seasons_Autumn</th>\n",
              "      <th>Seasons_Spring</th>\n",
              "      <th>Seasons_Summer</th>\n",
              "      <th>Seasons_Winter</th>\n",
              "      <th>Holiday_Holiday</th>\n",
              "      <th>Holiday_No Holiday</th>\n",
              "      <th>Functioning Day_No</th>\n",
              "      <th>Functioning Day_Yes</th>\n",
              "    </tr>\n",
              "  </thead>\n",
              "  <tbody>\n",
              "    <tr>\n",
              "      <th>0</th>\n",
              "      <td>254</td>\n",
              "      <td>0</td>\n",
              "      <td>-5.2</td>\n",
              "      <td>37</td>\n",
              "      <td>2.2</td>\n",
              "      <td>2000</td>\n",
              "      <td>-17.6</td>\n",
              "      <td>0.0</td>\n",
              "      <td>0.0</td>\n",
              "      <td>0.0</td>\n",
              "      <td>...</td>\n",
              "      <td>12</td>\n",
              "      <td>0</td>\n",
              "      <td>0</td>\n",
              "      <td>0</td>\n",
              "      <td>0</td>\n",
              "      <td>1</td>\n",
              "      <td>0</td>\n",
              "      <td>1</td>\n",
              "      <td>0</td>\n",
              "      <td>1</td>\n",
              "    </tr>\n",
              "    <tr>\n",
              "      <th>1</th>\n",
              "      <td>204</td>\n",
              "      <td>1</td>\n",
              "      <td>-5.5</td>\n",
              "      <td>38</td>\n",
              "      <td>0.8</td>\n",
              "      <td>2000</td>\n",
              "      <td>-17.6</td>\n",
              "      <td>0.0</td>\n",
              "      <td>0.0</td>\n",
              "      <td>0.0</td>\n",
              "      <td>...</td>\n",
              "      <td>12</td>\n",
              "      <td>0</td>\n",
              "      <td>0</td>\n",
              "      <td>0</td>\n",
              "      <td>0</td>\n",
              "      <td>1</td>\n",
              "      <td>0</td>\n",
              "      <td>1</td>\n",
              "      <td>0</td>\n",
              "      <td>1</td>\n",
              "    </tr>\n",
              "    <tr>\n",
              "      <th>2</th>\n",
              "      <td>173</td>\n",
              "      <td>2</td>\n",
              "      <td>-6.0</td>\n",
              "      <td>39</td>\n",
              "      <td>1.0</td>\n",
              "      <td>2000</td>\n",
              "      <td>-17.7</td>\n",
              "      <td>0.0</td>\n",
              "      <td>0.0</td>\n",
              "      <td>0.0</td>\n",
              "      <td>...</td>\n",
              "      <td>12</td>\n",
              "      <td>0</td>\n",
              "      <td>0</td>\n",
              "      <td>0</td>\n",
              "      <td>0</td>\n",
              "      <td>1</td>\n",
              "      <td>0</td>\n",
              "      <td>1</td>\n",
              "      <td>0</td>\n",
              "      <td>1</td>\n",
              "    </tr>\n",
              "    <tr>\n",
              "      <th>3</th>\n",
              "      <td>107</td>\n",
              "      <td>3</td>\n",
              "      <td>-6.2</td>\n",
              "      <td>40</td>\n",
              "      <td>0.9</td>\n",
              "      <td>2000</td>\n",
              "      <td>-17.6</td>\n",
              "      <td>0.0</td>\n",
              "      <td>0.0</td>\n",
              "      <td>0.0</td>\n",
              "      <td>...</td>\n",
              "      <td>12</td>\n",
              "      <td>0</td>\n",
              "      <td>0</td>\n",
              "      <td>0</td>\n",
              "      <td>0</td>\n",
              "      <td>1</td>\n",
              "      <td>0</td>\n",
              "      <td>1</td>\n",
              "      <td>0</td>\n",
              "      <td>1</td>\n",
              "    </tr>\n",
              "    <tr>\n",
              "      <th>4</th>\n",
              "      <td>78</td>\n",
              "      <td>4</td>\n",
              "      <td>-6.0</td>\n",
              "      <td>36</td>\n",
              "      <td>2.3</td>\n",
              "      <td>2000</td>\n",
              "      <td>-18.6</td>\n",
              "      <td>0.0</td>\n",
              "      <td>0.0</td>\n",
              "      <td>0.0</td>\n",
              "      <td>...</td>\n",
              "      <td>12</td>\n",
              "      <td>0</td>\n",
              "      <td>0</td>\n",
              "      <td>0</td>\n",
              "      <td>0</td>\n",
              "      <td>1</td>\n",
              "      <td>0</td>\n",
              "      <td>1</td>\n",
              "      <td>0</td>\n",
              "      <td>1</td>\n",
              "    </tr>\n",
              "  </tbody>\n",
              "</table>\n",
              "<p>5 rows × 22 columns</p>\n",
              "</div>\n",
              "      <button class=\"colab-df-convert\" onclick=\"convertToInteractive('df-62c07211-1a8a-49e0-a421-9bd155975998')\"\n",
              "              title=\"Convert this dataframe to an interactive table.\"\n",
              "              style=\"display:none;\">\n",
              "        \n",
              "  <svg xmlns=\"http://www.w3.org/2000/svg\" height=\"24px\"viewBox=\"0 0 24 24\"\n",
              "       width=\"24px\">\n",
              "    <path d=\"M0 0h24v24H0V0z\" fill=\"none\"/>\n",
              "    <path d=\"M18.56 5.44l.94 2.06.94-2.06 2.06-.94-2.06-.94-.94-2.06-.94 2.06-2.06.94zm-11 1L8.5 8.5l.94-2.06 2.06-.94-2.06-.94L8.5 2.5l-.94 2.06-2.06.94zm10 10l.94 2.06.94-2.06 2.06-.94-2.06-.94-.94-2.06-.94 2.06-2.06.94z\"/><path d=\"M17.41 7.96l-1.37-1.37c-.4-.4-.92-.59-1.43-.59-.52 0-1.04.2-1.43.59L10.3 9.45l-7.72 7.72c-.78.78-.78 2.05 0 2.83L4 21.41c.39.39.9.59 1.41.59.51 0 1.02-.2 1.41-.59l7.78-7.78 2.81-2.81c.8-.78.8-2.07 0-2.86zM5.41 20L4 18.59l7.72-7.72 1.47 1.35L5.41 20z\"/>\n",
              "  </svg>\n",
              "      </button>\n",
              "      \n",
              "  <style>\n",
              "    .colab-df-container {\n",
              "      display:flex;\n",
              "      flex-wrap:wrap;\n",
              "      gap: 12px;\n",
              "    }\n",
              "\n",
              "    .colab-df-convert {\n",
              "      background-color: #E8F0FE;\n",
              "      border: none;\n",
              "      border-radius: 50%;\n",
              "      cursor: pointer;\n",
              "      display: none;\n",
              "      fill: #1967D2;\n",
              "      height: 32px;\n",
              "      padding: 0 0 0 0;\n",
              "      width: 32px;\n",
              "    }\n",
              "\n",
              "    .colab-df-convert:hover {\n",
              "      background-color: #E2EBFA;\n",
              "      box-shadow: 0px 1px 2px rgba(60, 64, 67, 0.3), 0px 1px 3px 1px rgba(60, 64, 67, 0.15);\n",
              "      fill: #174EA6;\n",
              "    }\n",
              "\n",
              "    [theme=dark] .colab-df-convert {\n",
              "      background-color: #3B4455;\n",
              "      fill: #D2E3FC;\n",
              "    }\n",
              "\n",
              "    [theme=dark] .colab-df-convert:hover {\n",
              "      background-color: #434B5C;\n",
              "      box-shadow: 0px 1px 3px 1px rgba(0, 0, 0, 0.15);\n",
              "      filter: drop-shadow(0px 1px 2px rgba(0, 0, 0, 0.3));\n",
              "      fill: #FFFFFF;\n",
              "    }\n",
              "  </style>\n",
              "\n",
              "      <script>\n",
              "        const buttonEl =\n",
              "          document.querySelector('#df-62c07211-1a8a-49e0-a421-9bd155975998 button.colab-df-convert');\n",
              "        buttonEl.style.display =\n",
              "          google.colab.kernel.accessAllowed ? 'block' : 'none';\n",
              "\n",
              "        async function convertToInteractive(key) {\n",
              "          const element = document.querySelector('#df-62c07211-1a8a-49e0-a421-9bd155975998');\n",
              "          const dataTable =\n",
              "            await google.colab.kernel.invokeFunction('convertToInteractive',\n",
              "                                                     [key], {});\n",
              "          if (!dataTable) return;\n",
              "\n",
              "          const docLinkHtml = 'Like what you see? Visit the ' +\n",
              "            '<a target=\"_blank\" href=https://colab.research.google.com/notebooks/data_table.ipynb>data table notebook</a>'\n",
              "            + ' to learn more about interactive tables.';\n",
              "          element.innerHTML = '';\n",
              "          dataTable['output_type'] = 'display_data';\n",
              "          await google.colab.output.renderOutput(dataTable, element);\n",
              "          const docLink = document.createElement('div');\n",
              "          docLink.innerHTML = docLinkHtml;\n",
              "          element.appendChild(docLink);\n",
              "        }\n",
              "      </script>\n",
              "    </div>\n",
              "  </div>\n",
              "  "
            ]
          },
          "metadata": {},
          "execution_count": 14
        }
      ],
      "source": [
        "bike_df.head()"
      ]
    },
    {
      "cell_type": "markdown",
      "metadata": {
        "id": "GNmwHuKuxDZ6"
      },
      "source": [
        "DECLARE FEATURE VECTOR AND TARGET VARIABLE"
      ]
    },
    {
      "cell_type": "code",
      "execution_count": null,
      "metadata": {
        "id": "h_C-qpmoxEVj"
      },
      "outputs": [],
      "source": [
        "# Split the features in X and Y\n",
        "X = bike_df.drop(columns=['Rented_Bike_Count_Value','Rented Bike Count'], axis=1)\n",
        "y = bike_df['Rented_Bike_Count_Value']"
      ]
    },
    {
      "cell_type": "markdown",
      "metadata": {
        "id": "F8-gYg-7xMEC"
      },
      "source": [
        "SPLIT DATA TO TRAINING AND TEST SET"
      ]
    },
    {
      "cell_type": "code",
      "execution_count": null,
      "metadata": {
        "colab": {
          "base_uri": "https://localhost:8080/"
        },
        "id": "hhA2iLNpxMgw",
        "outputId": "97283ccc-9091-459d-b0a3-639133517299"
      },
      "outputs": [
        {
          "output_type": "stream",
          "name": "stdout",
          "text": [
            "(6132, 20)\n",
            "(2628, 20)\n"
          ]
        }
      ],
      "source": [
        "#Create test and train data\n",
        "from sklearn.model_selection import train_test_split\n",
        "#split the data by percentage\n",
        "X_train, X_test, y_train, y_test = train_test_split(X,y, test_size=0.3, random_state=0)\n",
        "\n",
        "#checking the shape of X_train and X_test\n",
        "print(X_train.shape)\n",
        "print(X_test.shape)"
      ]
    },
    {
      "cell_type": "markdown",
      "metadata": {
        "id": "2IKByuiUxQcI"
      },
      "source": [
        "FEATURE SCALING"
      ]
    },
    {
      "cell_type": "code",
      "execution_count": null,
      "metadata": {
        "id": "ybDHIXvaxRVE"
      },
      "outputs": [],
      "source": [
        "cols = X_train.columns"
      ]
    },
    {
      "cell_type": "code",
      "execution_count": null,
      "metadata": {
        "colab": {
          "base_uri": "https://localhost:8080/"
        },
        "id": "eaqgPVajxTdj",
        "outputId": "43091d7c-64a7-40e0-879d-ea34db8bdcd7"
      },
      "outputs": [
        {
          "output_type": "stream",
          "name": "stdout",
          "text": [
            "------Data Standardization------\n"
          ]
        }
      ],
      "source": [
        "print(\"------Data Standardization------\")\n",
        "sc = StandardScaler()\n",
        "X_train = sc.fit_transform(X_train)\n",
        "X_test = sc.transform(X_test)"
      ]
    },
    {
      "cell_type": "code",
      "execution_count": null,
      "metadata": {
        "id": "TZRYIs_dxU6N"
      },
      "outputs": [],
      "source": [
        "X_train = pd.DataFrame(X_train, columns=[cols])"
      ]
    },
    {
      "cell_type": "code",
      "execution_count": null,
      "metadata": {
        "id": "GMIRNbyKxW_v"
      },
      "outputs": [],
      "source": [
        "X_test = pd.DataFrame(X_test, columns=[cols])"
      ]
    },
    {
      "cell_type": "code",
      "execution_count": null,
      "metadata": {
        "colab": {
          "base_uri": "https://localhost:8080/",
          "height": 486
        },
        "id": "F0GjW8EoxYo9",
        "outputId": "4f73d7da-0b97-496c-b58f-84a3e0437515"
      },
      "outputs": [
        {
          "output_type": "execute_result",
          "data": {
            "text/plain": [
              "               Hour Temperature(°C)   Humidity(%) Wind speed (m/s)  \\\n",
              "count  6.132000e+03    6.132000e+03  6.132000e+03     6.132000e+03   \n",
              "mean  -1.100808e-16   -5.156417e-17 -9.791399e-17     5.677853e-17   \n",
              "std    1.000082e+00    1.000082e+00  1.000082e+00     1.000082e+00   \n",
              "min   -1.659334e+00   -2.533723e+00 -2.852222e+00    -1.653769e+00   \n",
              "25%   -9.364391e-01   -8.061881e-01 -7.873192e-01    -7.905332e-01   \n",
              "50%    7.561397e-02    7.009769e-02 -4.985388e-02    -2.150426e-01   \n",
              "75%    7.985090e-01    8.128542e-01  7.859402e-01     5.522783e-01   \n",
              "max    1.665983e+00    2.206566e+00  1.965885e+00     5.443949e+00   \n",
              "\n",
              "      Visibility (10m) Dew point temperature(°C) Solar Radiation (MJ/m2)  \\\n",
              "count     6.132000e+03              6.132000e+03            6.132000e+03   \n",
              "mean     -1.234064e-16             -6.199288e-17            1.042871e-16   \n",
              "std       1.000082e+00              1.000082e+00            1.000082e+00   \n",
              "min      -2.314733e+00             -2.643712e+00           -6.563217e-01   \n",
              "25%      -8.106573e-01             -6.793708e-01           -6.563217e-01   \n",
              "50%       4.410263e-01              7.732100e-02           -6.448790e-01   \n",
              "75%       9.195024e-01              8.187261e-01            4.192940e-01   \n",
              "max       9.195024e-01              1.728285e+00            3.371516e+00   \n",
              "\n",
              "       Rainfall(mm) Snowfall (cm)         Month           Day       Weekday  \\\n",
              "count  6.132000e+03  6.132000e+03  6.132000e+03  6.132000e+03  6.132000e+03   \n",
              "mean   2.549240e-17 -5.677853e-17 -1.315176e-16  2.201616e-17  1.448432e-17   \n",
              "std    1.000082e+00  1.000082e+00  1.000082e+00  1.000082e+00  1.000082e+00   \n",
              "min   -1.258994e-01 -1.733208e-01 -1.607790e+00 -1.665353e+00 -6.354889e-01   \n",
              "25%   -1.258994e-01 -1.733208e-01 -7.372153e-01 -8.695962e-01 -6.354889e-01   \n",
              "50%   -1.258994e-01 -1.733208e-01  1.333594e-01  3.983973e-02 -6.354889e-01   \n",
              "75%   -1.258994e-01 -1.733208e-01  1.003934e+00  8.355961e-01  1.573592e+00   \n",
              "max    3.057577e+01  2.028756e+01  1.584317e+00  1.745032e+00  1.573592e+00   \n",
              "\n",
              "      Seasons_Autumn Seasons_Spring Seasons_Summer Seasons_Winter  \\\n",
              "count   6.132000e+03   6.132000e+03   6.132000e+03   6.132000e+03   \n",
              "mean   -1.506369e-17   8.111218e-17   1.390495e-17   1.390495e-17   \n",
              "std     1.000082e+00   1.000082e+00   1.000082e+00   1.000082e+00   \n",
              "min    -5.788567e-01  -5.811165e-01  -5.786057e-01  -5.708221e-01   \n",
              "25%    -5.788567e-01  -5.811165e-01  -5.786057e-01  -5.708221e-01   \n",
              "50%    -5.788567e-01  -5.811165e-01  -5.786057e-01  -5.708221e-01   \n",
              "75%     1.727543e+00   1.720825e+00   1.728293e+00  -5.708221e-01   \n",
              "max     1.727543e+00   1.720825e+00   1.728293e+00   1.751859e+00   \n",
              "\n",
              "      Holiday_Holiday Holiday_No Holiday Functioning Day_No  \\\n",
              "count    6.132000e+03       6.132000e+03       6.132000e+03   \n",
              "mean     7.705658e-17      -7.705658e-17       4.113546e-17   \n",
              "std      1.000082e+00       1.000082e+00       1.000082e+00   \n",
              "min     -2.252103e-01      -4.440295e+00      -1.826665e-01   \n",
              "25%     -2.252103e-01       2.252103e-01      -1.826665e-01   \n",
              "50%     -2.252103e-01       2.252103e-01      -1.826665e-01   \n",
              "75%     -2.252103e-01       2.252103e-01      -1.826665e-01   \n",
              "max      4.440295e+00       2.252103e-01       5.474459e+00   \n",
              "\n",
              "      Functioning Day_Yes  \n",
              "count        6.132000e+03  \n",
              "mean        -1.657006e-16  \n",
              "std          1.000082e+00  \n",
              "min         -5.474459e+00  \n",
              "25%          1.826665e-01  \n",
              "50%          1.826665e-01  \n",
              "75%          1.826665e-01  \n",
              "max          1.826665e-01  "
            ],
            "text/html": [
              "\n",
              "  <div id=\"df-e2d333b7-6f69-4d80-933a-1c07d98f107a\">\n",
              "    <div class=\"colab-df-container\">\n",
              "      <div>\n",
              "<style scoped>\n",
              "    .dataframe tbody tr th:only-of-type {\n",
              "        vertical-align: middle;\n",
              "    }\n",
              "\n",
              "    .dataframe tbody tr th {\n",
              "        vertical-align: top;\n",
              "    }\n",
              "\n",
              "    .dataframe thead tr th {\n",
              "        text-align: left;\n",
              "    }\n",
              "</style>\n",
              "<table border=\"1\" class=\"dataframe\">\n",
              "  <thead>\n",
              "    <tr>\n",
              "      <th></th>\n",
              "      <th>Hour</th>\n",
              "      <th>Temperature(°C)</th>\n",
              "      <th>Humidity(%)</th>\n",
              "      <th>Wind speed (m/s)</th>\n",
              "      <th>Visibility (10m)</th>\n",
              "      <th>Dew point temperature(°C)</th>\n",
              "      <th>Solar Radiation (MJ/m2)</th>\n",
              "      <th>Rainfall(mm)</th>\n",
              "      <th>Snowfall (cm)</th>\n",
              "      <th>Month</th>\n",
              "      <th>Day</th>\n",
              "      <th>Weekday</th>\n",
              "      <th>Seasons_Autumn</th>\n",
              "      <th>Seasons_Spring</th>\n",
              "      <th>Seasons_Summer</th>\n",
              "      <th>Seasons_Winter</th>\n",
              "      <th>Holiday_Holiday</th>\n",
              "      <th>Holiday_No Holiday</th>\n",
              "      <th>Functioning Day_No</th>\n",
              "      <th>Functioning Day_Yes</th>\n",
              "    </tr>\n",
              "  </thead>\n",
              "  <tbody>\n",
              "    <tr>\n",
              "      <th>count</th>\n",
              "      <td>6.132000e+03</td>\n",
              "      <td>6.132000e+03</td>\n",
              "      <td>6.132000e+03</td>\n",
              "      <td>6.132000e+03</td>\n",
              "      <td>6.132000e+03</td>\n",
              "      <td>6.132000e+03</td>\n",
              "      <td>6.132000e+03</td>\n",
              "      <td>6.132000e+03</td>\n",
              "      <td>6.132000e+03</td>\n",
              "      <td>6.132000e+03</td>\n",
              "      <td>6.132000e+03</td>\n",
              "      <td>6.132000e+03</td>\n",
              "      <td>6.132000e+03</td>\n",
              "      <td>6.132000e+03</td>\n",
              "      <td>6.132000e+03</td>\n",
              "      <td>6.132000e+03</td>\n",
              "      <td>6.132000e+03</td>\n",
              "      <td>6.132000e+03</td>\n",
              "      <td>6.132000e+03</td>\n",
              "      <td>6.132000e+03</td>\n",
              "    </tr>\n",
              "    <tr>\n",
              "      <th>mean</th>\n",
              "      <td>-1.100808e-16</td>\n",
              "      <td>-5.156417e-17</td>\n",
              "      <td>-9.791399e-17</td>\n",
              "      <td>5.677853e-17</td>\n",
              "      <td>-1.234064e-16</td>\n",
              "      <td>-6.199288e-17</td>\n",
              "      <td>1.042871e-16</td>\n",
              "      <td>2.549240e-17</td>\n",
              "      <td>-5.677853e-17</td>\n",
              "      <td>-1.315176e-16</td>\n",
              "      <td>2.201616e-17</td>\n",
              "      <td>1.448432e-17</td>\n",
              "      <td>-1.506369e-17</td>\n",
              "      <td>8.111218e-17</td>\n",
              "      <td>1.390495e-17</td>\n",
              "      <td>1.390495e-17</td>\n",
              "      <td>7.705658e-17</td>\n",
              "      <td>-7.705658e-17</td>\n",
              "      <td>4.113546e-17</td>\n",
              "      <td>-1.657006e-16</td>\n",
              "    </tr>\n",
              "    <tr>\n",
              "      <th>std</th>\n",
              "      <td>1.000082e+00</td>\n",
              "      <td>1.000082e+00</td>\n",
              "      <td>1.000082e+00</td>\n",
              "      <td>1.000082e+00</td>\n",
              "      <td>1.000082e+00</td>\n",
              "      <td>1.000082e+00</td>\n",
              "      <td>1.000082e+00</td>\n",
              "      <td>1.000082e+00</td>\n",
              "      <td>1.000082e+00</td>\n",
              "      <td>1.000082e+00</td>\n",
              "      <td>1.000082e+00</td>\n",
              "      <td>1.000082e+00</td>\n",
              "      <td>1.000082e+00</td>\n",
              "      <td>1.000082e+00</td>\n",
              "      <td>1.000082e+00</td>\n",
              "      <td>1.000082e+00</td>\n",
              "      <td>1.000082e+00</td>\n",
              "      <td>1.000082e+00</td>\n",
              "      <td>1.000082e+00</td>\n",
              "      <td>1.000082e+00</td>\n",
              "    </tr>\n",
              "    <tr>\n",
              "      <th>min</th>\n",
              "      <td>-1.659334e+00</td>\n",
              "      <td>-2.533723e+00</td>\n",
              "      <td>-2.852222e+00</td>\n",
              "      <td>-1.653769e+00</td>\n",
              "      <td>-2.314733e+00</td>\n",
              "      <td>-2.643712e+00</td>\n",
              "      <td>-6.563217e-01</td>\n",
              "      <td>-1.258994e-01</td>\n",
              "      <td>-1.733208e-01</td>\n",
              "      <td>-1.607790e+00</td>\n",
              "      <td>-1.665353e+00</td>\n",
              "      <td>-6.354889e-01</td>\n",
              "      <td>-5.788567e-01</td>\n",
              "      <td>-5.811165e-01</td>\n",
              "      <td>-5.786057e-01</td>\n",
              "      <td>-5.708221e-01</td>\n",
              "      <td>-2.252103e-01</td>\n",
              "      <td>-4.440295e+00</td>\n",
              "      <td>-1.826665e-01</td>\n",
              "      <td>-5.474459e+00</td>\n",
              "    </tr>\n",
              "    <tr>\n",
              "      <th>25%</th>\n",
              "      <td>-9.364391e-01</td>\n",
              "      <td>-8.061881e-01</td>\n",
              "      <td>-7.873192e-01</td>\n",
              "      <td>-7.905332e-01</td>\n",
              "      <td>-8.106573e-01</td>\n",
              "      <td>-6.793708e-01</td>\n",
              "      <td>-6.563217e-01</td>\n",
              "      <td>-1.258994e-01</td>\n",
              "      <td>-1.733208e-01</td>\n",
              "      <td>-7.372153e-01</td>\n",
              "      <td>-8.695962e-01</td>\n",
              "      <td>-6.354889e-01</td>\n",
              "      <td>-5.788567e-01</td>\n",
              "      <td>-5.811165e-01</td>\n",
              "      <td>-5.786057e-01</td>\n",
              "      <td>-5.708221e-01</td>\n",
              "      <td>-2.252103e-01</td>\n",
              "      <td>2.252103e-01</td>\n",
              "      <td>-1.826665e-01</td>\n",
              "      <td>1.826665e-01</td>\n",
              "    </tr>\n",
              "    <tr>\n",
              "      <th>50%</th>\n",
              "      <td>7.561397e-02</td>\n",
              "      <td>7.009769e-02</td>\n",
              "      <td>-4.985388e-02</td>\n",
              "      <td>-2.150426e-01</td>\n",
              "      <td>4.410263e-01</td>\n",
              "      <td>7.732100e-02</td>\n",
              "      <td>-6.448790e-01</td>\n",
              "      <td>-1.258994e-01</td>\n",
              "      <td>-1.733208e-01</td>\n",
              "      <td>1.333594e-01</td>\n",
              "      <td>3.983973e-02</td>\n",
              "      <td>-6.354889e-01</td>\n",
              "      <td>-5.788567e-01</td>\n",
              "      <td>-5.811165e-01</td>\n",
              "      <td>-5.786057e-01</td>\n",
              "      <td>-5.708221e-01</td>\n",
              "      <td>-2.252103e-01</td>\n",
              "      <td>2.252103e-01</td>\n",
              "      <td>-1.826665e-01</td>\n",
              "      <td>1.826665e-01</td>\n",
              "    </tr>\n",
              "    <tr>\n",
              "      <th>75%</th>\n",
              "      <td>7.985090e-01</td>\n",
              "      <td>8.128542e-01</td>\n",
              "      <td>7.859402e-01</td>\n",
              "      <td>5.522783e-01</td>\n",
              "      <td>9.195024e-01</td>\n",
              "      <td>8.187261e-01</td>\n",
              "      <td>4.192940e-01</td>\n",
              "      <td>-1.258994e-01</td>\n",
              "      <td>-1.733208e-01</td>\n",
              "      <td>1.003934e+00</td>\n",
              "      <td>8.355961e-01</td>\n",
              "      <td>1.573592e+00</td>\n",
              "      <td>1.727543e+00</td>\n",
              "      <td>1.720825e+00</td>\n",
              "      <td>1.728293e+00</td>\n",
              "      <td>-5.708221e-01</td>\n",
              "      <td>-2.252103e-01</td>\n",
              "      <td>2.252103e-01</td>\n",
              "      <td>-1.826665e-01</td>\n",
              "      <td>1.826665e-01</td>\n",
              "    </tr>\n",
              "    <tr>\n",
              "      <th>max</th>\n",
              "      <td>1.665983e+00</td>\n",
              "      <td>2.206566e+00</td>\n",
              "      <td>1.965885e+00</td>\n",
              "      <td>5.443949e+00</td>\n",
              "      <td>9.195024e-01</td>\n",
              "      <td>1.728285e+00</td>\n",
              "      <td>3.371516e+00</td>\n",
              "      <td>3.057577e+01</td>\n",
              "      <td>2.028756e+01</td>\n",
              "      <td>1.584317e+00</td>\n",
              "      <td>1.745032e+00</td>\n",
              "      <td>1.573592e+00</td>\n",
              "      <td>1.727543e+00</td>\n",
              "      <td>1.720825e+00</td>\n",
              "      <td>1.728293e+00</td>\n",
              "      <td>1.751859e+00</td>\n",
              "      <td>4.440295e+00</td>\n",
              "      <td>2.252103e-01</td>\n",
              "      <td>5.474459e+00</td>\n",
              "      <td>1.826665e-01</td>\n",
              "    </tr>\n",
              "  </tbody>\n",
              "</table>\n",
              "</div>\n",
              "      <button class=\"colab-df-convert\" onclick=\"convertToInteractive('df-e2d333b7-6f69-4d80-933a-1c07d98f107a')\"\n",
              "              title=\"Convert this dataframe to an interactive table.\"\n",
              "              style=\"display:none;\">\n",
              "        \n",
              "  <svg xmlns=\"http://www.w3.org/2000/svg\" height=\"24px\"viewBox=\"0 0 24 24\"\n",
              "       width=\"24px\">\n",
              "    <path d=\"M0 0h24v24H0V0z\" fill=\"none\"/>\n",
              "    <path d=\"M18.56 5.44l.94 2.06.94-2.06 2.06-.94-2.06-.94-.94-2.06-.94 2.06-2.06.94zm-11 1L8.5 8.5l.94-2.06 2.06-.94-2.06-.94L8.5 2.5l-.94 2.06-2.06.94zm10 10l.94 2.06.94-2.06 2.06-.94-2.06-.94-.94-2.06-.94 2.06-2.06.94z\"/><path d=\"M17.41 7.96l-1.37-1.37c-.4-.4-.92-.59-1.43-.59-.52 0-1.04.2-1.43.59L10.3 9.45l-7.72 7.72c-.78.78-.78 2.05 0 2.83L4 21.41c.39.39.9.59 1.41.59.51 0 1.02-.2 1.41-.59l7.78-7.78 2.81-2.81c.8-.78.8-2.07 0-2.86zM5.41 20L4 18.59l7.72-7.72 1.47 1.35L5.41 20z\"/>\n",
              "  </svg>\n",
              "      </button>\n",
              "      \n",
              "  <style>\n",
              "    .colab-df-container {\n",
              "      display:flex;\n",
              "      flex-wrap:wrap;\n",
              "      gap: 12px;\n",
              "    }\n",
              "\n",
              "    .colab-df-convert {\n",
              "      background-color: #E8F0FE;\n",
              "      border: none;\n",
              "      border-radius: 50%;\n",
              "      cursor: pointer;\n",
              "      display: none;\n",
              "      fill: #1967D2;\n",
              "      height: 32px;\n",
              "      padding: 0 0 0 0;\n",
              "      width: 32px;\n",
              "    }\n",
              "\n",
              "    .colab-df-convert:hover {\n",
              "      background-color: #E2EBFA;\n",
              "      box-shadow: 0px 1px 2px rgba(60, 64, 67, 0.3), 0px 1px 3px 1px rgba(60, 64, 67, 0.15);\n",
              "      fill: #174EA6;\n",
              "    }\n",
              "\n",
              "    [theme=dark] .colab-df-convert {\n",
              "      background-color: #3B4455;\n",
              "      fill: #D2E3FC;\n",
              "    }\n",
              "\n",
              "    [theme=dark] .colab-df-convert:hover {\n",
              "      background-color: #434B5C;\n",
              "      box-shadow: 0px 1px 3px 1px rgba(0, 0, 0, 0.15);\n",
              "      filter: drop-shadow(0px 1px 2px rgba(0, 0, 0, 0.3));\n",
              "      fill: #FFFFFF;\n",
              "    }\n",
              "  </style>\n",
              "\n",
              "      <script>\n",
              "        const buttonEl =\n",
              "          document.querySelector('#df-e2d333b7-6f69-4d80-933a-1c07d98f107a button.colab-df-convert');\n",
              "        buttonEl.style.display =\n",
              "          google.colab.kernel.accessAllowed ? 'block' : 'none';\n",
              "\n",
              "        async function convertToInteractive(key) {\n",
              "          const element = document.querySelector('#df-e2d333b7-6f69-4d80-933a-1c07d98f107a');\n",
              "          const dataTable =\n",
              "            await google.colab.kernel.invokeFunction('convertToInteractive',\n",
              "                                                     [key], {});\n",
              "          if (!dataTable) return;\n",
              "\n",
              "          const docLinkHtml = 'Like what you see? Visit the ' +\n",
              "            '<a target=\"_blank\" href=https://colab.research.google.com/notebooks/data_table.ipynb>data table notebook</a>'\n",
              "            + ' to learn more about interactive tables.';\n",
              "          element.innerHTML = '';\n",
              "          dataTable['output_type'] = 'display_data';\n",
              "          await google.colab.output.renderOutput(dataTable, element);\n",
              "          const docLink = document.createElement('div');\n",
              "          docLink.innerHTML = docLinkHtml;\n",
              "          element.appendChild(docLink);\n",
              "        }\n",
              "      </script>\n",
              "    </div>\n",
              "  </div>\n",
              "  "
            ]
          },
          "metadata": {},
          "execution_count": 21
        }
      ],
      "source": [
        "X_train.describe()"
      ]
    },
    {
      "cell_type": "markdown",
      "metadata": {
        "id": "rGpaKpCk88bS"
      },
      "source": [
        "ANN - Artificial Neural Network"
      ]
    },
    {
      "cell_type": "code",
      "execution_count": null,
      "metadata": {
        "id": "rpTFZRCu9AkT"
      },
      "outputs": [],
      "source": [
        "import tensorflow\n",
        "from tensorflow import keras\n",
        "from tensorflow.keras import Sequential\n",
        "from tensorflow.keras.layers import Dense"
      ]
    },
    {
      "cell_type": "code",
      "execution_count": null,
      "metadata": {
        "colab": {
          "base_uri": "https://localhost:8080/"
        },
        "id": "5SYT_6T89FYE",
        "outputId": "87f99546-5a0c-4d80-f6b7-9a855c335f3a"
      },
      "outputs": [
        {
          "name": "stdout",
          "output_type": "stream",
          "text": [
            "Epoch 1/10\n",
            "614/614 [==============================] - 3s 4ms/step - loss: 0.4845 - accuracy: 0.7272\n",
            "Epoch 2/10\n",
            "614/614 [==============================] - 1s 2ms/step - loss: 0.3231 - accuracy: 0.8558\n",
            "Epoch 3/10\n",
            "614/614 [==============================] - 1s 2ms/step - loss: 0.2951 - accuracy: 0.8728\n",
            "Epoch 4/10\n",
            "614/614 [==============================] - 1s 2ms/step - loss: 0.2812 - accuracy: 0.8801\n",
            "Epoch 5/10\n",
            "614/614 [==============================] - 1s 2ms/step - loss: 0.2718 - accuracy: 0.8878\n",
            "Epoch 6/10\n",
            "614/614 [==============================] - 1s 2ms/step - loss: 0.2643 - accuracy: 0.8916\n",
            "Epoch 7/10\n",
            "614/614 [==============================] - 1s 2ms/step - loss: 0.2577 - accuracy: 0.8950\n",
            "Epoch 8/10\n",
            "614/614 [==============================] - 1s 2ms/step - loss: 0.2519 - accuracy: 0.8986\n",
            "Epoch 9/10\n",
            "614/614 [==============================] - 1s 2ms/step - loss: 0.2471 - accuracy: 0.9012\n",
            "Epoch 10/10\n",
            "614/614 [==============================] - 1s 2ms/step - loss: 0.2428 - accuracy: 0.9026\n"
          ]
        },
        {
          "data": {
            "text/plain": [
              "<keras.callbacks.History at 0x7f860730c790>"
            ]
          },
          "execution_count": 22,
          "metadata": {},
          "output_type": "execute_result"
        }
      ],
      "source": [
        "model = Sequential()\n",
        "\n",
        "# Adding the input layer and the first hidden layer\n",
        "model.add(Dense(10, activation = 'relu', input_dim = 20))\n",
        "\n",
        "# Adding the second hidden layer\n",
        "model.add(Dense(10, activation = 'relu'))\n",
        "\n",
        "# Adding the output layer\n",
        "model.add(Dense(1,  activation = 'sigmoid'))\n",
        "\n",
        "# Compiling the ANN\n",
        "model.compile(optimizer = 'adam', loss = 'binary_crossentropy', metrics = ['accuracy'])\n",
        "\n",
        "# Fitting the ANN to the Training set\n",
        "model.fit(X_train, y_train.values, batch_size = 10, epochs = 10)"
      ]
    },
    {
      "cell_type": "code",
      "execution_count": null,
      "metadata": {
        "id": "6EPzteJ_E6JE"
      },
      "outputs": [],
      "source": [
        "from sklearn.metrics import confusion_matrix\n",
        "def accuracy_NN(model,X,y):\n",
        "    # Predicting the Test set results\n",
        "    y_pred = model.predict(X)\n",
        "    y_pred = (y_pred > 0.5)\n",
        "    cm = confusion_matrix(y.values, y_pred)\n",
        "    return (cm[0][0]+cm[1][1])/(cm[0][0]+cm[0][1]+cm[1][0]+cm[1][1])\n",
        "\n"
      ]
    },
    {
      "cell_type": "code",
      "execution_count": null,
      "metadata": {
        "colab": {
          "base_uri": "https://localhost:8080/"
        },
        "id": "o-hB0veUGcVY",
        "outputId": "9c7f9302-898d-4d29-884a-ac27b7aeb4c5"
      },
      "outputs": [
        {
          "name": "stdout",
          "output_type": "stream",
          "text": [
            "Train accuracy = 90.56%\n",
            "Test accuracy = 90.56%\n"
          ]
        }
      ],
      "source": [
        "print('Train accuracy = {0}%'.format(np.round(accuracy_NN(model,X_train, y_train) * 100, 2)))\n",
        "print('Test accuracy = {0}%'.format(np.round(accuracy_NN(model,X_test, y_test) * 100, 2)))"
      ]
    },
    {
      "cell_type": "code",
      "execution_count": null,
      "metadata": {
        "id": "4jLoDprjGdXG"
      },
      "outputs": [],
      "source": [
        "from sklearn.metrics import accuracy_score\n",
        "def accuracyscore(model,X,y):\n",
        "    # Predicting the Test set results\n",
        "    y_pred = model.predict(X)\n",
        "    y_pred = (y_pred > 0.5)\n",
        "    return accuracy_score(y,y_pred)"
      ]
    },
    {
      "cell_type": "code",
      "execution_count": null,
      "metadata": {
        "colab": {
          "base_uri": "https://localhost:8080/"
        },
        "id": "bKevVGpHG02I",
        "outputId": "0fb7a10d-fdb6-4aa6-b0ca-3c66a3e30bc0"
      },
      "outputs": [
        {
          "name": "stdout",
          "output_type": "stream",
          "text": [
            "Train accuracy = 90.56%\n",
            "Test accuracy = 90.56%\n"
          ]
        }
      ],
      "source": [
        "print('Train accuracy = {0}%'.format(np.round(accuracyscore(model,X_train, y_train) * 100, 2)))\n",
        "print('Test accuracy = {0}%'.format(np.round(accuracyscore(model,X_test, y_test) * 100, 2)))"
      ]
    },
    {
      "cell_type": "code",
      "execution_count": null,
      "metadata": {
        "colab": {
          "base_uri": "https://localhost:8080/"
        },
        "id": "A64wfXbNHSHR",
        "outputId": "fb4c06c9-fe91-41c5-9e37-e02f94a2e2a9"
      },
      "outputs": [
        {
          "name": "stdout",
          "output_type": "stream",
          "text": [
            "Epoch 1/100\n",
            "246/246 [==============================] - 1s 4ms/step - loss: 0.2366 - accuracy: 0.9054 - val_loss: 0.2389 - val_accuracy: 0.9030\n",
            "Epoch 2/100\n",
            "246/246 [==============================] - 1s 3ms/step - loss: 0.2338 - accuracy: 0.9062 - val_loss: 0.2378 - val_accuracy: 0.9022\n",
            "Epoch 3/100\n",
            "246/246 [==============================] - 1s 3ms/step - loss: 0.2320 - accuracy: 0.9066 - val_loss: 0.2368 - val_accuracy: 0.9030\n",
            "Epoch 4/100\n",
            "246/246 [==============================] - 1s 3ms/step - loss: 0.2299 - accuracy: 0.9064 - val_loss: 0.2378 - val_accuracy: 0.9046\n",
            "Epoch 5/100\n",
            "246/246 [==============================] - 1s 3ms/step - loss: 0.2278 - accuracy: 0.9076 - val_loss: 0.2396 - val_accuracy: 0.9030\n",
            "Epoch 6/100\n",
            "246/246 [==============================] - 1s 3ms/step - loss: 0.2261 - accuracy: 0.9093 - val_loss: 0.2384 - val_accuracy: 0.9014\n",
            "Epoch 7/100\n",
            "246/246 [==============================] - 1s 3ms/step - loss: 0.2242 - accuracy: 0.9107 - val_loss: 0.2388 - val_accuracy: 0.9055\n",
            "Epoch 8/100\n",
            "246/246 [==============================] - 1s 3ms/step - loss: 0.2233 - accuracy: 0.9119 - val_loss: 0.2399 - val_accuracy: 0.9071\n",
            "Epoch 9/100\n",
            "246/246 [==============================] - 1s 3ms/step - loss: 0.2219 - accuracy: 0.9125 - val_loss: 0.2392 - val_accuracy: 0.9046\n",
            "Epoch 10/100\n",
            "246/246 [==============================] - 1s 3ms/step - loss: 0.2204 - accuracy: 0.9117 - val_loss: 0.2389 - val_accuracy: 0.9071\n",
            "Epoch 11/100\n",
            "246/246 [==============================] - 1s 3ms/step - loss: 0.2191 - accuracy: 0.9136 - val_loss: 0.2381 - val_accuracy: 0.9022\n",
            "Epoch 12/100\n",
            "246/246 [==============================] - 1s 3ms/step - loss: 0.2190 - accuracy: 0.9140 - val_loss: 0.2370 - val_accuracy: 0.9063\n",
            "Epoch 13/100\n",
            "246/246 [==============================] - 1s 3ms/step - loss: 0.2172 - accuracy: 0.9134 - val_loss: 0.2394 - val_accuracy: 0.9055\n",
            "Epoch 14/100\n",
            "246/246 [==============================] - 1s 3ms/step - loss: 0.2168 - accuracy: 0.9125 - val_loss: 0.2387 - val_accuracy: 0.9038\n",
            "Epoch 15/100\n",
            "246/246 [==============================] - 1s 3ms/step - loss: 0.2151 - accuracy: 0.9127 - val_loss: 0.2396 - val_accuracy: 0.9038\n",
            "Epoch 16/100\n",
            "246/246 [==============================] - 1s 3ms/step - loss: 0.2139 - accuracy: 0.9125 - val_loss: 0.2430 - val_accuracy: 0.9071\n",
            "Epoch 17/100\n",
            "246/246 [==============================] - 1s 3ms/step - loss: 0.2139 - accuracy: 0.9148 - val_loss: 0.2399 - val_accuracy: 0.9022\n",
            "Epoch 18/100\n",
            "246/246 [==============================] - 1s 3ms/step - loss: 0.2122 - accuracy: 0.9144 - val_loss: 0.2398 - val_accuracy: 0.9063\n",
            "Epoch 19/100\n",
            "246/246 [==============================] - 1s 3ms/step - loss: 0.2122 - accuracy: 0.9142 - val_loss: 0.2426 - val_accuracy: 0.9014\n",
            "Epoch 20/100\n",
            "246/246 [==============================] - 1s 3ms/step - loss: 0.2116 - accuracy: 0.9131 - val_loss: 0.2438 - val_accuracy: 0.9022\n",
            "Epoch 21/100\n",
            "246/246 [==============================] - 1s 3ms/step - loss: 0.2106 - accuracy: 0.9156 - val_loss: 0.2400 - val_accuracy: 0.9055\n",
            "Epoch 22/100\n",
            "246/246 [==============================] - 1s 3ms/step - loss: 0.2106 - accuracy: 0.9156 - val_loss: 0.2420 - val_accuracy: 0.9014\n",
            "Epoch 23/100\n",
            "246/246 [==============================] - 1s 3ms/step - loss: 0.2085 - accuracy: 0.9160 - val_loss: 0.2430 - val_accuracy: 0.9046\n",
            "Epoch 24/100\n",
            "246/246 [==============================] - 1s 3ms/step - loss: 0.2085 - accuracy: 0.9162 - val_loss: 0.2465 - val_accuracy: 0.8965\n",
            "Epoch 25/100\n",
            "246/246 [==============================] - 1s 2ms/step - loss: 0.2081 - accuracy: 0.9168 - val_loss: 0.2437 - val_accuracy: 0.9014\n",
            "Epoch 26/100\n",
            "246/246 [==============================] - 1s 3ms/step - loss: 0.2073 - accuracy: 0.9144 - val_loss: 0.2451 - val_accuracy: 0.9038\n",
            "Epoch 27/100\n",
            "246/246 [==============================] - 1s 3ms/step - loss: 0.2069 - accuracy: 0.9168 - val_loss: 0.2410 - val_accuracy: 0.9046\n",
            "Epoch 28/100\n",
            "246/246 [==============================] - 1s 3ms/step - loss: 0.2067 - accuracy: 0.9160 - val_loss: 0.2432 - val_accuracy: 0.9006\n",
            "Epoch 29/100\n",
            "246/246 [==============================] - 1s 3ms/step - loss: 0.2062 - accuracy: 0.9144 - val_loss: 0.2424 - val_accuracy: 0.8965\n",
            "Epoch 30/100\n",
            "246/246 [==============================] - 1s 3ms/step - loss: 0.2053 - accuracy: 0.9187 - val_loss: 0.2425 - val_accuracy: 0.8973\n",
            "Epoch 31/100\n",
            "246/246 [==============================] - 1s 3ms/step - loss: 0.2057 - accuracy: 0.9164 - val_loss: 0.2443 - val_accuracy: 0.8998\n",
            "Epoch 32/100\n",
            "246/246 [==============================] - 1s 6ms/step - loss: 0.2047 - accuracy: 0.9166 - val_loss: 0.2419 - val_accuracy: 0.9030\n",
            "Epoch 33/100\n",
            "246/246 [==============================] - 1s 3ms/step - loss: 0.2052 - accuracy: 0.9152 - val_loss: 0.2436 - val_accuracy: 0.8998\n",
            "Epoch 34/100\n",
            "246/246 [==============================] - 1s 3ms/step - loss: 0.2038 - accuracy: 0.9191 - val_loss: 0.2432 - val_accuracy: 0.9006\n",
            "Epoch 35/100\n",
            "246/246 [==============================] - 1s 3ms/step - loss: 0.2030 - accuracy: 0.9197 - val_loss: 0.2438 - val_accuracy: 0.8965\n",
            "Epoch 36/100\n",
            "246/246 [==============================] - 1s 3ms/step - loss: 0.2027 - accuracy: 0.9199 - val_loss: 0.2476 - val_accuracy: 0.8981\n",
            "Epoch 37/100\n",
            "246/246 [==============================] - 1s 3ms/step - loss: 0.2019 - accuracy: 0.9191 - val_loss: 0.2457 - val_accuracy: 0.8989\n",
            "Epoch 38/100\n",
            "246/246 [==============================] - 1s 3ms/step - loss: 0.2010 - accuracy: 0.9193 - val_loss: 0.2462 - val_accuracy: 0.8981\n",
            "Epoch 39/100\n",
            "246/246 [==============================] - 1s 3ms/step - loss: 0.2012 - accuracy: 0.9203 - val_loss: 0.2453 - val_accuracy: 0.9014\n",
            "Epoch 40/100\n",
            "246/246 [==============================] - 1s 3ms/step - loss: 0.2014 - accuracy: 0.9180 - val_loss: 0.2484 - val_accuracy: 0.8998\n",
            "Epoch 41/100\n",
            "246/246 [==============================] - 1s 3ms/step - loss: 0.2006 - accuracy: 0.9191 - val_loss: 0.2462 - val_accuracy: 0.9014\n",
            "Epoch 42/100\n",
            "246/246 [==============================] - 1s 3ms/step - loss: 0.1996 - accuracy: 0.9185 - val_loss: 0.2446 - val_accuracy: 0.9022\n",
            "Epoch 43/100\n",
            "246/246 [==============================] - 1s 3ms/step - loss: 0.1997 - accuracy: 0.9199 - val_loss: 0.2504 - val_accuracy: 0.8998\n",
            "Epoch 44/100\n",
            "246/246 [==============================] - 1s 3ms/step - loss: 0.1988 - accuracy: 0.9176 - val_loss: 0.2445 - val_accuracy: 0.8998\n",
            "Epoch 45/100\n",
            "246/246 [==============================] - 1s 3ms/step - loss: 0.2000 - accuracy: 0.9185 - val_loss: 0.2439 - val_accuracy: 0.8998\n",
            "Epoch 46/100\n",
            "246/246 [==============================] - 1s 3ms/step - loss: 0.1978 - accuracy: 0.9195 - val_loss: 0.2461 - val_accuracy: 0.9030\n",
            "Epoch 47/100\n",
            "246/246 [==============================] - 1s 3ms/step - loss: 0.1979 - accuracy: 0.9207 - val_loss: 0.2438 - val_accuracy: 0.9006\n",
            "Epoch 48/100\n",
            "246/246 [==============================] - 1s 3ms/step - loss: 0.1974 - accuracy: 0.9180 - val_loss: 0.2481 - val_accuracy: 0.8981\n",
            "Epoch 49/100\n",
            "246/246 [==============================] - 1s 3ms/step - loss: 0.1974 - accuracy: 0.9195 - val_loss: 0.2458 - val_accuracy: 0.9006\n",
            "Epoch 50/100\n",
            "246/246 [==============================] - 1s 3ms/step - loss: 0.1970 - accuracy: 0.9231 - val_loss: 0.2433 - val_accuracy: 0.9038\n",
            "Epoch 51/100\n",
            "246/246 [==============================] - 1s 3ms/step - loss: 0.1962 - accuracy: 0.9203 - val_loss: 0.2437 - val_accuracy: 0.8989\n",
            "Epoch 52/100\n",
            "246/246 [==============================] - 1s 3ms/step - loss: 0.1964 - accuracy: 0.9205 - val_loss: 0.2462 - val_accuracy: 0.8998\n",
            "Epoch 53/100\n",
            "246/246 [==============================] - 1s 3ms/step - loss: 0.1966 - accuracy: 0.9178 - val_loss: 0.2462 - val_accuracy: 0.9014\n",
            "Epoch 54/100\n",
            "246/246 [==============================] - 1s 3ms/step - loss: 0.1961 - accuracy: 0.9197 - val_loss: 0.2495 - val_accuracy: 0.8981\n",
            "Epoch 55/100\n",
            "246/246 [==============================] - 1s 3ms/step - loss: 0.1961 - accuracy: 0.9193 - val_loss: 0.2458 - val_accuracy: 0.8973\n",
            "Epoch 56/100\n",
            "246/246 [==============================] - 1s 3ms/step - loss: 0.1956 - accuracy: 0.9201 - val_loss: 0.2462 - val_accuracy: 0.9006\n",
            "Epoch 57/100\n",
            "246/246 [==============================] - 1s 3ms/step - loss: 0.1947 - accuracy: 0.9215 - val_loss: 0.2494 - val_accuracy: 0.8981\n",
            "Epoch 58/100\n",
            "246/246 [==============================] - 1s 3ms/step - loss: 0.1950 - accuracy: 0.9201 - val_loss: 0.2481 - val_accuracy: 0.8981\n",
            "Epoch 59/100\n",
            "246/246 [==============================] - 1s 3ms/step - loss: 0.1938 - accuracy: 0.9223 - val_loss: 0.2485 - val_accuracy: 0.8989\n",
            "Epoch 60/100\n",
            "246/246 [==============================] - 1s 3ms/step - loss: 0.1931 - accuracy: 0.9207 - val_loss: 0.2483 - val_accuracy: 0.8973\n",
            "Epoch 61/100\n",
            "246/246 [==============================] - 1s 3ms/step - loss: 0.1930 - accuracy: 0.9193 - val_loss: 0.2508 - val_accuracy: 0.8981\n",
            "Epoch 62/100\n",
            "246/246 [==============================] - 1s 3ms/step - loss: 0.1929 - accuracy: 0.9209 - val_loss: 0.2506 - val_accuracy: 0.8949\n",
            "Epoch 63/100\n",
            "246/246 [==============================] - 1s 3ms/step - loss: 0.1926 - accuracy: 0.9207 - val_loss: 0.2492 - val_accuracy: 0.8949\n",
            "Epoch 64/100\n",
            "246/246 [==============================] - 1s 3ms/step - loss: 0.1926 - accuracy: 0.9219 - val_loss: 0.2485 - val_accuracy: 0.8965\n",
            "Epoch 65/100\n",
            "246/246 [==============================] - 1s 3ms/step - loss: 0.1919 - accuracy: 0.9209 - val_loss: 0.2526 - val_accuracy: 0.8941\n",
            "Epoch 66/100\n",
            "246/246 [==============================] - 1s 3ms/step - loss: 0.1921 - accuracy: 0.9213 - val_loss: 0.2492 - val_accuracy: 0.8924\n",
            "Epoch 67/100\n",
            "246/246 [==============================] - 1s 3ms/step - loss: 0.1916 - accuracy: 0.9211 - val_loss: 0.2524 - val_accuracy: 0.8916\n",
            "Epoch 68/100\n",
            "246/246 [==============================] - 1s 3ms/step - loss: 0.1908 - accuracy: 0.9199 - val_loss: 0.2480 - val_accuracy: 0.8981\n",
            "Epoch 69/100\n",
            "246/246 [==============================] - 1s 3ms/step - loss: 0.1899 - accuracy: 0.9217 - val_loss: 0.2546 - val_accuracy: 0.8916\n",
            "Epoch 70/100\n",
            "246/246 [==============================] - 1s 3ms/step - loss: 0.1909 - accuracy: 0.9215 - val_loss: 0.2497 - val_accuracy: 0.8932\n",
            "Epoch 71/100\n",
            "246/246 [==============================] - 1s 3ms/step - loss: 0.1898 - accuracy: 0.9217 - val_loss: 0.2508 - val_accuracy: 0.8949\n",
            "Epoch 72/100\n",
            "246/246 [==============================] - 1s 3ms/step - loss: 0.1895 - accuracy: 0.9217 - val_loss: 0.2485 - val_accuracy: 0.8908\n",
            "Epoch 73/100\n",
            "246/246 [==============================] - 1s 3ms/step - loss: 0.1892 - accuracy: 0.9223 - val_loss: 0.2498 - val_accuracy: 0.8941\n",
            "Epoch 74/100\n",
            "246/246 [==============================] - 1s 3ms/step - loss: 0.1888 - accuracy: 0.9213 - val_loss: 0.2504 - val_accuracy: 0.8949\n",
            "Epoch 75/100\n",
            "246/246 [==============================] - 1s 3ms/step - loss: 0.1877 - accuracy: 0.9229 - val_loss: 0.2482 - val_accuracy: 0.8981\n",
            "Epoch 76/100\n",
            "246/246 [==============================] - 1s 3ms/step - loss: 0.1867 - accuracy: 0.9240 - val_loss: 0.2528 - val_accuracy: 0.8998\n",
            "Epoch 77/100\n",
            "246/246 [==============================] - 1s 3ms/step - loss: 0.1879 - accuracy: 0.9211 - val_loss: 0.2518 - val_accuracy: 0.8932\n",
            "Epoch 78/100\n",
            "246/246 [==============================] - 1s 3ms/step - loss: 0.1872 - accuracy: 0.9217 - val_loss: 0.2541 - val_accuracy: 0.8908\n",
            "Epoch 79/100\n",
            "246/246 [==============================] - 1s 3ms/step - loss: 0.1863 - accuracy: 0.9235 - val_loss: 0.2513 - val_accuracy: 0.8957\n",
            "Epoch 80/100\n",
            "246/246 [==============================] - 1s 3ms/step - loss: 0.1866 - accuracy: 0.9233 - val_loss: 0.2514 - val_accuracy: 0.8965\n",
            "Epoch 81/100\n",
            "246/246 [==============================] - 1s 3ms/step - loss: 0.1868 - accuracy: 0.9209 - val_loss: 0.2488 - val_accuracy: 0.8981\n",
            "Epoch 82/100\n",
            "246/246 [==============================] - 1s 3ms/step - loss: 0.1869 - accuracy: 0.9242 - val_loss: 0.2483 - val_accuracy: 0.8949\n",
            "Epoch 83/100\n",
            "246/246 [==============================] - 1s 3ms/step - loss: 0.1853 - accuracy: 0.9215 - val_loss: 0.2533 - val_accuracy: 0.8932\n",
            "Epoch 84/100\n",
            "246/246 [==============================] - 1s 3ms/step - loss: 0.1856 - accuracy: 0.9227 - val_loss: 0.2500 - val_accuracy: 0.8924\n",
            "Epoch 85/100\n",
            "246/246 [==============================] - 1s 3ms/step - loss: 0.1850 - accuracy: 0.9252 - val_loss: 0.2502 - val_accuracy: 0.8957\n",
            "Epoch 86/100\n",
            "246/246 [==============================] - 1s 3ms/step - loss: 0.1852 - accuracy: 0.9240 - val_loss: 0.2502 - val_accuracy: 0.8932\n",
            "Epoch 87/100\n",
            "246/246 [==============================] - 1s 3ms/step - loss: 0.1844 - accuracy: 0.9229 - val_loss: 0.2489 - val_accuracy: 0.8973\n",
            "Epoch 88/100\n",
            "246/246 [==============================] - 1s 3ms/step - loss: 0.1845 - accuracy: 0.9264 - val_loss: 0.2547 - val_accuracy: 0.8900\n",
            "Epoch 89/100\n",
            "246/246 [==============================] - 1s 3ms/step - loss: 0.1841 - accuracy: 0.9260 - val_loss: 0.2494 - val_accuracy: 0.8949\n",
            "Epoch 90/100\n",
            "246/246 [==============================] - 1s 3ms/step - loss: 0.1843 - accuracy: 0.9244 - val_loss: 0.2497 - val_accuracy: 0.8949\n",
            "Epoch 91/100\n",
            "246/246 [==============================] - 1s 3ms/step - loss: 0.1831 - accuracy: 0.9238 - val_loss: 0.2488 - val_accuracy: 0.8998\n",
            "Epoch 92/100\n",
            "246/246 [==============================] - 1s 3ms/step - loss: 0.1828 - accuracy: 0.9250 - val_loss: 0.2508 - val_accuracy: 0.8908\n",
            "Epoch 93/100\n",
            "246/246 [==============================] - 1s 3ms/step - loss: 0.1829 - accuracy: 0.9256 - val_loss: 0.2493 - val_accuracy: 0.8932\n",
            "Epoch 94/100\n",
            "246/246 [==============================] - 1s 3ms/step - loss: 0.1834 - accuracy: 0.9240 - val_loss: 0.2505 - val_accuracy: 0.8908\n",
            "Epoch 95/100\n",
            "246/246 [==============================] - 1s 3ms/step - loss: 0.1831 - accuracy: 0.9250 - val_loss: 0.2523 - val_accuracy: 0.8949\n",
            "Epoch 96/100\n",
            "246/246 [==============================] - 1s 3ms/step - loss: 0.1819 - accuracy: 0.9268 - val_loss: 0.2532 - val_accuracy: 0.8965\n",
            "Epoch 97/100\n",
            "246/246 [==============================] - 1s 3ms/step - loss: 0.1825 - accuracy: 0.9223 - val_loss: 0.2515 - val_accuracy: 0.8949\n",
            "Epoch 98/100\n",
            "246/246 [==============================] - 1s 3ms/step - loss: 0.1814 - accuracy: 0.9223 - val_loss: 0.2506 - val_accuracy: 0.8932\n",
            "Epoch 99/100\n",
            "246/246 [==============================] - 1s 3ms/step - loss: 0.1817 - accuracy: 0.9246 - val_loss: 0.2501 - val_accuracy: 0.8957\n",
            "Epoch 100/100\n",
            "246/246 [==============================] - 1s 3ms/step - loss: 0.1813 - accuracy: 0.9246 - val_loss: 0.2507 - val_accuracy: 0.8941\n"
          ]
        }
      ],
      "source": [
        "# Fitting the ANN to the Training set\n",
        "history = model.fit(X_train, y_train.values, batch_size = 20, epochs = 100,validation_split = 0.2)\n"
      ]
    },
    {
      "cell_type": "code",
      "execution_count": null,
      "metadata": {
        "colab": {
          "base_uri": "https://localhost:8080/",
          "height": 282
        },
        "id": "WBK9RjbwHiYR",
        "outputId": "ff66f669-e5b4-4f12-e6b3-14545f4175c6"
      },
      "outputs": [
        {
          "data": {
            "text/plain": [
              "[<matplotlib.lines.Line2D at 0x7f8608a36e50>]"
            ]
          },
          "execution_count": 28,
          "metadata": {},
          "output_type": "execute_result"
        },
        {
          "data": {
            "image/png": "[encoded data removed]",
            "text/plain": [
              "<Figure size 432x288 with 1 Axes>"
            ]
          },
          "metadata": {},
          "output_type": "display_data"
        }
      ],
      "source": [
        "import matplotlib.pyplot as plt\n",
        "plt.plot(history.history['loss'])\n",
        "plt.plot(history.history['val_loss'])"
      ]
    },
    {
      "cell_type": "code",
      "execution_count": null,
      "metadata": {
        "colab": {
          "base_uri": "https://localhost:8080/",
          "height": 282
        },
        "id": "_GeUlN_5Im8J",
        "outputId": "449e6b66-4fea-4f23-f6d2-69c3ea2b8cc3"
      },
      "outputs": [
        {
          "data": {
            "text/plain": [
              "[<matplotlib.lines.Line2D at 0x7f86086e6110>]"
            ]
          },
          "execution_count": 29,
          "metadata": {},
          "output_type": "execute_result"
        },
        {
          "data": {
            "image/png": "[encoded data removed]",
            "text/plain": [
              "<Figure size 432x288 with 1 Axes>"
            ]
          },
          "metadata": {},
          "output_type": "display_data"
        }
      ],
      "source": [
        "plt.plot(history.history['accuracy'])\n",
        "plt.plot(history.history['val_accuracy'])"
      ]
    },
    {
      "cell_type": "markdown",
      "metadata": {
        "id": "W0oiondzWane"
      },
      "source": [
        "1. NO OF HIDDEN LAYERS "
      ]
    },
    {
      "cell_type": "code",
      "execution_count": null,
      "metadata": {
        "colab": {
          "base_uri": "https://localhost:8080/"
        },
        "id": "3wxzIQhTWhFz",
        "outputId": "aff964e8-e618-4973-be92-d98435f7b86e"
      },
      "outputs": [
        {
          "name": "stdout",
          "output_type": "stream",
          "text": [
            "Epoch 1/4\n",
            "614/614 [==============================] - 2s 2ms/step - loss: 0.4352 - accuracy: 0.7913\n",
            "Epoch 2/4\n",
            "614/614 [==============================] - 1s 2ms/step - loss: 0.3236 - accuracy: 0.8602\n",
            "Epoch 3/4\n",
            "614/614 [==============================] - 1s 2ms/step - loss: 0.3006 - accuracy: 0.8705\n",
            "Epoch 4/4\n",
            "614/614 [==============================] - 1s 2ms/step - loss: 0.2880 - accuracy: 0.8787\n",
            "Epoch 1/4\n",
            "614/614 [==============================] - 2s 2ms/step - loss: 0.4318 - accuracy: 0.7900\n",
            "Epoch 2/4\n",
            "614/614 [==============================] - 1s 2ms/step - loss: 0.3103 - accuracy: 0.8630\n",
            "Epoch 3/4\n",
            "614/614 [==============================] - 1s 2ms/step - loss: 0.2902 - accuracy: 0.8728\n",
            "Epoch 4/4\n",
            "614/614 [==============================] - 1s 2ms/step - loss: 0.2815 - accuracy: 0.8772\n",
            "Epoch 1/4\n",
            "614/614 [==============================] - 2s 2ms/step - loss: 0.4454 - accuracy: 0.7608\n",
            "Epoch 2/4\n",
            "614/614 [==============================] - 1s 2ms/step - loss: 0.3183 - accuracy: 0.8537\n",
            "Epoch 3/4\n",
            "614/614 [==============================] - 1s 2ms/step - loss: 0.2954 - accuracy: 0.8694\n",
            "Epoch 4/4\n",
            "614/614 [==============================] - 1s 2ms/step - loss: 0.2822 - accuracy: 0.8795\n",
            "Epoch 1/4\n",
            "614/614 [==============================] - 2s 3ms/step - loss: 0.4280 - accuracy: 0.7794\n",
            "Epoch 2/4\n",
            "614/614 [==============================] - 2s 3ms/step - loss: 0.3001 - accuracy: 0.8664\n",
            "Epoch 3/4\n",
            "614/614 [==============================] - 2s 3ms/step - loss: 0.2713 - accuracy: 0.8845\n",
            "Epoch 4/4\n",
            "614/614 [==============================] - 2s 3ms/step - loss: 0.2547 - accuracy: 0.8948\n",
            "Epoch 1/4\n",
            "614/614 [==============================] - 2s 3ms/step - loss: 0.3876 - accuracy: 0.8107\n",
            "Epoch 2/4\n",
            "614/614 [==============================] - 2s 3ms/step - loss: 0.2854 - accuracy: 0.8777\n",
            "Epoch 3/4\n",
            "614/614 [==============================] - 2s 3ms/step - loss: 0.2657 - accuracy: 0.8885\n",
            "Epoch 4/4\n",
            "614/614 [==============================] - 2s 3ms/step - loss: 0.2553 - accuracy: 0.8969\n",
            "Epoch 1/4\n",
            "614/614 [==============================] - 3s 3ms/step - loss: 0.3784 - accuracy: 0.8147\n",
            "Epoch 2/4\n",
            "614/614 [==============================] - 2s 3ms/step - loss: 0.3186 - accuracy: 0.8690\n",
            "Epoch 3/4\n",
            "614/614 [==============================] - 2s 3ms/step - loss: 0.2832 - accuracy: 0.8816\n",
            "Epoch 4/4\n",
            "614/614 [==============================] - 2s 3ms/step - loss: 0.2652 - accuracy: 0.8904\n",
            "Epoch 1/4\n",
            "614/614 [==============================] - 3s 3ms/step - loss: 0.4162 - accuracy: 0.7955\n",
            "Epoch 2/4\n",
            "614/614 [==============================] - 2s 3ms/step - loss: 0.2985 - accuracy: 0.8676\n",
            "Epoch 3/4\n",
            "614/614 [==============================] - 2s 3ms/step - loss: 0.2771 - accuracy: 0.8803\n",
            "Epoch 4/4\n",
            "614/614 [==============================] - 2s 3ms/step - loss: 0.2664 - accuracy: 0.8889\n",
            "Epoch 1/4\n",
            "614/614 [==============================] - 3s 4ms/step - loss: 0.4216 - accuracy: 0.7862\n",
            "Epoch 2/4\n",
            "614/614 [==============================] - 2s 4ms/step - loss: 0.3056 - accuracy: 0.8717\n",
            "Epoch 3/4\n",
            "614/614 [==============================] - 2s 3ms/step - loss: 0.2847 - accuracy: 0.8795\n",
            "Epoch 4/4\n",
            "614/614 [==============================] - 2s 3ms/step - loss: 0.2742 - accuracy: 0.8883\n",
            "Epoch 1/4\n",
            "614/614 [==============================] - 3s 3ms/step - loss: 0.4317 - accuracy: 0.7862\n",
            "Epoch 2/4\n",
            "614/614 [==============================] - 2s 3ms/step - loss: 0.3145 - accuracy: 0.8547\n",
            "Epoch 3/4\n",
            "614/614 [==============================] - 2s 3ms/step - loss: 0.2850 - accuracy: 0.8800\n",
            "Epoch 4/4\n",
            "614/614 [==============================] - 2s 3ms/step - loss: 0.2718 - accuracy: 0.8862\n",
            "Epoch 1/4\n",
            "614/614 [==============================] - 3s 3ms/step - loss: 0.4016 - accuracy: 0.8077\n",
            "Epoch 2/4\n",
            "614/614 [==============================] - 2s 3ms/step - loss: 0.3068 - accuracy: 0.8635\n",
            "Epoch 3/4\n",
            "614/614 [==============================] - 2s 3ms/step - loss: 0.2797 - accuracy: 0.8811\n",
            "Epoch 4/4\n",
            "614/614 [==============================] - 2s 3ms/step - loss: 0.2670 - accuracy: 0.8867\n"
          ]
        }
      ],
      "source": [
        "accuracy_validation = [None]*10\n",
        "for hiddenLayersCount in range(0,10):\n",
        "    \n",
        "    model = Sequential()\n",
        "    # First Layer\n",
        "    model.add(Dense( 10, activation = 'relu', input_dim = 20))\n",
        "    i=0\n",
        "    # N Number of Hidden Layers\n",
        "    while(i < hiddenLayersCount):\n",
        "        model.add(Dense( 10,  activation = 'relu'))\n",
        "        i+=1\n",
        "    \n",
        "    # Final Layer\n",
        "    model.add(Dense( 1,  activation = 'sigmoid'))\n",
        "    \n",
        "    model.compile(optimizer = 'adam', loss = 'binary_crossentropy', metrics = ['accuracy'])\n",
        "    model.fit(X_train, y_train.values, batch_size = 10, epochs = 4)\n",
        "    accuracy_validation[hiddenLayersCount]=np.round(accuracy_NN(model,X_test, y_test) * 100, 2)"
      ]
    },
    {
      "cell_type": "code",
      "execution_count": null,
      "metadata": {
        "colab": {
          "base_uri": "https://localhost:8080/",
          "height": 312
        },
        "id": "UQHsp4FFXK8C",
        "outputId": "972d95ca-7a6e-4324-ac55-46426f82f180"
      },
      "outputs": [
        {
          "data": {
            "text/plain": [
              "Text(0, 0.5, 'Accuracy on Validation Set')"
            ]
          },
          "execution_count": 31,
          "metadata": {},
          "output_type": "execute_result"
        },
        {
          "data": {
            "image/png": "[encoded data removed]",
            "text/plain": [
              "<Figure size 432x288 with 1 Axes>"
            ]
          },
          "metadata": {},
          "output_type": "display_data"
        }
      ],
      "source": [
        "plt.ylim([0,100])\n",
        "plt.plot(accuracy_validation)\n",
        "plt.title(\"Accuracy vs No of Hidden Layers\")\n",
        "plt.xlabel(\"No of Hidden Layers\")\n",
        "plt.ylabel(\"Accuracy on Validation Set\")"
      ]
    },
    {
      "cell_type": "markdown",
      "metadata": {
        "id": "pZWvfiNfYE49"
      },
      "source": [
        "Number of Hidden layers won't increase significant accuracy,\n",
        "We will keep only 1 hidden layer in the NN"
      ]
    },
    {
      "cell_type": "markdown",
      "metadata": {
        "id": "m28SmKeFYS_j"
      },
      "source": [
        "2. No of Nodes in Hidden Layer"
      ]
    },
    {
      "cell_type": "code",
      "execution_count": null,
      "metadata": {
        "colab": {
          "base_uri": "https://localhost:8080/"
        },
        "id": "0aFmMuyLYUmM",
        "outputId": "19f0694d-17f0-4d3a-e67f-2c90770e2208"
      },
      "outputs": [
        {
          "name": "stdout",
          "output_type": "stream",
          "text": [
            "Epoch 1/4\n",
            "614/614 [==============================] - 2s 2ms/step - loss: 0.4554 - accuracy: 0.7872\n",
            "Epoch 2/4\n",
            "614/614 [==============================] - 1s 2ms/step - loss: 0.3080 - accuracy: 0.8627\n",
            "Epoch 3/4\n",
            "614/614 [==============================] - 1s 2ms/step - loss: 0.2864 - accuracy: 0.8752\n",
            "Epoch 4/4\n",
            "614/614 [==============================] - 1s 2ms/step - loss: 0.2755 - accuracy: 0.8814\n",
            "Epoch 1/4\n",
            "614/614 [==============================] - 2s 2ms/step - loss: 0.3900 - accuracy: 0.8160\n",
            "Epoch 2/4\n",
            "614/614 [==============================] - 1s 2ms/step - loss: 0.3063 - accuracy: 0.8673\n",
            "Epoch 3/4\n",
            "614/614 [==============================] - 1s 2ms/step - loss: 0.2830 - accuracy: 0.8785\n",
            "Epoch 4/4\n",
            "614/614 [==============================] - 1s 2ms/step - loss: 0.2697 - accuracy: 0.8870\n",
            "Epoch 1/4\n",
            "614/614 [==============================] - 2s 2ms/step - loss: 0.3893 - accuracy: 0.8226\n",
            "Epoch 2/4\n",
            "614/614 [==============================] - 1s 2ms/step - loss: 0.2926 - accuracy: 0.8762\n",
            "Epoch 3/4\n",
            "614/614 [==============================] - 1s 2ms/step - loss: 0.2748 - accuracy: 0.8814\n",
            "Epoch 4/4\n",
            "614/614 [==============================] - 1s 2ms/step - loss: 0.2672 - accuracy: 0.8841\n",
            "Epoch 1/4\n",
            "614/614 [==============================] - 2s 2ms/step - loss: 0.4106 - accuracy: 0.8032\n",
            "Epoch 2/4\n",
            "614/614 [==============================] - 1s 2ms/step - loss: 0.2961 - accuracy: 0.8726\n",
            "Epoch 3/4\n",
            "614/614 [==============================] - 1s 2ms/step - loss: 0.2777 - accuracy: 0.8839\n",
            "Epoch 4/4\n",
            "614/614 [==============================] - 1s 2ms/step - loss: 0.2685 - accuracy: 0.8871\n",
            "Epoch 1/4\n",
            "614/614 [==============================] - 2s 2ms/step - loss: 0.4416 - accuracy: 0.7732\n",
            "Epoch 2/4\n",
            "614/614 [==============================] - 1s 2ms/step - loss: 0.3037 - accuracy: 0.8682\n",
            "Epoch 3/4\n",
            "614/614 [==============================] - 2s 2ms/step - loss: 0.2866 - accuracy: 0.8772\n",
            "Epoch 4/4\n",
            "614/614 [==============================] - 1s 2ms/step - loss: 0.2770 - accuracy: 0.8811\n",
            "Epoch 1/4\n",
            "614/614 [==============================] - 2s 2ms/step - loss: 0.3775 - accuracy: 0.8116\n",
            "Epoch 2/4\n",
            "614/614 [==============================] - 1s 2ms/step - loss: 0.2969 - accuracy: 0.8715\n",
            "Epoch 3/4\n",
            "614/614 [==============================] - 1s 2ms/step - loss: 0.2775 - accuracy: 0.8826\n",
            "Epoch 4/4\n",
            "614/614 [==============================] - 1s 2ms/step - loss: 0.2650 - accuracy: 0.8906\n",
            "Epoch 1/4\n",
            "614/614 [==============================] - 2s 2ms/step - loss: 0.5021 - accuracy: 0.7280\n",
            "Epoch 2/4\n",
            "614/614 [==============================] - 1s 2ms/step - loss: 0.3088 - accuracy: 0.8668\n",
            "Epoch 3/4\n",
            "614/614 [==============================] - 1s 2ms/step - loss: 0.2892 - accuracy: 0.8739\n",
            "Epoch 4/4\n",
            "614/614 [==============================] - 1s 2ms/step - loss: 0.2759 - accuracy: 0.8827\n",
            "Epoch 1/4\n",
            "614/614 [==============================] - 2s 2ms/step - loss: 0.4406 - accuracy: 0.7547\n",
            "Epoch 2/4\n",
            "614/614 [==============================] - 3s 6ms/step - loss: 0.3095 - accuracy: 0.8638\n",
            "Epoch 3/4\n",
            "614/614 [==============================] - 2s 3ms/step - loss: 0.2846 - accuracy: 0.8764\n",
            "Epoch 4/4\n",
            "614/614 [==============================] - 1s 2ms/step - loss: 0.2724 - accuracy: 0.8798\n",
            "Epoch 1/4\n",
            "614/614 [==============================] - 2s 2ms/step - loss: 0.3851 - accuracy: 0.8226\n",
            "Epoch 2/4\n",
            "614/614 [==============================] - 1s 2ms/step - loss: 0.2921 - accuracy: 0.8715\n",
            "Epoch 3/4\n",
            "614/614 [==============================] - 1s 2ms/step - loss: 0.2744 - accuracy: 0.8842\n",
            "Epoch 4/4\n",
            "614/614 [==============================] - 1s 2ms/step - loss: 0.2641 - accuracy: 0.8924\n",
            "Epoch 1/4\n",
            "614/614 [==============================] - 2s 2ms/step - loss: 0.3865 - accuracy: 0.8092\n",
            "Epoch 2/4\n",
            "614/614 [==============================] - 1s 2ms/step - loss: 0.2891 - accuracy: 0.8761\n",
            "Epoch 3/4\n",
            "614/614 [==============================] - 1s 2ms/step - loss: 0.2687 - accuracy: 0.8858\n",
            "Epoch 4/4\n",
            "614/614 [==============================] - 1s 2ms/step - loss: 0.2579 - accuracy: 0.8899\n"
          ]
        }
      ],
      "source": [
        "accuracy_validation = [None]*10\n",
        "count = 0\n",
        "for noOfNodes in range(10,20):\n",
        "    \n",
        "    classifier = Sequential()\n",
        "    # First Layer + Hidden Layer\n",
        "    classifier.add(Dense(noOfNodes, activation = 'relu', input_dim = 20))\n",
        "    \n",
        "    # Second Hidden Layer\n",
        "    classifier.add(Dense( noOfNodes, activation = 'relu'))\n",
        "\n",
        "    # Final Layer\n",
        "    classifier.add(Dense(1, activation = 'sigmoid'))\n",
        "    \n",
        "    classifier.compile(optimizer = 'adam', loss = 'binary_crossentropy', metrics = ['accuracy'])\n",
        "    classifier.fit(X_train, y_train.values, batch_size = 10, epochs = 4)\n",
        "    accuracy_validation[count]=np.round(accuracy_NN(classifier,X_test, y_test) * 100, 2)\n",
        "    count+=1"
      ]
    },
    {
      "cell_type": "code",
      "execution_count": null,
      "metadata": {
        "colab": {
          "base_uri": "https://localhost:8080/",
          "height": 312
        },
        "id": "q9UytRUrYjGN",
        "outputId": "087a7f0b-abb8-4a05-8b35-d8db8a4f61a3"
      },
      "outputs": [
        {
          "data": {
            "text/plain": [
              "Text(0, 0.5, 'Accuracy on Validation Set')"
            ]
          },
          "execution_count": 33,
          "metadata": {},
          "output_type": "execute_result"
        },
        {
          "data": {
            "image/png": "[encoded data removed]",
            "text/plain": [
              "<Figure size 432x288 with 1 Axes>"
            ]
          },
          "metadata": {},
          "output_type": "display_data"
        }
      ],
      "source": [
        "plt.ylim([0,100])\n",
        "plt.plot(range(20,30),accuracy_validation)\n",
        "plt.title(\"Accuracy vs No of nodes in hidden Layers\")\n",
        "plt.xlabel(\"No of nodes in Hidden Layers\")\n",
        "plt.ylabel(\"Accuracy on Validation Set\")\n"
      ]
    },
    {
      "cell_type": "markdown",
      "metadata": {
        "id": "VkfevhlPZBqM"
      },
      "source": [
        "No of layers according to our data set doesn't really change the accuracy\n",
        "We can go ahead with 10 number of Nodes"
      ]
    },
    {
      "cell_type": "markdown",
      "metadata": {
        "id": "WEtmkjT-ZJRf"
      },
      "source": [
        "3. Change Activation Function"
      ]
    },
    {
      "cell_type": "code",
      "execution_count": null,
      "metadata": {
        "colab": {
          "base_uri": "https://localhost:8080/"
        },
        "id": "x6sBq1UYZLEQ",
        "outputId": "dd96d6d6-9565-4cee-a697-a18aa4d21a9f"
      },
      "outputs": [
        {
          "name": "stdout",
          "output_type": "stream",
          "text": [
            "Epoch 1/4\n",
            "614/614 [==============================] - 2s 2ms/step - loss: 1.8370 - accuracy: 0.7453\n",
            "Epoch 2/4\n",
            "614/614 [==============================] - 1s 2ms/step - loss: 0.4504 - accuracy: 0.8123\n",
            "Epoch 3/4\n",
            "614/614 [==============================] - 2s 2ms/step - loss: 0.4127 - accuracy: 0.8389\n",
            "Epoch 4/4\n",
            "614/614 [==============================] - 1s 2ms/step - loss: 0.3811 - accuracy: 0.8464\n",
            "Epoch 1/4\n",
            "614/614 [==============================] - 2s 2ms/step - loss: 0.4516 - accuracy: 0.7818\n",
            "Epoch 2/4\n",
            "614/614 [==============================] - 1s 2ms/step - loss: 0.3178 - accuracy: 0.8609\n",
            "Epoch 3/4\n",
            "614/614 [==============================] - 1s 2ms/step - loss: 0.2980 - accuracy: 0.8726\n",
            "Epoch 4/4\n",
            "614/614 [==============================] - 1s 2ms/step - loss: 0.2875 - accuracy: 0.8748\n",
            "Epoch 1/4\n",
            "614/614 [==============================] - 2s 2ms/step - loss: 0.9540 - accuracy: 0.7498\n",
            "Epoch 2/4\n",
            "614/614 [==============================] - 2s 2ms/step - loss: 0.4231 - accuracy: 0.7859\n",
            "Epoch 3/4\n",
            "614/614 [==============================] - 1s 2ms/step - loss: 0.3916 - accuracy: 0.8037\n",
            "Epoch 4/4\n",
            "614/614 [==============================] - 1s 2ms/step - loss: 0.3727 - accuracy: 0.8245\n"
          ]
        }
      ],
      "source": [
        "accuracy_validation = [None]*3\n",
        "count = 0\n",
        "activationFunc = ['relu','sigmoid','tanh']\n",
        "for activation_Func in range(len(activationFunc)):\n",
        "    \n",
        "    classifier = Sequential()\n",
        "\n",
        "    classifier.add(Dense(10, activation = 'relu', input_dim = 20))\n",
        "    \n",
        "    classifier.add(Dense(10,activation = 'relu'))\n",
        "\n",
        "    classifier.add(Dense(1, activation = activationFunc[activation_Func]))\n",
        "    \n",
        "    classifier.compile(optimizer = 'adam', loss = 'binary_crossentropy', metrics = ['accuracy'])\n",
        "    classifier.fit(X_train, y_train.values, batch_size = 10, epochs = 4)\n",
        "    accuracy_validation[count]=np.round(accuracy_NN(classifier,X_test, y_test) * 100, 2)\n",
        "    count+=1"
      ]
    },
    {
      "cell_type": "code",
      "execution_count": null,
      "metadata": {
        "colab": {
          "base_uri": "https://localhost:8080/",
          "height": 312
        },
        "id": "Qzqt8aLFZYPg",
        "outputId": "547c980d-0efc-48fb-aeb8-5447a95d7b54"
      },
      "outputs": [
        {
          "data": {
            "text/plain": [
              "Text(0, 0.5, 'Accuracy on Validation Set')"
            ]
          },
          "execution_count": 35,
          "metadata": {},
          "output_type": "execute_result"
        },
        {
          "data": {
            "image/png": "[encoded data removed]",
            "text/plain": [
              "<Figure size 432x288 with 1 Axes>"
            ]
          },
          "metadata": {},
          "output_type": "display_data"
        }
      ],
      "source": [
        "\n",
        "\n",
        "plt.ylim([0,100])\n",
        "plt.plot(activationFunc,accuracy_validation)\n",
        "plt.title(\"Accuracy vs Activation Function\")\n",
        "plt.xlabel(\"Activation Functions\")\n",
        "plt.ylabel(\"Accuracy on Validation Set\")\n",
        "\n"
      ]
    },
    {
      "cell_type": "markdown",
      "metadata": {
        "id": "naEkkM58Znkq"
      },
      "source": [
        "We will use sigmoid activation function"
      ]
    },
    {
      "cell_type": "markdown",
      "metadata": {
        "id": "qMscnVWZZuXn"
      },
      "source": [
        "4. Batch size for error back propagation"
      ]
    },
    {
      "cell_type": "code",
      "execution_count": null,
      "metadata": {
        "colab": {
          "base_uri": "https://localhost:8080/"
        },
        "id": "wDh0dhjlZxyK",
        "outputId": "4a7b04b8-e614-4aeb-fa6e-359295a6c11f"
      },
      "outputs": [
        {
          "name": "stdout",
          "output_type": "stream",
          "text": [
            "Epoch 1/3\n",
            "1227/1227 [==============================] - 3s 2ms/step - loss: 0.6105 - accuracy: 0.8216\n",
            "Epoch 2/3\n",
            "1227/1227 [==============================] - 3s 2ms/step - loss: 0.3919 - accuracy: 0.8478\n",
            "Epoch 3/3\n",
            "1227/1227 [==============================] - 3s 2ms/step - loss: 0.4014 - accuracy: 0.8545\n",
            "Epoch 1/3\n",
            "1022/1022 [==============================] - 2s 2ms/step - loss: 0.8843 - accuracy: 0.7921\n",
            "Epoch 2/3\n",
            "1022/1022 [==============================] - 2s 2ms/step - loss: 0.3976 - accuracy: 0.8496\n",
            "Epoch 3/3\n",
            "1022/1022 [==============================] - 2s 2ms/step - loss: 0.3751 - accuracy: 0.8469\n",
            "Epoch 1/3\n",
            "876/876 [==============================] - 3s 2ms/step - loss: 1.0900 - accuracy: 0.6937\n",
            "Epoch 2/3\n",
            "876/876 [==============================] - 2s 2ms/step - loss: 0.4716 - accuracy: 0.7753\n",
            "Epoch 3/3\n",
            "876/876 [==============================] - 2s 2ms/step - loss: 0.4092 - accuracy: 0.7992\n",
            "Epoch 1/3\n",
            "767/767 [==============================] - 6s 6ms/step - loss: 1.3846 - accuracy: 0.7432\n",
            "Epoch 2/3\n",
            "767/767 [==============================] - 4s 5ms/step - loss: 0.4318 - accuracy: 0.7890\n",
            "Epoch 3/3\n",
            "767/767 [==============================] - 3s 4ms/step - loss: 0.3784 - accuracy: 0.8237\n",
            "Epoch 1/3\n",
            "682/682 [==============================] - 4s 4ms/step - loss: 0.6277 - accuracy: 0.7356\n",
            "Epoch 2/3\n",
            "682/682 [==============================] - 2s 2ms/step - loss: 0.3622 - accuracy: 0.8485\n",
            "Epoch 3/3\n",
            "682/682 [==============================] - 1s 2ms/step - loss: 0.3510 - accuracy: 0.8624\n",
            "Epoch 1/3\n",
            "614/614 [==============================] - 4s 5ms/step - loss: 1.0509 - accuracy: 0.7215\n",
            "Epoch 2/3\n",
            "614/614 [==============================] - 2s 4ms/step - loss: 0.4140 - accuracy: 0.8082\n",
            "Epoch 3/3\n",
            "614/614 [==============================] - 2s 4ms/step - loss: 0.4053 - accuracy: 0.8273\n",
            "Epoch 1/3\n",
            "558/558 [==============================] - 2s 2ms/step - loss: 1.2502 - accuracy: 0.7477\n",
            "Epoch 2/3\n",
            "558/558 [==============================] - 1s 2ms/step - loss: 0.6104 - accuracy: 0.7586\n",
            "Epoch 3/3\n",
            "558/558 [==============================] - 1s 3ms/step - loss: 0.4764 - accuracy: 0.7965\n",
            "Epoch 1/3\n",
            "511/511 [==============================] - 2s 2ms/step - loss: 0.9601 - accuracy: 0.7769\n",
            "Epoch 2/3\n",
            "511/511 [==============================] - 1s 2ms/step - loss: 0.4346 - accuracy: 0.8152\n",
            "Epoch 3/3\n",
            "511/511 [==============================] - 1s 2ms/step - loss: 0.4128 - accuracy: 0.8206\n",
            "Epoch 1/3\n",
            "472/472 [==============================] - 2s 2ms/step - loss: 0.6550 - accuracy: 0.7727\n",
            "Epoch 2/3\n",
            "472/472 [==============================] - 1s 2ms/step - loss: 0.4331 - accuracy: 0.8363\n",
            "Epoch 3/3\n",
            "472/472 [==============================] - 1s 2ms/step - loss: 0.3894 - accuracy: 0.8389\n",
            "Epoch 1/3\n",
            "438/438 [==============================] - 1s 2ms/step - loss: 1.5069 - accuracy: 0.7485\n",
            "Epoch 2/3\n",
            "438/438 [==============================] - 1s 2ms/step - loss: 0.5293 - accuracy: 0.7751\n",
            "Epoch 3/3\n",
            "438/438 [==============================] - 1s 2ms/step - loss: 0.4045 - accuracy: 0.7948\n"
          ]
        }
      ],
      "source": [
        "\n",
        "\n",
        "accuracy_validation = [None]*10\n",
        "count = 0\n",
        "for batchSize in range(5,15):\n",
        "    \n",
        "    classifier = Sequential()\n",
        "    classifier.add(Dense(10, activation = 'relu', input_dim = 20))\n",
        "    classifier.add(Dense(10, activation = 'relu'))\n",
        "\n",
        "    \n",
        "    # Final Layer\n",
        "    classifier.add(Dense(1, activation = 'relu'))\n",
        "    \n",
        "    classifier.compile(optimizer = 'adam', loss = 'binary_crossentropy', metrics = ['accuracy'])\n",
        "    classifier.fit(X_train, y_train.values, batch_size = batchSize, epochs = 3)\n",
        "    accuracy_validation[count]=np.round(accuracy_NN(classifier,X_test, y_test) * 100, 2)\n",
        "    count+=1\n",
        "\n"
      ]
    },
    {
      "cell_type": "code",
      "execution_count": null,
      "metadata": {
        "colab": {
          "base_uri": "https://localhost:8080/",
          "height": 312
        },
        "id": "kuJqJyrgZ7Wl",
        "outputId": "cde6764b-1e86-4cf5-ec18-51205f5fc2ff"
      },
      "outputs": [
        {
          "data": {
            "text/plain": [
              "Text(0, 0.5, 'Accuracy on Validation Set')"
            ]
          },
          "execution_count": 40,
          "metadata": {},
          "output_type": "execute_result"
        },
        {
          "data": {
            "image/png": "[encoded data removed]",
            "text/plain": [
              "<Figure size 432x288 with 1 Axes>"
            ]
          },
          "metadata": {},
          "output_type": "display_data"
        }
      ],
      "source": [
        "\n",
        "\n",
        "plt.ylim([0,100])\n",
        "plt.plot(range(5,15),accuracy_validation)\n",
        "plt.title(\"Accuracy vs Batch Size\")\n",
        "plt.xlabel(\"Batch Size\")\n",
        "plt.ylabel(\"Accuracy on Validation Set\")\n",
        "\n"
      ]
    },
    {
      "cell_type": "markdown",
      "metadata": {
        "id": "REQ6I86NaYF3"
      },
      "source": [
        "Batch Size is good for 9"
      ]
    },
    {
      "cell_type": "markdown",
      "metadata": {
        "id": "uTb6bzRbamnR"
      },
      "source": [
        "FINAL ANN"
      ]
    },
    {
      "cell_type": "code",
      "execution_count": null,
      "metadata": {
        "colab": {
          "base_uri": "https://localhost:8080/"
        },
        "id": "B4eI9Jb--AZP",
        "outputId": "5d28a767-8966-4f2c-b7aa-66583ab0c95c"
      },
      "outputs": [
        {
          "name": "stdout",
          "output_type": "stream",
          "text": [
            "Epoch 1/20\n",
            "682/682 [==============================] - 5s 5ms/step - loss: 0.5628 - accuracy: 0.7466\n",
            "Epoch 2/20\n",
            "682/682 [==============================] - 3s 4ms/step - loss: 0.3869 - accuracy: 0.8271\n",
            "Epoch 3/20\n",
            "682/682 [==============================] - 2s 3ms/step - loss: 0.3352 - accuracy: 0.8581\n",
            "Epoch 4/20\n",
            "682/682 [==============================] - 2s 3ms/step - loss: 0.3223 - accuracy: 0.8620\n",
            "Epoch 5/20\n",
            "682/682 [==============================] - 2s 3ms/step - loss: 0.3129 - accuracy: 0.8629\n",
            "Epoch 6/20\n",
            "682/682 [==============================] - 2s 2ms/step - loss: 0.3026 - accuracy: 0.8682\n",
            "Epoch 7/20\n",
            "682/682 [==============================] - 2s 2ms/step - loss: 0.2904 - accuracy: 0.8764\n",
            "Epoch 8/20\n",
            "682/682 [==============================] - 2s 2ms/step - loss: 0.2805 - accuracy: 0.8836\n",
            "Epoch 9/20\n",
            "682/682 [==============================] - 2s 2ms/step - loss: 0.2698 - accuracy: 0.8891\n",
            "Epoch 10/20\n",
            "682/682 [==============================] - 2s 2ms/step - loss: 0.2641 - accuracy: 0.8911\n",
            "Epoch 11/20\n",
            "682/682 [==============================] - 2s 2ms/step - loss: 0.2571 - accuracy: 0.8945\n",
            "Epoch 12/20\n",
            "682/682 [==============================] - 2s 2ms/step - loss: 0.2518 - accuracy: 0.8963\n",
            "Epoch 13/20\n",
            "682/682 [==============================] - 2s 2ms/step - loss: 0.2499 - accuracy: 0.8958\n",
            "Epoch 14/20\n",
            "682/682 [==============================] - 2s 2ms/step - loss: 0.2470 - accuracy: 0.8973\n",
            "Epoch 15/20\n",
            "682/682 [==============================] - 2s 2ms/step - loss: 0.2430 - accuracy: 0.8995\n",
            "Epoch 16/20\n",
            "682/682 [==============================] - 2s 2ms/step - loss: 0.2426 - accuracy: 0.8991\n",
            "Epoch 17/20\n",
            "682/682 [==============================] - 2s 2ms/step - loss: 0.2396 - accuracy: 0.9028\n",
            "Epoch 18/20\n",
            "682/682 [==============================] - 2s 2ms/step - loss: 0.2386 - accuracy: 0.8992\n",
            "Epoch 19/20\n",
            "682/682 [==============================] - 2s 2ms/step - loss: 0.2363 - accuracy: 0.9035\n",
            "Epoch 20/20\n",
            "682/682 [==============================] - 2s 2ms/step - loss: 0.2338 - accuracy: 0.9028\n"
          ]
        },
        {
          "data": {
            "text/plain": [
              "<keras.callbacks.History at 0x7f85fe24f4d0>"
            ]
          },
          "execution_count": 41,
          "metadata": {},
          "output_type": "execute_result"
        }
      ],
      "source": [
        "# Adding the input layer and the first hidden layer\n",
        "classifier.add(Dense(10, activation = 'sigmoid', input_dim = 20))\n",
        "\n",
        "# Adding the second hidden layer\n",
        "# classifier.add(Dense(10, activation = 'sigmoid'))\n",
        "\n",
        "# Adding the output layer\n",
        "classifier.add(Dense(1, activation = 'sigmoid'))\n",
        "\n",
        "# Compiling the ANN\n",
        "classifier.compile(optimizer = 'adam', loss = 'binary_crossentropy', metrics = ['accuracy'])\n",
        "\n",
        "# Fitting the ANN to the Training set\n",
        "classifier.fit(X_train, y_train.values, batch_size = 9, epochs = 20)"
      ]
    },
    {
      "cell_type": "code",
      "execution_count": null,
      "metadata": {
        "colab": {
          "base_uri": "https://localhost:8080/"
        },
        "id": "HH2oMThKanbp",
        "outputId": "47429a28-0cc2-4690-8f00-61eef27ed7ac"
      },
      "outputs": [
        {
          "name": "stdout",
          "output_type": "stream",
          "text": [
            "Epoch 1/20\n",
            "682/682 [==============================] - 3s 3ms/step - loss: 0.5217 - accuracy: 0.7466\n",
            "Epoch 2/20\n",
            "682/682 [==============================] - 2s 3ms/step - loss: 0.3145 - accuracy: 0.8219\n",
            "Epoch 3/20\n",
            "682/682 [==============================] - 2s 3ms/step - loss: 0.2874 - accuracy: 0.9008\n",
            "Epoch 4/20\n",
            "682/682 [==============================] - 2s 3ms/step - loss: 0.2703 - accuracy: 0.8997\n",
            "Epoch 5/20\n",
            "682/682 [==============================] - 2s 2ms/step - loss: 0.2619 - accuracy: 0.8992\n",
            "Epoch 6/20\n",
            "682/682 [==============================] - 2s 2ms/step - loss: 0.2539 - accuracy: 0.9044\n",
            "Epoch 7/20\n",
            "682/682 [==============================] - 2s 2ms/step - loss: 0.2500 - accuracy: 0.9023\n",
            "Epoch 8/20\n",
            "682/682 [==============================] - 2s 2ms/step - loss: 0.2453 - accuracy: 0.9049\n",
            "Epoch 9/20\n",
            "682/682 [==============================] - 2s 3ms/step - loss: 0.2423 - accuracy: 0.9039\n",
            "Epoch 10/20\n",
            "682/682 [==============================] - 2s 3ms/step - loss: 0.2376 - accuracy: 0.9053\n",
            "Epoch 11/20\n",
            "682/682 [==============================] - 2s 3ms/step - loss: 0.2354 - accuracy: 0.9049\n",
            "Epoch 12/20\n",
            "682/682 [==============================] - 2s 2ms/step - loss: 0.2336 - accuracy: 0.9072\n",
            "Epoch 13/20\n",
            "682/682 [==============================] - 2s 3ms/step - loss: 0.2319 - accuracy: 0.9064\n",
            "Epoch 14/20\n",
            "682/682 [==============================] - 2s 2ms/step - loss: 0.2307 - accuracy: 0.9101\n",
            "Epoch 15/20\n",
            "682/682 [==============================] - 2s 2ms/step - loss: 0.2284 - accuracy: 0.9118\n",
            "Epoch 16/20\n",
            "682/682 [==============================] - 2s 2ms/step - loss: 0.2282 - accuracy: 0.9088\n",
            "Epoch 17/20\n",
            "682/682 [==============================] - 2s 2ms/step - loss: 0.2229 - accuracy: 0.9142\n",
            "Epoch 18/20\n",
            "682/682 [==============================] - 2s 2ms/step - loss: 0.2238 - accuracy: 0.9132\n",
            "Epoch 19/20\n",
            "682/682 [==============================] - 2s 3ms/step - loss: 0.2214 - accuracy: 0.9124\n",
            "Epoch 20/20\n",
            "682/682 [==============================] - 2s 2ms/step - loss: 0.2206 - accuracy: 0.9141\n"
          ]
        },
        {
          "data": {
            "text/plain": [
              "<keras.callbacks.History at 0x7f85f8b58450>"
            ]
          },
          "execution_count": 43,
          "metadata": {},
          "output_type": "execute_result"
        }
      ],
      "source": [
        "# Adding the input layer and the first hidden layer\n",
        "classifier.add(Dense(10, activation = 'relu', input_dim = 20))\n",
        "\n",
        "# Adding the second hidden layer\n",
        "classifier.add(Dense(10, activation = 'relu'))\n",
        "\n",
        "# Adding the output layer\n",
        "classifier.add(Dense(1, activation = 'sigmoid'))\n",
        "\n",
        "# Compiling the ANN\n",
        "classifier.compile(optimizer = 'adam', loss = 'binary_crossentropy', metrics = ['accuracy'])\n",
        "\n",
        "# Fitting the ANN to the Training set\n",
        "classifier.fit(X_train, y_train.values, batch_size = 9, epochs = 20)"
      ]
    },
    {
      "cell_type": "code",
      "execution_count": null,
      "metadata": {
        "colab": {
          "base_uri": "https://localhost:8080/"
        },
        "id": "fapO_NEn-v0m",
        "outputId": "3e113ee7-0b1a-4f86-c232-66400c9136a1"
      },
      "outputs": [
        {
          "name": "stdout",
          "output_type": "stream",
          "text": [
            "Train accuracy = 90.35%\n",
            "Test accuracy = 90.41%\n"
          ]
        }
      ],
      "source": [
        "print('Train accuracy = {0}%'.format(np.round(accuracy_NN(classifier,X_train, y_train) * 100, 2)))\n",
        "print('Test accuracy = {0}%'.format(np.round(accuracy_NN(classifier,X_test, y_test) * 100, 2)))\n"
      ]
    },
    {
      "cell_type": "code",
      "execution_count": null,
      "metadata": {
        "colab": {
          "base_uri": "https://localhost:8080/"
        },
        "id": "4a5zmNZNau88",
        "outputId": "58aa194a-058b-4146-cdf7-e3ce64c49135"
      },
      "outputs": [
        {
          "name": "stdout",
          "output_type": "stream",
          "text": [
            "Train accuracy = 91.85%\n",
            "Test accuracy = 91.78%\n"
          ]
        }
      ],
      "source": [
        "print('Train accuracy = {0}%'.format(np.round(accuracy_NN(classifier,X_train, y_train) * 100, 2)))\n",
        "print('Test accuracy = {0}%'.format(np.round(accuracy_NN(classifier,X_test, y_test) * 100, 2)))\n",
        "\n"
      ]
    },
    {
      "cell_type": "markdown",
      "metadata": {
        "id": "DW4gVMf3ebSb"
      },
      "source": [
        "USING GRIDSEARCHCV ON THE MODELS"
      ]
    },
    {
      "cell_type": "markdown",
      "metadata": {
        "id": "xkp_L_asenVo"
      },
      "source": [
        "1. Hyperparameters: Batch size and # of Epochs"
      ]
    },
    {
      "cell_type": "code",
      "execution_count": null,
      "metadata": {
        "id": "5XSwVk_Ye6nw"
      },
      "outputs": [],
      "source": [
        "\n",
        "from sklearn.model_selection import GridSearchCV\n",
        "from sklearn.metrics import accuracy_score, confusion_matrix, plot_roc_curve\n",
        "from keras.layers import Dropout\n",
        "from keras.wrappers.scikit_learn import KerasClassifier\n",
        "#from keras.optimizers import SGD\n",
        "from keras.constraints import maxnorm\n",
        "from warnings import filterwarnings"
      ]
    },
    {
      "cell_type": "code",
      "execution_count": null,
      "metadata": {
        "id": "OrsCn0i-fOlm"
      },
      "outputs": [],
      "source": [
        "#c_train = c[X.index.isin(X_train.index)]\n",
        "#c_test = c[~X.index.isin(X_train.index)]\n",
        "#bike_df[\"Rented_Bike_Count_Value\"]"
      ]
    },
    {
      "cell_type": "code",
      "execution_count": null,
      "metadata": {
        "id": "WQtxWy4eee79"
      },
      "outputs": [],
      "source": [
        "def model_1():\n",
        "    model = Sequential()\n",
        "    #model.add(Input(shape = (40, )))\n",
        "    model.add(Dense(10, activation = 'sigmoid'))\n",
        "    model.add(Dense(1, activation = 'sigmoid'))\n",
        "    model.compile(loss = 'binary_crossentropy', optimizer = 'sgd', metrics = ['accuracy'])\n",
        "    return model\n",
        "\n"
      ]
    },
    {
      "cell_type": "code",
      "execution_count": null,
      "metadata": {
        "id": "NRidB-ySesrF"
      },
      "outputs": [],
      "source": [
        "nnc1_model = KerasClassifier(build_fn = model_1, verbose = 0)\n",
        "\n",
        "nnc1_batch_size_arr = [10, 20, 50]\n",
        "nnc1_epoch_arr = [10, 50, 100]\n",
        "\n",
        "nnc1 = GridSearchCV(estimator = nnc1_model, \n",
        "                    param_grid = {'batch_size' : nnc1_batch_size_arr, \n",
        "                                  'epochs' : nnc1_epoch_arr}, \n",
        "                    n_jobs = -1, cv = 5, return_train_score = True)\n",
        "\n",
        "nnc1.fit(X_train.values, y_train.values.ravel())\n",
        "\n",
        "nnc1_df = pd.DataFrame(nnc1.cv_results_)"
      ]
    },
    {
      "cell_type": "code",
      "execution_count": null,
      "metadata": {
        "colab": {
          "base_uri": "https://localhost:8080/",
          "height": 382
        },
        "id": "TrFGfWJEezG-",
        "outputId": "be508328-c2f6-470c-d6e6-6a0610b5b387"
      },
      "outputs": [
        {
          "output_type": "stream",
          "name": "stdout",
          "text": [
            "Best Parameters: {'batch_size': 10, 'epochs': 100}\n",
            "Best Cross-Validation Accuracy: 0.89\n"
          ]
        },
        {
          "output_type": "display_data",
          "data": {
            "text/plain": [
              "<Figure size 432x288 with 1 Axes>"
            ],
            "image/png": "[encoded data removed]"
          },
          "metadata": {
            "needs_background": "light"
          }
        },
        {
          "output_type": "stream",
          "name": "stdout",
          "text": [
            "Accuracy: 0.90\n",
            "Sensitivity: 0.76\n",
            "Specificity: 0.95\n"
          ]
        }
      ],
      "source": [
        "import seaborn as sns\n",
        "print('Best Parameters: {}'.format(nnc1.best_params_))\n",
        "print('Best Cross-Validation Accuracy: {:.2f}'.format(nnc1.best_score_))\n",
        "\n",
        "pred_nnc1 = nnc1.predict(X_test)\n",
        "\n",
        "# plot_roc_curve(nnc1, X_test, c_test)\n",
        "# plt.title('ROC Curve')\n",
        "# plt.show()\n",
        "\n",
        "cm_nnc1 = confusion_matrix(y_test, pred_nnc1)\n",
        "tn, fp, fn, tp = cm_nnc1.ravel()\n",
        "\n",
        "ax = sns.heatmap(cm_nnc1.T, square = True, annot = True, fmt = 'd', cbar = False, cmap = 'Greens')\n",
        "ax.set(xlabel = 'Actual', ylabel = 'Predicted', title = 'Confusion Matrix')\n",
        "plt.show()\n",
        "\n",
        "print('Accuracy: {:.2f}'.format(accuracy_score(y_test, pred_nnc1)))\n",
        "print('Sensitivity: {:.2f}'.format(tp / (tp + fn)))\n",
        "print('Specificity: {:.2f}'.format(tn / (tn + fp)))"
      ]
    },
    {
      "cell_type": "markdown",
      "metadata": {
        "id": "7jcFcuu41RBu"
      },
      "source": [
        "2. Activation Function of the 1st hidden layer nodes"
      ]
    },
    {
      "cell_type": "code",
      "execution_count": null,
      "metadata": {
        "id": "-qehgzma1QA6"
      },
      "outputs": [],
      "source": [
        "def model_2(activation = 'sigmoid'):\n",
        "    model = Sequential()\n",
        "    model.add(Dense(10, activation = activation))\n",
        "    model.add(Dense(1, activation = 'sigmoid'))\n",
        "    model.compile(loss = 'binary_crossentropy', optimizer = 'sgd', metrics = ['accuracy'])\n",
        "    return model"
      ]
    },
    {
      "cell_type": "code",
      "execution_count": null,
      "metadata": {
        "id": "a_5Ogj3v1Zc2"
      },
      "outputs": [],
      "source": [
        "nnc2_model = KerasClassifier(build_fn = model_2, batch_size = 10, epochs = 100, verbose = 0)\n",
        "\n",
        "nnc2_activation_arr = ['linear', 'relu', 'sigmoid', 'tanh']\n",
        "\n",
        "nnc2 = GridSearchCV(estimator = nnc2_model, \n",
        "                    param_grid = {'activation' : nnc2_activation_arr}, \n",
        "                    n_jobs = -1, cv = 5, return_train_score = True)\n",
        "\n",
        "nnc2.fit(X_train.values, y_train.values.ravel())\n",
        "\n",
        "nnc2_df = pd.DataFrame(nnc2.cv_results_)"
      ]
    },
    {
      "cell_type": "code",
      "execution_count": null,
      "metadata": {
        "colab": {
          "base_uri": "https://localhost:8080/",
          "height": 175
        },
        "id": "4fEXpP-K1tk7",
        "outputId": "3ff87628-f087-4c6e-d09b-cf837722a4c1"
      },
      "outputs": [
        {
          "output_type": "execute_result",
          "data": {
            "text/plain": [
              "  param_activation  mean_train_score  mean_test_score\n",
              "0           linear          0.860038         0.858285\n",
              "1             relu          0.908879         0.899216\n",
              "2          sigmoid          0.889677         0.884377\n",
              "3             tanh          0.908553         0.896281"
            ],
            "text/html": [
              "\n",
              "  <div id=\"df-fed7e310-f6d8-4d66-b0a8-9e543c9ee4db\">\n",
              "    <div class=\"colab-df-container\">\n",
              "      <div>\n",
              "<style scoped>\n",
              "    .dataframe tbody tr th:only-of-type {\n",
              "        vertical-align: middle;\n",
              "    }\n",
              "\n",
              "    .dataframe tbody tr th {\n",
              "        vertical-align: top;\n",
              "    }\n",
              "\n",
              "    .dataframe thead th {\n",
              "        text-align: right;\n",
              "    }\n",
              "</style>\n",
              "<table border=\"1\" class=\"dataframe\">\n",
              "  <thead>\n",
              "    <tr style=\"text-align: right;\">\n",
              "      <th></th>\n",
              "      <th>param_activation</th>\n",
              "      <th>mean_train_score</th>\n",
              "      <th>mean_test_score</th>\n",
              "    </tr>\n",
              "  </thead>\n",
              "  <tbody>\n",
              "    <tr>\n",
              "      <th>0</th>\n",
              "      <td>linear</td>\n",
              "      <td>0.860038</td>\n",
              "      <td>0.858285</td>\n",
              "    </tr>\n",
              "    <tr>\n",
              "      <th>1</th>\n",
              "      <td>relu</td>\n",
              "      <td>0.908879</td>\n",
              "      <td>0.899216</td>\n",
              "    </tr>\n",
              "    <tr>\n",
              "      <th>2</th>\n",
              "      <td>sigmoid</td>\n",
              "      <td>0.889677</td>\n",
              "      <td>0.884377</td>\n",
              "    </tr>\n",
              "    <tr>\n",
              "      <th>3</th>\n",
              "      <td>tanh</td>\n",
              "      <td>0.908553</td>\n",
              "      <td>0.896281</td>\n",
              "    </tr>\n",
              "  </tbody>\n",
              "</table>\n",
              "</div>\n",
              "      <button class=\"colab-df-convert\" onclick=\"convertToInteractive('df-fed7e310-f6d8-4d66-b0a8-9e543c9ee4db')\"\n",
              "              title=\"Convert this dataframe to an interactive table.\"\n",
              "              style=\"display:none;\">\n",
              "        \n",
              "  <svg xmlns=\"http://www.w3.org/2000/svg\" height=\"24px\"viewBox=\"0 0 24 24\"\n",
              "       width=\"24px\">\n",
              "    <path d=\"M0 0h24v24H0V0z\" fill=\"none\"/>\n",
              "    <path d=\"M18.56 5.44l.94 2.06.94-2.06 2.06-.94-2.06-.94-.94-2.06-.94 2.06-2.06.94zm-11 1L8.5 8.5l.94-2.06 2.06-.94-2.06-.94L8.5 2.5l-.94 2.06-2.06.94zm10 10l.94 2.06.94-2.06 2.06-.94-2.06-.94-.94-2.06-.94 2.06-2.06.94z\"/><path d=\"M17.41 7.96l-1.37-1.37c-.4-.4-.92-.59-1.43-.59-.52 0-1.04.2-1.43.59L10.3 9.45l-7.72 7.72c-.78.78-.78 2.05 0 2.83L4 21.41c.39.39.9.59 1.41.59.51 0 1.02-.2 1.41-.59l7.78-7.78 2.81-2.81c.8-.78.8-2.07 0-2.86zM5.41 20L4 18.59l7.72-7.72 1.47 1.35L5.41 20z\"/>\n",
              "  </svg>\n",
              "      </button>\n",
              "      \n",
              "  <style>\n",
              "    .colab-df-container {\n",
              "      display:flex;\n",
              "      flex-wrap:wrap;\n",
              "      gap: 12px;\n",
              "    }\n",
              "\n",
              "    .colab-df-convert {\n",
              "      background-color: #E8F0FE;\n",
              "      border: none;\n",
              "      border-radius: 50%;\n",
              "      cursor: pointer;\n",
              "      display: none;\n",
              "      fill: #1967D2;\n",
              "      height: 32px;\n",
              "      padding: 0 0 0 0;\n",
              "      width: 32px;\n",
              "    }\n",
              "\n",
              "    .colab-df-convert:hover {\n",
              "      background-color: #E2EBFA;\n",
              "      box-shadow: 0px 1px 2px rgba(60, 64, 67, 0.3), 0px 1px 3px 1px rgba(60, 64, 67, 0.15);\n",
              "      fill: #174EA6;\n",
              "    }\n",
              "\n",
              "    [theme=dark] .colab-df-convert {\n",
              "      background-color: #3B4455;\n",
              "      fill: #D2E3FC;\n",
              "    }\n",
              "\n",
              "    [theme=dark] .colab-df-convert:hover {\n",
              "      background-color: #434B5C;\n",
              "      box-shadow: 0px 1px 3px 1px rgba(0, 0, 0, 0.15);\n",
              "      filter: drop-shadow(0px 1px 2px rgba(0, 0, 0, 0.3));\n",
              "      fill: #FFFFFF;\n",
              "    }\n",
              "  </style>\n",
              "\n",
              "      <script>\n",
              "        const buttonEl =\n",
              "          document.querySelector('#df-fed7e310-f6d8-4d66-b0a8-9e543c9ee4db button.colab-df-convert');\n",
              "        buttonEl.style.display =\n",
              "          google.colab.kernel.accessAllowed ? 'block' : 'none';\n",
              "\n",
              "        async function convertToInteractive(key) {\n",
              "          const element = document.querySelector('#df-fed7e310-f6d8-4d66-b0a8-9e543c9ee4db');\n",
              "          const dataTable =\n",
              "            await google.colab.kernel.invokeFunction('convertToInteractive',\n",
              "                                                     [key], {});\n",
              "          if (!dataTable) return;\n",
              "\n",
              "          const docLinkHtml = 'Like what you see? Visit the ' +\n",
              "            '<a target=\"_blank\" href=https://colab.research.google.com/notebooks/data_table.ipynb>data table notebook</a>'\n",
              "            + ' to learn more about interactive tables.';\n",
              "          element.innerHTML = '';\n",
              "          dataTable['output_type'] = 'display_data';\n",
              "          await google.colab.output.renderOutput(dataTable, element);\n",
              "          const docLink = document.createElement('div');\n",
              "          docLink.innerHTML = docLinkHtml;\n",
              "          element.appendChild(docLink);\n",
              "        }\n",
              "      </script>\n",
              "    </div>\n",
              "  </div>\n",
              "  "
            ]
          },
          "metadata": {},
          "execution_count": 35
        }
      ],
      "source": [
        "nnc2_df[['param_activation', 'mean_train_score', 'mean_test_score']]"
      ]
    },
    {
      "cell_type": "code",
      "execution_count": null,
      "metadata": {
        "colab": {
          "base_uri": "https://localhost:8080/",
          "height": 382
        },
        "id": "i64Kz0_614KO",
        "outputId": "e9c01251-f075-41ff-9f6f-d8d834b16586"
      },
      "outputs": [
        {
          "output_type": "stream",
          "name": "stdout",
          "text": [
            "Best Parameters: {'activation': 'relu'}\n",
            "Best Cross-Validation Accuracy: 0.90\n"
          ]
        },
        {
          "output_type": "display_data",
          "data": {
            "text/plain": [
              "<Figure size 432x288 with 1 Axes>"
            ],
            "image/png": "[encoded data removed]"
          },
          "metadata": {
            "needs_background": "light"
          }
        },
        {
          "output_type": "stream",
          "name": "stdout",
          "text": [
            "Accuracy: 0.90\n",
            "Sensitivity: 0.77\n",
            "Specificity: 0.95\n"
          ]
        }
      ],
      "source": [
        "print('Best Parameters: {}'.format(nnc2.best_params_))\n",
        "print('Best Cross-Validation Accuracy: {:.2f}'.format(nnc2.best_score_))\n",
        "\n",
        "pred_nnc2 = nnc2.predict(X_test)\n",
        "\n",
        "# plot_roc_curve(nnc2, X_test, c_test)\n",
        "# plt.title('ROC Curve')\n",
        "# plt.show()\n",
        "\n",
        "cm_nnc2 = confusion_matrix(y_test, pred_nnc2)\n",
        "tn, fp, fn, tp = cm_nnc2.ravel()\n",
        "\n",
        "ax = sns.heatmap(cm_nnc2.T, square = True, annot = True, fmt = 'd', cbar = False, cmap = 'Greens')\n",
        "ax.set(xlabel = 'Actual', ylabel = 'Predicted', title = 'Confusion Matrix')\n",
        "plt.show()\n",
        "\n",
        "print('Accuracy: {:.2f}'.format(accuracy_score(y_test, pred_nnc2)))\n",
        "print('Sensitivity: {:.2f}'.format(tp / (tp + fn)))\n",
        "print('Specificity: {:.2f}'.format(tn / (tn + fp)))"
      ]
    },
    {
      "cell_type": "markdown",
      "metadata": {
        "id": "GSeBiRiY18qs"
      },
      "source": [
        "3.Learning Rate and Momentum of the 1st hidden layer nodes (Not running as computationally expensive)"
      ]
    },
    {
      "cell_type": "code",
      "execution_count": null,
      "metadata": {
        "id": "NLC6gaiX1-uK"
      },
      "outputs": [],
      "source": [
        "def model_3(learn_rate = 0.01, momentum = 0.0):\n",
        "    model = Sequential()\n",
        "    model.add(Dense(6, activation = 'relu'))\n",
        "    model.add(Dense(1, activation = 'sigmoid'))\n",
        "    optimizer = keras.optimizers.SGD(lr = learn_rate, momentum = momentum)\n",
        "    model.compile(loss = 'binary_crossentropy', optimizer = optimizer, metrics = ['accuracy'])\n",
        "    return model"
      ]
    },
    {
      "cell_type": "code",
      "execution_count": null,
      "metadata": {
        "colab": {
          "background_save": true
        },
        "id": "piTETT0m2MZ-"
      },
      "outputs": [],
      "source": [
        "nnc3_model = KerasClassifier(build_fn = model_3, batch_size = 10, epochs = 100, verbose = 0)\n",
        "\n",
        "nnc3_learn_rate_arr = [0.001, 0.01, 0.1, 0.2, 0.5]\n",
        "nnc3_momentum_arr = [0.0, 0.1, 0.2, 0.5, 0.9]\n",
        " \n",
        "nnc3 = GridSearchCV(estimator = nnc3_model, \n",
        "                    param_grid = {'learn_rate' : nnc3_learn_rate_arr,\n",
        "                                  'momentum' : nnc3_momentum_arr}, \n",
        "                    n_jobs = -1, cv = 5, return_train_score = True)\n",
        "\n",
        "nnc3.fit(X_train.values, y_train.values.ravel())\n",
        "\n",
        "nnc3_df = pd.DataFrame(nnc3.cv_results_)"
      ]
    },
    {
      "cell_type": "code",
      "execution_count": null,
      "metadata": {
        "id": "EFCIRjMR2VDz"
      },
      "outputs": [],
      "source": [
        "jnnc3_train_err_mat = (1 - nnc3_df['mean_train_score']).values.reshape(len(nnc3_learn_rate_arr), len(nnc3_momentum_arr))\n",
        "ax = sns.heatmap(pd.DataFrame(nnc3_train_err_mat, columns = nnc3_momentum_arr, index = nnc3_learn_rate_arr).iloc[::-1], \n",
        "                 annot = True, cmap = 'Greens_r')\n",
        "ax.set(xlabel = 'Momentum', ylabel = 'Learning Rate', title = 'Train Error Rate vs Tuning Parameters')\n",
        "plt.show()\n",
        "\n",
        "nnc3_cv_err_mat = (1 - nnc3_df['mean_test_score']).values.reshape(len(nnc3_learn_rate_arr), len(nnc3_momentum_arr))\n",
        "ax = sns.heatmap(pd.DataFrame(nnc3_cv_err_mat, columns = nnc3_momentum_arr, index = nnc3_learn_rate_arr).iloc[::-1], \n",
        "                 annot = True, cmap = 'Greens_r')\n",
        "ax.set(xlabel = 'Momentum', ylabel = 'Learning Rate', title = 'CV Error Rate vs Tuning Parameters')\n",
        "plt.show()"
      ]
    },
    {
      "cell_type": "code",
      "execution_count": null,
      "metadata": {
        "id": "47PNYT8k2ciB"
      },
      "outputs": [],
      "source": [
        "\n",
        "\n",
        "print('Best Parameters: {}'.format(nnc3.best_params_))\n",
        "print('Best Cross-Validation Accuracy: {:.2f}'.format(nnc3.best_score_))\n",
        "\n",
        "pred_nnc3 = nnc3.predict(X_test)\n",
        "\n",
        "# plot_roc_curve(nnc3, X_test, c_test)\n",
        "# plt.title('ROC Curve')\n",
        "# plt.show()\n",
        "\n",
        "cm_nnc3 = confusion_matrix(y_test, pred_nnc3)\n",
        "tn, fp, fn, tp = cm_nnc3.ravel()\n",
        "\n",
        "ax = sns.heatmap(cm_nnc3.T, square = True, annot = True, fmt = 'd', cbar = False, cmap = 'Greens')\n",
        "ax.set(xlabel = 'Actual', ylabel = 'Predicted', title = 'Confusion Matrix')\n",
        "plt.show()\n",
        "\n",
        "print('Accuracy: {:.2f}'.format(accuracy_score(c_test, pred_nnc3)))\n",
        "print('Sensitivity: {:.2f}'.format(tp / (tp + fn)))\n",
        "print('Specificity: {:.2f}'.format(tn / (tn + fp)))\n",
        "\n"
      ]
    },
    {
      "cell_type": "markdown",
      "metadata": {
        "id": "_KceiSAo2pJW"
      },
      "source": [
        "4.Drop-out Rate and Weight Constraint of the 1st hidden layer nodes(Not running as computationally expensive)"
      ]
    },
    {
      "cell_type": "code",
      "execution_count": null,
      "metadata": {
        "id": "_R11S3CP2w9t"
      },
      "outputs": [],
      "source": [
        "def model_4(dropout_rate = 0.0, weight_constraint = 0):\n",
        "    model = Sequential()\n",
        "    model.add(Dense(10, activation = 'relu', kernel_constraint = maxnorm(weight_constraint)))\n",
        "    model.add(Dropout(dropout_rate))\n",
        "    model.add(Dense(1, activation = 'sigmoid'))\n",
        "    optimizer = keras.optimizers.SGD(lr = 0.01, momentum = 0.9)\n",
        "    model.compile(loss = 'binary_crossentropy', optimizer = optimizer, metrics= ['accuracy'])\n",
        "    return model"
      ]
    },
    {
      "cell_type": "code",
      "execution_count": null,
      "metadata": {
        "id": "o9JpBIc023yh"
      },
      "outputs": [],
      "source": [
        "nnc4_model = KerasClassifier(build_fn = model_4, batch_size = 10, epochs = 100, verbose = 0)\n",
        "\n",
        "nnc4_wgt_constraint_arr = [0, 1, 2, 3, 4, 5]\n",
        "nnc4_dropout_rate_arr = [0.0, 0.1, 0.2, 0.5, 0.9]\n",
        "\n",
        "nnc4 = GridSearchCV(estimator = nnc4_model, \n",
        "                    param_grid = {'weight_constraint' : nnc4_wgt_constraint_arr,\n",
        "                                  'dropout_rate' : nnc4_dropout_rate_arr}, \n",
        "                    n_jobs = -1, cv = 5, return_train_score = True)\n",
        "\n",
        "nnc4.fit(X_train.values, y_train.values.ravel())\n",
        "\n",
        "nnc4_df = pd.DataFrame(nnc4.cv_results_)"
      ]
    },
    {
      "cell_type": "code",
      "execution_count": null,
      "metadata": {
        "id": "2OUIVKHC26uf"
      },
      "outputs": [],
      "source": [
        "nnc4_train_err_mat = (1 - nnc4_df['mean_train_score']).values.reshape(len(nnc4_wgt_constraint_arr), \n",
        "                                                                      len(nnc4_dropout_rate_arr))\n",
        "ax = sns.heatmap(pd.DataFrame(nnc4_train_err_mat, columns = nnc4_dropout_rate_arr, \n",
        "                              index = nnc4_wgt_constraint_arr).iloc[::-1], annot = True, cmap = 'Greens_r')\n",
        "ax.set(xlabel = 'Drop-out Rate', ylabel = 'Max Norm Weight', title = 'Train Error Rate vs Tuning Parameters')\n",
        "plt.show()\n",
        "\n",
        "nnc4_cv_err_mat = (1 - nnc4_df['mean_test_score']).values.reshape(len(nnc4_wgt_constraint_arr), len(nnc4_dropout_rate_arr))\n",
        "ax = sns.heatmap(pd.DataFrame(nnc4_cv_err_mat, columns = nnc4_dropout_rate_arr, \n",
        "                              index = nnc4_wgt_constraint_arr).iloc[::-1], annot = True, cmap = 'Greens_r')\n",
        "ax.set(xlabel = 'Drop-out Rate', ylabel = 'Max Norm Weight', title = 'CV Error Rate vs Tuning Parameters')\n",
        "plt.show()"
      ]
    },
    {
      "cell_type": "code",
      "execution_count": null,
      "metadata": {
        "id": "zCrLFj8p3DXq"
      },
      "outputs": [],
      "source": [
        "print('Best Parameters: {}'.format(nnc4.best_params_))\n",
        "print('Best Cross-Validation Accuracy: {:.2f}'.format(nnc4.best_score_))\n",
        "\n",
        "pred_nnc4 = nnc4.predict(X_test)\n",
        "\n",
        "# plot_roc_curve(nnc4, X_test, c_test)\n",
        "# plt.title('ROC Curve')\n",
        "# plt.show()\n",
        "\n",
        "cm_nnc4 = confusion_matrix(y_test, pred_nnc4)\n",
        "tn, fp, fn, tp = cm_nnc4.ravel()\n",
        "\n",
        "ax = sns.heatmap(cm_nnc4.T, square = True, annot = True, fmt = 'd', cbar = False, cmap = 'Greens')\n",
        "ax.set(xlabel = 'Actual', ylabel = 'Predicted', title = 'Confusion Matrix')\n",
        "plt.show()\n",
        "\n",
        "print('Accuracy: {:.2f}'.format(accuracy_score(y_test, pred_nnc4)))\n",
        "print('Sensitivity: {:.2f}'.format(tp / (tp + fn)))\n",
        "print('Specificity: {:.2f}'.format(tn / (tn + fp)))"
      ]
    },
    {
      "cell_type": "markdown",
      "metadata": {
        "id": "TNJNym9V3JGj"
      },
      "source": [
        "5. NO Of Neurons in First Hidden Layer"
      ]
    },
    {
      "cell_type": "code",
      "execution_count": null,
      "metadata": {
        "id": "JSZMvDdZ3MMG"
      },
      "outputs": [],
      "source": [
        "def model_5(neurons = 0):\n",
        "    model = Sequential()\n",
        "    model.add(Dense(neurons, activation = 'relu', kernel_constraint = maxnorm(3)))\n",
        "    model.add(Dropout(0.1))\n",
        "    model.add(Dense(1, activation = 'sigmoid'))\n",
        "    optimizer = keras.optimizers.SGD(lr = 0.01, momentum = 0.9)\n",
        "    model.compile(loss = 'binary_crossentropy', optimizer = optimizer, metrics= ['accuracy'])\n",
        "    return model"
      ]
    },
    {
      "cell_type": "code",
      "execution_count": null,
      "metadata": {
        "id": "p1QPgrzd3SWX"
      },
      "outputs": [],
      "source": [
        "nnc5_model = KerasClassifier(build_fn = model_5, batch_size = 10, epochs = 100, verbose = 0)\n",
        "\n",
        "nnc5_neuron_arr = [1, 5, 10, 15, 20, 25, 30]\n",
        "\n",
        "nnc5 = GridSearchCV(estimator = nnc5_model, \n",
        "                    param_grid = {'neurons' : nnc5_neuron_arr}, \n",
        "                    n_jobs = -1, cv = 5, return_train_score = True)\n",
        "\n",
        "nnc5.fit(X_train.values, y_train.values.ravel())\n",
        "\n",
        "nnc5_df = pd.DataFrame(nnc5.cv_results_)"
      ]
    },
    {
      "cell_type": "code",
      "execution_count": null,
      "metadata": {
        "colab": {
          "base_uri": "https://localhost:8080/",
          "height": 269
        },
        "id": "WnsXdXNB3WSN",
        "outputId": "c46e5cae-d27e-4466-a5f8-bc768185e281"
      },
      "outputs": [
        {
          "data": {
            "text/html": [
              "\n",
              "  <div id=\"df-610f1cac-cda1-4ef0-88a1-dfb89c8fd753\">\n",
              "    <div class=\"colab-df-container\">\n",
              "      <div>\n",
              "<style scoped>\n",
              "    .dataframe tbody tr th:only-of-type {\n",
              "        vertical-align: middle;\n",
              "    }\n",
              "\n",
              "    .dataframe tbody tr th {\n",
              "        vertical-align: top;\n",
              "    }\n",
              "\n",
              "    .dataframe thead th {\n",
              "        text-align: right;\n",
              "    }\n",
              "</style>\n",
              "<table border=\"1\" class=\"dataframe\">\n",
              "  <thead>\n",
              "    <tr style=\"text-align: right;\">\n",
              "      <th></th>\n",
              "      <th>param_neurons</th>\n",
              "      <th>mean_train_score</th>\n",
              "      <th>mean_test_score</th>\n",
              "    </tr>\n",
              "  </thead>\n",
              "  <tbody>\n",
              "    <tr>\n",
              "      <th>0</th>\n",
              "      <td>1</td>\n",
              "      <td>0.862076</td>\n",
              "      <td>0.859590</td>\n",
              "    </tr>\n",
              "    <tr>\n",
              "      <th>1</th>\n",
              "      <td>5</td>\n",
              "      <td>0.896119</td>\n",
              "      <td>0.885355</td>\n",
              "    </tr>\n",
              "    <tr>\n",
              "      <th>2</th>\n",
              "      <td>10</td>\n",
              "      <td>0.910225</td>\n",
              "      <td>0.898727</td>\n",
              "    </tr>\n",
              "    <tr>\n",
              "      <th>3</th>\n",
              "      <td>15</td>\n",
              "      <td>0.915688</td>\n",
              "      <td>0.901010</td>\n",
              "    </tr>\n",
              "    <tr>\n",
              "      <th>4</th>\n",
              "      <td>20</td>\n",
              "      <td>0.923394</td>\n",
              "      <td>0.905902</td>\n",
              "    </tr>\n",
              "    <tr>\n",
              "      <th>5</th>\n",
              "      <td>25</td>\n",
              "      <td>0.925024</td>\n",
              "      <td>0.903946</td>\n",
              "    </tr>\n",
              "    <tr>\n",
              "      <th>6</th>\n",
              "      <td>30</td>\n",
              "      <td>0.927266</td>\n",
              "      <td>0.909165</td>\n",
              "    </tr>\n",
              "  </tbody>\n",
              "</table>\n",
              "</div>\n",
              "      <button class=\"colab-df-convert\" onclick=\"convertToInteractive('df-610f1cac-cda1-4ef0-88a1-dfb89c8fd753')\"\n",
              "              title=\"Convert this dataframe to an interactive table.\"\n",
              "              style=\"display:none;\">\n",
              "        \n",
              "  <svg xmlns=\"http://www.w3.org/2000/svg\" height=\"24px\"viewBox=\"0 0 24 24\"\n",
              "       width=\"24px\">\n",
              "    <path d=\"M0 0h24v24H0V0z\" fill=\"none\"/>\n",
              "    <path d=\"M18.56 5.44l.94 2.06.94-2.06 2.06-.94-2.06-.94-.94-2.06-.94 2.06-2.06.94zm-11 1L8.5 8.5l.94-2.06 2.06-.94-2.06-.94L8.5 2.5l-.94 2.06-2.06.94zm10 10l.94 2.06.94-2.06 2.06-.94-2.06-.94-.94-2.06-.94 2.06-2.06.94z\"/><path d=\"M17.41 7.96l-1.37-1.37c-.4-.4-.92-.59-1.43-.59-.52 0-1.04.2-1.43.59L10.3 9.45l-7.72 7.72c-.78.78-.78 2.05 0 2.83L4 21.41c.39.39.9.59 1.41.59.51 0 1.02-.2 1.41-.59l7.78-7.78 2.81-2.81c.8-.78.8-2.07 0-2.86zM5.41 20L4 18.59l7.72-7.72 1.47 1.35L5.41 20z\"/>\n",
              "  </svg>\n",
              "      </button>\n",
              "      \n",
              "  <style>\n",
              "    .colab-df-container {\n",
              "      display:flex;\n",
              "      flex-wrap:wrap;\n",
              "      gap: 12px;\n",
              "    }\n",
              "\n",
              "    .colab-df-convert {\n",
              "      background-color: #E8F0FE;\n",
              "      border: none;\n",
              "      border-radius: 50%;\n",
              "      cursor: pointer;\n",
              "      display: none;\n",
              "      fill: #1967D2;\n",
              "      height: 32px;\n",
              "      padding: 0 0 0 0;\n",
              "      width: 32px;\n",
              "    }\n",
              "\n",
              "    .colab-df-convert:hover {\n",
              "      background-color: #E2EBFA;\n",
              "      box-shadow: 0px 1px 2px rgba(60, 64, 67, 0.3), 0px 1px 3px 1px rgba(60, 64, 67, 0.15);\n",
              "      fill: #174EA6;\n",
              "    }\n",
              "\n",
              "    [theme=dark] .colab-df-convert {\n",
              "      background-color: #3B4455;\n",
              "      fill: #D2E3FC;\n",
              "    }\n",
              "\n",
              "    [theme=dark] .colab-df-convert:hover {\n",
              "      background-color: #434B5C;\n",
              "      box-shadow: 0px 1px 3px 1px rgba(0, 0, 0, 0.15);\n",
              "      filter: drop-shadow(0px 1px 2px rgba(0, 0, 0, 0.3));\n",
              "      fill: #FFFFFF;\n",
              "    }\n",
              "  </style>\n",
              "\n",
              "      <script>\n",
              "        const buttonEl =\n",
              "          document.querySelector('#df-610f1cac-cda1-4ef0-88a1-dfb89c8fd753 button.colab-df-convert');\n",
              "        buttonEl.style.display =\n",
              "          google.colab.kernel.accessAllowed ? 'block' : 'none';\n",
              "\n",
              "        async function convertToInteractive(key) {\n",
              "          const element = document.querySelector('#df-610f1cac-cda1-4ef0-88a1-dfb89c8fd753');\n",
              "          const dataTable =\n",
              "            await google.colab.kernel.invokeFunction('convertToInteractive',\n",
              "                                                     [key], {});\n",
              "          if (!dataTable) return;\n",
              "\n",
              "          const docLinkHtml = 'Like what you see? Visit the ' +\n",
              "            '<a target=\"_blank\" href=https://colab.research.google.com/notebooks/data_table.ipynb>data table notebook</a>'\n",
              "            + ' to learn more about interactive tables.';\n",
              "          element.innerHTML = '';\n",
              "          dataTable['output_type'] = 'display_data';\n",
              "          await google.colab.output.renderOutput(dataTable, element);\n",
              "          const docLink = document.createElement('div');\n",
              "          docLink.innerHTML = docLinkHtml;\n",
              "          element.appendChild(docLink);\n",
              "        }\n",
              "      </script>\n",
              "    </div>\n",
              "  </div>\n",
              "  "
            ],
            "text/plain": [
              "  param_neurons  mean_train_score  mean_test_score\n",
              "0             1          0.862076         0.859590\n",
              "1             5          0.896119         0.885355\n",
              "2            10          0.910225         0.898727\n",
              "3            15          0.915688         0.901010\n",
              "4            20          0.923394         0.905902\n",
              "5            25          0.925024         0.903946\n",
              "6            30          0.927266         0.909165"
            ]
          },
          "execution_count": 50,
          "metadata": {},
          "output_type": "execute_result"
        }
      ],
      "source": [
        "nnc5_df[['param_neurons', 'mean_train_score', 'mean_test_score']]"
      ]
    },
    {
      "cell_type": "code",
      "execution_count": null,
      "metadata": {
        "colab": {
          "base_uri": "https://localhost:8080/",
          "height": 382
        },
        "id": "DX7SJ7kg3YOL",
        "outputId": "1cad69de-cc41-4c8d-fb9a-7837a91d1015"
      },
      "outputs": [
        {
          "name": "stdout",
          "output_type": "stream",
          "text": [
            "Best Parameters: {'neurons': 25}\n",
            "Best Cross-Validation Accuracy: 0.91\n"
          ]
        },
        {
          "data": {
            "image/png": "[encoded data removed]",
            "text/plain": [
              "<Figure size 432x288 with 1 Axes>"
            ]
          },
          "metadata": {},
          "output_type": "display_data"
        },
        {
          "name": "stdout",
          "output_type": "stream",
          "text": [
            "Accuracy: 0.92\n",
            "Sensitivity: 0.78\n",
            "Specificity: 0.96\n"
          ]
        }
      ],
      "source": [
        "print('Best Parameters: {}'.format(nnc5.best_params_))\n",
        "print('Best Cross-Validation Accuracy: {:.2f}'.format(nnc5.best_score_))\n",
        "\n",
        "pred_nnc5 = nnc5.predict(X_test)\n",
        "\n",
        "# plot_roc_curve(nnc5, X_test, c_test)\n",
        "# plt.title('ROC Curve')\n",
        "# plt.show()\n",
        "\n",
        "cm_nnc5 = confusion_matrix(y_test, pred_nnc5)\n",
        "tn, fp, fn, tp = cm_nnc5.ravel()\n",
        "\n",
        "ax = sns.heatmap(cm_nnc5.T, square = True, annot = True, fmt = 'd', cbar = False, cmap = 'Greens')\n",
        "ax.set(xlabel = 'Actual', ylabel = 'Predicted', title = 'Confusion Matrix')\n",
        "plt.show()\n",
        "\n",
        "print('Accuracy: {:.2f}'.format(accuracy_score(y_test, pred_nnc5)))\n",
        "print('Sensitivity: {:.2f}'.format(tp / (tp + fn)))\n",
        "print('Specificity: {:.2f}'.format(tn / (tn + fp)))"
      ]
    },
    {
      "cell_type": "markdown",
      "metadata": {
        "id": "TxaXftK_3gYU"
      },
      "source": [
        "6. No Of Layers in Second Hidden Layer"
      ]
    },
    {
      "cell_type": "code",
      "execution_count": null,
      "metadata": {
        "id": "6_iZS6Gk3fiu"
      },
      "outputs": [],
      "source": [
        "def model_6(neurons = 0):\n",
        "    model = Sequential()\n",
        "    model.add(Dense(10, activation = 'relu', kernel_constraint = maxnorm(3)))\n",
        "    model.add(Dropout(0.1))\n",
        "    model.add(Dense(neurons, activation = 'relu', kernel_constraint = maxnorm(3)))\n",
        "    model.add(Dropout(0.1))\n",
        "    model.add(Dense(1, activation = 'sigmoid'))\n",
        "    optimizer = keras.optimizers.SGD(lr = 0.01, momentum = 0.9)\n",
        "    model.compile(loss = 'binary_crossentropy', optimizer = optimizer, metrics= ['accuracy'])\n",
        "    return model"
      ]
    },
    {
      "cell_type": "code",
      "execution_count": null,
      "metadata": {
        "id": "cRVpNQWs3pAr"
      },
      "outputs": [],
      "source": [
        "nnc6_model = KerasClassifier(build_fn = model_6, batch_size = 10, epochs = 100, verbose = 0)\n",
        "\n",
        "nnc6_neuron_arr = [1, 5, 10, 15, 20, 25, 30]\n",
        "\n",
        "nnc6 = GridSearchCV(estimator = nnc6_model, \n",
        "                    param_grid = {'neurons' : nnc6_neuron_arr}, \n",
        "                    n_jobs = -1, cv = 5, return_train_score = True)\n",
        "\n",
        "nnc6.fit(X_train.values, y_train.values.ravel())\n",
        "\n",
        "nnc6_df = pd.DataFrame(nnc6.cv_results_)"
      ]
    },
    {
      "cell_type": "code",
      "execution_count": null,
      "metadata": {
        "colab": {
          "base_uri": "https://localhost:8080/",
          "height": 269
        },
        "id": "pchu-rm53uPC",
        "outputId": "92bc8da7-452c-4c12-a718-dc0e681cb322"
      },
      "outputs": [
        {
          "data": {
            "text/html": [
              "\n",
              "  <div id=\"df-2e290d66-f834-4c3d-aa70-1f266687f49b\">\n",
              "    <div class=\"colab-df-container\">\n",
              "      <div>\n",
              "<style scoped>\n",
              "    .dataframe tbody tr th:only-of-type {\n",
              "        vertical-align: middle;\n",
              "    }\n",
              "\n",
              "    .dataframe tbody tr th {\n",
              "        vertical-align: top;\n",
              "    }\n",
              "\n",
              "    .dataframe thead th {\n",
              "        text-align: right;\n",
              "    }\n",
              "</style>\n",
              "<table border=\"1\" class=\"dataframe\">\n",
              "  <thead>\n",
              "    <tr style=\"text-align: right;\">\n",
              "      <th></th>\n",
              "      <th>param_neurons</th>\n",
              "      <th>mean_train_score</th>\n",
              "      <th>mean_test_score</th>\n",
              "    </tr>\n",
              "  </thead>\n",
              "  <tbody>\n",
              "    <tr>\n",
              "      <th>0</th>\n",
              "      <td>1</td>\n",
              "      <td>0.909369</td>\n",
              "      <td>0.896771</td>\n",
              "    </tr>\n",
              "    <tr>\n",
              "      <th>1</th>\n",
              "      <td>5</td>\n",
              "      <td>0.911529</td>\n",
              "      <td>0.899054</td>\n",
              "    </tr>\n",
              "    <tr>\n",
              "      <th>2</th>\n",
              "      <td>10</td>\n",
              "      <td>0.912467</td>\n",
              "      <td>0.900685</td>\n",
              "    </tr>\n",
              "    <tr>\n",
              "      <th>3</th>\n",
              "      <td>15</td>\n",
              "      <td>0.913976</td>\n",
              "      <td>0.900032</td>\n",
              "    </tr>\n",
              "    <tr>\n",
              "      <th>4</th>\n",
              "      <td>20</td>\n",
              "      <td>0.912998</td>\n",
              "      <td>0.897422</td>\n",
              "    </tr>\n",
              "    <tr>\n",
              "      <th>5</th>\n",
              "      <td>25</td>\n",
              "      <td>0.917442</td>\n",
              "      <td>0.906717</td>\n",
              "    </tr>\n",
              "    <tr>\n",
              "      <th>6</th>\n",
              "      <td>30</td>\n",
              "      <td>0.916259</td>\n",
              "      <td>0.903945</td>\n",
              "    </tr>\n",
              "  </tbody>\n",
              "</table>\n",
              "</div>\n",
              "      <button class=\"colab-df-convert\" onclick=\"convertToInteractive('df-2e290d66-f834-4c3d-aa70-1f266687f49b')\"\n",
              "              title=\"Convert this dataframe to an interactive table.\"\n",
              "              style=\"display:none;\">\n",
              "        \n",
              "  <svg xmlns=\"http://www.w3.org/2000/svg\" height=\"24px\"viewBox=\"0 0 24 24\"\n",
              "       width=\"24px\">\n",
              "    <path d=\"M0 0h24v24H0V0z\" fill=\"none\"/>\n",
              "    <path d=\"M18.56 5.44l.94 2.06.94-2.06 2.06-.94-2.06-.94-.94-2.06-.94 2.06-2.06.94zm-11 1L8.5 8.5l.94-2.06 2.06-.94-2.06-.94L8.5 2.5l-.94 2.06-2.06.94zm10 10l.94 2.06.94-2.06 2.06-.94-2.06-.94-.94-2.06-.94 2.06-2.06.94z\"/><path d=\"M17.41 7.96l-1.37-1.37c-.4-.4-.92-.59-1.43-.59-.52 0-1.04.2-1.43.59L10.3 9.45l-7.72 7.72c-.78.78-.78 2.05 0 2.83L4 21.41c.39.39.9.59 1.41.59.51 0 1.02-.2 1.41-.59l7.78-7.78 2.81-2.81c.8-.78.8-2.07 0-2.86zM5.41 20L4 18.59l7.72-7.72 1.47 1.35L5.41 20z\"/>\n",
              "  </svg>\n",
              "      </button>\n",
              "      \n",
              "  <style>\n",
              "    .colab-df-container {\n",
              "      display:flex;\n",
              "      flex-wrap:wrap;\n",
              "      gap: 12px;\n",
              "    }\n",
              "\n",
              "    .colab-df-convert {\n",
              "      background-color: #E8F0FE;\n",
              "      border: none;\n",
              "      border-radius: 50%;\n",
              "      cursor: pointer;\n",
              "      display: none;\n",
              "      fill: #1967D2;\n",
              "      height: 32px;\n",
              "      padding: 0 0 0 0;\n",
              "      width: 32px;\n",
              "    }\n",
              "\n",
              "    .colab-df-convert:hover {\n",
              "      background-color: #E2EBFA;\n",
              "      box-shadow: 0px 1px 2px rgba(60, 64, 67, 0.3), 0px 1px 3px 1px rgba(60, 64, 67, 0.15);\n",
              "      fill: #174EA6;\n",
              "    }\n",
              "\n",
              "    [theme=dark] .colab-df-convert {\n",
              "      background-color: #3B4455;\n",
              "      fill: #D2E3FC;\n",
              "    }\n",
              "\n",
              "    [theme=dark] .colab-df-convert:hover {\n",
              "      background-color: #434B5C;\n",
              "      box-shadow: 0px 1px 3px 1px rgba(0, 0, 0, 0.15);\n",
              "      filter: drop-shadow(0px 1px 2px rgba(0, 0, 0, 0.3));\n",
              "      fill: #FFFFFF;\n",
              "    }\n",
              "  </style>\n",
              "\n",
              "      <script>\n",
              "        const buttonEl =\n",
              "          document.querySelector('#df-2e290d66-f834-4c3d-aa70-1f266687f49b button.colab-df-convert');\n",
              "        buttonEl.style.display =\n",
              "          google.colab.kernel.accessAllowed ? 'block' : 'none';\n",
              "\n",
              "        async function convertToInteractive(key) {\n",
              "          const element = document.querySelector('#df-2e290d66-f834-4c3d-aa70-1f266687f49b');\n",
              "          const dataTable =\n",
              "            await google.colab.kernel.invokeFunction('convertToInteractive',\n",
              "                                                     [key], {});\n",
              "          if (!dataTable) return;\n",
              "\n",
              "          const docLinkHtml = 'Like what you see? Visit the ' +\n",
              "            '<a target=\"_blank\" href=https://colab.research.google.com/notebooks/data_table.ipynb>data table notebook</a>'\n",
              "            + ' to learn more about interactive tables.';\n",
              "          element.innerHTML = '';\n",
              "          dataTable['output_type'] = 'display_data';\n",
              "          await google.colab.output.renderOutput(dataTable, element);\n",
              "          const docLink = document.createElement('div');\n",
              "          docLink.innerHTML = docLinkHtml;\n",
              "          element.appendChild(docLink);\n",
              "        }\n",
              "      </script>\n",
              "    </div>\n",
              "  </div>\n",
              "  "
            ],
            "text/plain": [
              "  param_neurons  mean_train_score  mean_test_score\n",
              "0             1          0.909369         0.896771\n",
              "1             5          0.911529         0.899054\n",
              "2            10          0.912467         0.900685\n",
              "3            15          0.913976         0.900032\n",
              "4            20          0.912998         0.897422\n",
              "5            25          0.917442         0.906717\n",
              "6            30          0.916259         0.903945"
            ]
          },
          "execution_count": 57,
          "metadata": {},
          "output_type": "execute_result"
        }
      ],
      "source": [
        "nnc6_df[['param_neurons', 'mean_train_score', 'mean_test_score']]"
      ]
    },
    {
      "cell_type": "code",
      "execution_count": null,
      "metadata": {
        "colab": {
          "base_uri": "https://localhost:8080/",
          "height": 382
        },
        "id": "XT_qfIeH3vDk",
        "outputId": "90aaa2ae-14b3-425d-bf12-358f5fcbe359"
      },
      "outputs": [
        {
          "name": "stdout",
          "output_type": "stream",
          "text": [
            "Best Parameters: {'neurons': 25}\n",
            "Best Cross-Validation Accuracy: 0.91\n"
          ]
        },
        {
          "data": {
            "image/png": "[encoded data removed]",
            "text/plain": [
              "<Figure size 432x288 with 1 Axes>"
            ]
          },
          "metadata": {},
          "output_type": "display_data"
        },
        {
          "name": "stdout",
          "output_type": "stream",
          "text": [
            "Accuracy: 0.92\n",
            "Sensitivity: 0.75\n",
            "Specificity: 0.97\n"
          ]
        }
      ],
      "source": [
        "print('Best Parameters: {}'.format(nnc6.best_params_))\n",
        "print('Best Cross-Validation Accuracy: {:.2f}'.format(nnc6.best_score_))\n",
        "\n",
        "pred_nnc6 = nnc6.predict(X_test)\n",
        "\n",
        "cm_nnc6 = confusion_matrix(y_test, pred_nnc6)\n",
        "tn, fp, fn, tp = cm_nnc6.ravel()\n",
        "\n",
        "ax = sns.heatmap(cm_nnc6.T, square = True, annot = True, fmt = 'd', cbar = False, cmap = 'Greens')\n",
        "ax.set(xlabel = 'Actual', ylabel = 'Predicted', title = 'Confusion Matrix')\n",
        "plt.show()\n",
        "\n",
        "print('Accuracy: {:.2f}'.format(accuracy_score(y_test, pred_nnc6)))\n",
        "print('Sensitivity: {:.2f}'.format(tp / (tp + fn)))\n",
        "print('Specificity: {:.2f}'.format(tn / (tn + fp)))"
      ]
    },
    {
      "cell_type": "code",
      "execution_count": null,
      "metadata": {
        "id": "77ZTpg54yfXt"
      },
      "outputs": [],
      "source": [
        " \n",
        "  # Train and evaluate models for all combinations of parameters specified in the init method. We would like to obtain following outputs:\n",
        "  #   1. Training Accuracy and Error (Loss) for every model\n",
        "  #   2. Test Accuracy and Error (Loss) for every model\n",
        "  #   3. History Curve (Plot of Accuracy against training steps) for all the models in a single plot. The plot should be color coded i.e.different color for each model\n",
        "def train_evaluate(actFunc,hidden_layer_size,epoch,lrate):\n",
        "      #X_train, X_test, y_train, y_test = train_test_split(self.processed_data, self.y, test_size=0.2, shuffle = True, random_state =1)\n",
        "      \n",
        "      model = keras.Sequential()\n",
        "      model.add(Dense(16, input_dim =20, kernel_initializer= 'normal' , activation= actFunc))\n",
        "      if hidden_layer_size==3:\n",
        "        model.add(Dense(10, kernel_initializer= 'normal' , activation= actFunc ))\n",
        "      model.add(Dense(1, kernel_initializer= 'normal' , activation= actFunc ))\n",
        "      \n",
        "      # Compile model\n",
        "      opt = keras.optimizers.Adam(learning_rate=lrate)\n",
        "      model.compile(loss= 'mean_squared_error' , optimizer= opt , metrics=[ 'accuracy' ])\n",
        "      history = model.fit(X_train, y_train, epochs= epoch, validation_data= (X_test,y_test), batch_size=20, verbose=0)\n",
        "      y_pred = model.predict(X_test)\n",
        "      pred_train= model.predict(X_train)\n",
        "      train_scores = model.evaluate(X_train, y_train, verbose=0)\n",
        "      print('Training Accuracy : {} \\nTraining Error : {}'.format(round(train_scores[1],4), round(train_scores[0],4)))   \n",
        "      \n",
        "      pred_test= model.predict(X_test)\n",
        "      test_scores = model.evaluate(X_test, y_test, verbose=0)\n",
        "      print('Testing Accuracy : {} \\nTesting Error : {}'.format(round(test_scores[1],4), round(test_scores[0],4))) \n",
        "    \n",
        "      return history\n",
        "\n",
        "def plot_training_graph( sigmoidHistory, tanhHistory, reluHistory, epoch, lrate, layers, ax):   \n",
        "      ax.plot(sigmoidHistory.history['accuracy'], color='green', linestyle='solid')\n",
        "      ax.plot(tanhHistory.history['accuracy'], color='red', linestyle='solid')\n",
        "      ax.plot(reluHistory.history['accuracy'], color='blue', linestyle='solid')\n",
        "      ax.plot(sigmoidHistory.history['loss'], color='green', linestyle='dashed')\n",
        "      ax.plot(tanhHistory.history['loss'], color='red', linestyle='dashed')\n",
        "      ax.plot(reluHistory.history['loss'], color='blue', linestyle='dashed')\n",
        "      ax.set_title('Epoch='+str(Epoch)+', Learning Rate='+str(LearningRate)+', Hidden Layers='+str(Layers))       \n",
        "\n",
        "def plot_testing_graph(sigmoidHistory, tanhHistory, reluHistory, epoch, lrate, layers, ax):\n",
        "      ax.plot(sigmoidHistory.history['val_accuracy'], color='green', linestyle='solid')\n",
        "      ax.plot(tanhHistory.history['val_accuracy'], color='red', linestyle='solid')\n",
        "      ax.plot(reluHistory.history['val_accuracy'], color='blue', linestyle='solid')\n",
        "      ax.plot(sigmoidHistory.history['val_loss'], color='green', linestyle='dashed')\n",
        "      ax.plot(tanhHistory.history['val_loss'], color='red', linestyle='dashed')\n",
        "      ax.plot(reluHistory.history['val_loss'], color='blue', linestyle='dashed')\n",
        "      ax.set_title('Epoch='+str(Epoch)+', Learning Rate='+str(LearningRate)+', Hidden Layers='+str(Layers))"
      ]
    },
    {
      "cell_type": "code",
      "execution_count": null,
      "metadata": {
        "colab": {
          "base_uri": "https://localhost:8080/",
          "height": 1000
        },
        "id": "EclMMWsKyzfp",
        "outputId": "c3ef006b-989c-466e-8fa2-5f614cf20fae"
      },
      "outputs": [
        {
          "name": "stdout",
          "output_type": "stream",
          "text": [
            "\n",
            "------------------------- Case - 1 -------------------------\n",
            "Hidden Layers=2, Epoch=100, Learning Rate=0.001\n",
            "\n",
            "-----------Sigmoid-----------\n",
            "Training Accuracy : 0.9137 \n",
            "Training Error : 0.0684\n",
            "Testing Accuracy : 0.9091 \n",
            "Testing Error : 0.0684\n",
            "\n",
            "-----------Tanh-----------\n",
            "Training Accuracy : 0.9114 \n",
            "Training Error : 0.0694\n",
            "Testing Accuracy : 0.9068 \n",
            "Testing Error : 0.0711\n",
            "\n",
            "-----------Relu-----------\n",
            "Training Accuracy : 0.9103 \n",
            "Training Error : 0.0708\n",
            "Testing Accuracy : 0.906 \n",
            "Testing Error : 0.0719\n",
            "\n",
            "------------------------- Case - 2 -------------------------\n",
            "Hidden Layers=3, Epoch=100, Learning Rate=0.001\n",
            "\n",
            "-----------Sigmoid-----------\n",
            "Training Accuracy : 0.9132 \n",
            "Training Error : 0.0683\n",
            "Testing Accuracy : 0.9113 \n",
            "Testing Error : 0.0663\n",
            "\n",
            "-----------Tanh-----------\n",
            "Training Accuracy : 0.9253 \n",
            "Training Error : 0.0566\n",
            "Testing Accuracy : 0.9201 \n",
            "Testing Error : 0.0616\n",
            "\n",
            "-----------Relu-----------\n",
            "Training Accuracy : 0.9163 \n",
            "Training Error : 0.062\n",
            "Testing Accuracy : 0.9113 \n",
            "Testing Error : 0.0654\n",
            "\n",
            "------------------------- Case - 3 -------------------------\n",
            "Hidden Layers=2, Epoch=100, Learning Rate=0.01\n",
            "\n",
            "-----------Sigmoid-----------\n",
            "Training Accuracy : 0.94 \n",
            "Training Error : 0.0491\n",
            "Testing Accuracy : 0.9102 \n",
            "Testing Error : 0.0667\n",
            "\n",
            "-----------Tanh-----------\n",
            "Training Accuracy : 0.9204 \n",
            "Training Error : 0.0742\n",
            "Testing Accuracy : 0.9136 \n",
            "Testing Error : 0.0788\n",
            "\n",
            "-----------Relu-----------\n",
            "Training Accuracy : 0.7466 \n",
            "Training Error : 0.2534\n",
            "Testing Accuracy : 0.758 \n",
            "Testing Error : 0.242\n",
            "\n",
            "------------------------- Case - 4 -------------------------\n",
            "Hidden Layers=3, Epoch=100, Learning Rate=0.01\n",
            "\n",
            "-----------Sigmoid-----------\n",
            "Training Accuracy : 0.9481 \n",
            "Training Error : 0.0423\n",
            "Testing Accuracy : 0.9216 \n",
            "Testing Error : 0.0592\n",
            "\n",
            "-----------Tanh-----------\n",
            "Training Accuracy : 0.9534 \n",
            "Training Error : 0.0406\n",
            "Testing Accuracy : 0.9151 \n",
            "Testing Error : 0.0644\n",
            "\n",
            "-----------Relu-----------\n",
            "Training Accuracy : 0.9416 \n",
            "Training Error : 0.05\n",
            "Testing Accuracy : 0.933 \n",
            "Testing Error : 0.0562\n",
            "\n",
            "------------------------- Case - 5 -------------------------\n",
            "Hidden Layers=2, Epoch=200, Learning Rate=0.001\n",
            "\n",
            "-----------Sigmoid-----------\n",
            "Training Accuracy : 0.9224 \n",
            "Training Error : 0.062\n",
            "Testing Accuracy : 0.9106 \n",
            "Testing Error : 0.0673\n",
            "\n",
            "-----------Tanh-----------\n",
            "Training Accuracy : 0.9145 \n",
            "Training Error : 0.0641\n",
            "Testing Accuracy : 0.9136 \n",
            "Testing Error : 0.0662\n",
            "\n",
            "-----------Relu-----------\n",
            "Training Accuracy : 0.9287 \n",
            "Training Error : 0.056\n",
            "Testing Accuracy : 0.9224 \n",
            "Testing Error : 0.0591\n",
            "\n",
            "------------------------- Case - 6 -------------------------\n",
            "Hidden Layers=3, Epoch=200, Learning Rate=0.001\n",
            "\n",
            "-----------Sigmoid-----------\n",
            "Training Accuracy : 0.938 \n",
            "Training Error : 0.0498\n",
            "Testing Accuracy : 0.9254 \n",
            "Testing Error : 0.0542\n",
            "\n",
            "-----------Tanh-----------\n",
            "Training Accuracy : 0.9359 \n",
            "Training Error : 0.0502\n",
            "Testing Accuracy : 0.9254 \n",
            "Testing Error : 0.0582\n",
            "\n",
            "-----------Relu-----------\n",
            "Training Accuracy : 0.9418 \n",
            "Training Error : 0.0464\n",
            "Testing Accuracy : 0.9239 \n",
            "Testing Error : 0.0559\n",
            "\n",
            "------------------------- Case - 7 -------------------------\n",
            "Hidden Layers=2, Epoch=200, Learning Rate=0.01\n",
            "\n",
            "-----------Sigmoid-----------\n",
            "Training Accuracy : 0.9488 \n",
            "Training Error : 0.0443\n",
            "Testing Accuracy : 0.9186 \n",
            "Testing Error : 0.0645\n",
            "\n",
            "-----------Tanh-----------\n",
            "Training Accuracy : 0.9274 \n",
            "Training Error : 0.0609\n",
            "Testing Accuracy : 0.9273 \n",
            "Testing Error : 0.0647\n",
            "\n",
            "-----------Relu-----------\n",
            "Training Accuracy : 0.9305 \n",
            "Training Error : 0.0579\n",
            "Testing Accuracy : 0.9231 \n",
            "Testing Error : 0.0625\n",
            "\n",
            "------------------------- Case - 8 -------------------------\n",
            "Hidden Layers=3, Epoch=200, Learning Rate=0.01\n",
            "\n",
            "-----------Sigmoid-----------\n",
            "Training Accuracy : 0.9631 \n",
            "Training Error : 0.0313\n",
            "Testing Accuracy : 0.9243 \n",
            "Testing Error : 0.0603\n",
            "\n",
            "-----------Tanh-----------\n",
            "Training Accuracy : 0.9543 \n",
            "Training Error : 0.0383\n",
            "Testing Accuracy : 0.9273 \n",
            "Testing Error : 0.0612\n",
            "\n",
            "-----------Relu-----------\n",
            "Training Accuracy : 0.9444 \n",
            "Training Error : 0.0465\n",
            "Testing Accuracy : 0.9334 \n",
            "Testing Error : 0.0558\n"
          ]
        },
        {
          "data": {
            "image/png": "[encoded data removed]",
            "text/plain": [
              "<Figure size 1332x1800 with 8 Axes>"
            ]
          },
          "metadata": {},
          "output_type": "display_data"
        },
        {
          "data": {
            "image/png": "[encoded data removed]",
            "text/plain": [
              "<Figure size 1332x1800 with 8 Axes>"
            ]
          },
          "metadata": {},
          "output_type": "display_data"
        }
      ],
      "source": [
        "# List of hyperparameters to be used for for model evaluation\n",
        "hpList = [{'epoch' : 100, 'learning_rate' : 0.001, 'layers' : 2},\n",
        "              {'epoch' : 100, 'learning_rate' : 0.001, 'layers' : 3},\n",
        "              {'epoch' : 100, 'learning_rate' : 0.01, 'layers' : 2},\n",
        "              {'epoch' : 100, 'learning_rate' : 0.01, 'layers' : 3},\n",
        "              {'epoch' : 200, 'learning_rate' : 0.001, 'layers' : 2},\n",
        "              {'epoch' : 200, 'learning_rate' : 0.001, 'layers' : 3},\n",
        "              {'epoch' : 200, 'learning_rate' : 0.01, 'layers' : 2},\n",
        "              {'epoch' : 200, 'learning_rate' : 0.01, 'layers' : 3},\n",
        "             ]\n",
        "            \n",
        "count=0;\n",
        "labels = [\"Sigmoid Accuracy\", \"TanH Accuracy\",\"Relu Accuracy\",\"Sigmoid Loss\",\"TanH Loss\",\"Relu Loss\"]\n",
        "\n",
        "fig1 = plt.figure(edgecolor='black', linewidth=4)\n",
        "fig2 = plt.figure(edgecolor='black', linewidth=4)\n",
        "\n",
        "for dic in hpList:\n",
        "        count=count+1\n",
        "        print('\\n------------------------- Case -',count, '-------------------------')\n",
        "        Layers = dic.get('layers')\n",
        "        Epoch = dic.get('epoch')\n",
        "        LearningRate = dic.get('learning_rate')\n",
        "        print(f'Hidden Layers={Layers}, Epoch={Epoch}, Learning Rate={LearningRate}')\n",
        "        print('\\n-----------Sigmoid-----------')\n",
        "        sigmoidHistory = train_evaluate('sigmoid',Layers,Epoch,LearningRate)\n",
        "\n",
        "        print('\\n-----------Tanh-----------')\n",
        "        tanhHistory = train_evaluate('tanh',Layers,Epoch,LearningRate)\n",
        "\n",
        "        print('\\n-----------Relu-----------')\n",
        "        reluHistory = train_evaluate('relu',Layers,Epoch,LearningRate)\n",
        "\n",
        "        ax1 = fig1.add_subplot(4,2,count)\n",
        "        ax2 = fig2.add_subplot(4,2,count)\n",
        "        plot_training_graph(sigmoidHistory, tanhHistory, reluHistory, Epoch, LearningRate, Layers, ax1)\n",
        "        plot_testing_graph(sigmoidHistory, tanhHistory, reluHistory, Epoch, LearningRate, Layers, ax2)\n",
        "\n",
        "#Plot the model history for each model in a single plot    \n",
        "fig1.legend(ax1.get_lines(), labels, ncol=2, loc=\"upper center\")\n",
        "fig2.legend(ax2.get_lines(), labels, ncol=2, loc=\"upper center\")\n",
        "\n",
        "fig1.set_size_inches(18.5, 25, forward=True)\n",
        "fig2.set_size_inches(18.5, 25, forward=True)\n",
        "\n",
        "fig1.text(0.5, 0.09, 'Epoch', ha='center')\n",
        "fig1.text(0.07, 0.5, 'Training Accuracy/Loss', va='center', rotation='vertical')\n",
        "\n",
        "fig2.text(0.5, 0.09, 'Epoch', ha='center')\n",
        "fig2.text(0.07, 0.5, 'Testing Accuracy/Loss', va='center', rotation='vertical')\n",
        "\n",
        "plt.show()"
      ]
    },
    {
      "cell_type": "code",
      "execution_count": null,
      "metadata": {
        "id": "E0TMBAgMY7-K"
      },
      "outputs": [],
      "source": [
        ""
      ]
    }
  ],
  "metadata": {
    "colab": {
      "collapsed_sections": [],
      "name": "Assignment 3.ipynb",
      "provenance": []
    },
    "kernelspec": {
      "display_name": "Python 3",
      "name": "python3"
    },
    "language_info": {
      "name": "python"
    }
  },
  "nbformat": 4,
  "nbformat_minor": 0
}