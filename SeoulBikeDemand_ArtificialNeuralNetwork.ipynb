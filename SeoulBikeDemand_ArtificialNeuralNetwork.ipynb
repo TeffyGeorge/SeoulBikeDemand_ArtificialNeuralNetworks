{
  "cells": [
    {
      "cell_type": "code",
      "execution_count": null,
      "metadata": {
        "id": "kvic8-KEx1le"
      },
      "outputs": [],
      "source": [
        "#Loading the libraries\n",
        "import pandas as pd\n",
        "import numpy as np\n",
        "import matplotlib.pyplot as plt\n",
        "import seaborn as sb\n",
        "import os \n",
        "from sklearn.model_selection import cross_validate\n",
        "from sklearn.model_selection import train_test_split\n",
        "from sklearn.model_selection import GridSearchCV\n",
        "from sklearn.model_selection import cross_val_score\n",
        "from sklearn.model_selection import RepeatedStratifiedKFold\n",
        "from sklearn.model_selection import RandomizedSearchCV\n",
        "import seaborn as sns\n",
        "\n",
        "from sklearn.preprocessing import StandardScaler\n",
        "from sklearn import preprocessing\n",
        "\n",
        "from sklearn.metrics import mean_squared_error, mean_absolute_error, r2_score\n",
        "import warnings\n",
        "warnings.filterwarnings('ignore')"
      ]
    },
    {
      "cell_type": "code",
      "execution_count": null,
      "metadata": {
        "colab": {
          "base_uri": "https://localhost:8080/",
          "height": 795
        },
        "id": "3f1LFMNarYrR",
        "outputId": "e74817fa-0678-42d2-dfc0-b84da74664bc"
      },
      "outputs": [
        {
          "output_type": "stream",
          "name": "stdout",
          "text": [
            "Drive already mounted at /content/gdrive; to attempt to forcibly remount, call drive.mount(\"/content/gdrive\", force_remount=True).\n",
            "Info:-\n",
            "<class 'pandas.core.frame.DataFrame'>\n",
            "RangeIndex: 8760 entries, 0 to 8759\n",
            "Data columns (total 14 columns):\n",
            " #   Column                     Non-Null Count  Dtype  \n",
            "---  ------                     --------------  -----  \n",
            " 0   Date                       8760 non-null   object \n",
            " 1   Rented Bike Count          8760 non-null   int64  \n",
            " 2   Hour                       8760 non-null   int64  \n",
            " 3   Temperature(°C)            8760 non-null   float64\n",
            " 4   Humidity(%)                8760 non-null   int64  \n",
            " 5   Wind speed (m/s)           8760 non-null   float64\n",
            " 6   Visibility (10m)           8760 non-null   int64  \n",
            " 7   Dew point temperature(°C)  8760 non-null   float64\n",
            " 8   Solar Radiation (MJ/m2)    8760 non-null   float64\n",
            " 9   Rainfall(mm)               8760 non-null   float64\n",
            " 10  Snowfall (cm)              8760 non-null   float64\n",
            " 11  Seasons                    8760 non-null   object \n",
            " 12  Holiday                    8760 non-null   object \n",
            " 13  Functioning Day            8760 non-null   object \n",
            "dtypes: float64(6), int64(4), object(4)\n",
            "memory usage: 958.2+ KB\n",
            "Describe:-\n"
          ]
        },
        {
          "output_type": "execute_result",
          "data": {
            "text/plain": [
              "       Rented Bike Count         Hour  Temperature(°C)  Humidity(%)  \\\n",
              "count        8760.000000  8760.000000      8760.000000  8760.000000   \n",
              "mean          704.602055    11.500000        12.882922    58.226256   \n",
              "std           644.997468     6.922582        11.944825    20.362413   \n",
              "min             0.000000     0.000000       -17.800000     0.000000   \n",
              "25%           191.000000     5.750000         3.500000    42.000000   \n",
              "50%           504.500000    11.500000        13.700000    57.000000   \n",
              "75%          1065.250000    17.250000        22.500000    74.000000   \n",
              "max          3556.000000    23.000000        39.400000    98.000000   \n",
              "\n",
              "       Wind speed (m/s)  Visibility (10m)  Dew point temperature(°C)  \\\n",
              "count       8760.000000       8760.000000                8760.000000   \n",
              "mean           1.724909       1436.825799                   4.073813   \n",
              "std            1.036300        608.298712                  13.060369   \n",
              "min            0.000000         27.000000                 -30.600000   \n",
              "25%            0.900000        940.000000                  -4.700000   \n",
              "50%            1.500000       1698.000000                   5.100000   \n",
              "75%            2.300000       2000.000000                  14.800000   \n",
              "max            7.400000       2000.000000                  27.200000   \n",
              "\n",
              "       Solar Radiation (MJ/m2)  Rainfall(mm)  Snowfall (cm)  \n",
              "count              8760.000000   8760.000000    8760.000000  \n",
              "mean                  0.569111      0.148687       0.075068  \n",
              "std                   0.868746      1.128193       0.436746  \n",
              "min                   0.000000      0.000000       0.000000  \n",
              "25%                   0.000000      0.000000       0.000000  \n",
              "50%                   0.010000      0.000000       0.000000  \n",
              "75%                   0.930000      0.000000       0.000000  \n",
              "max                   3.520000     35.000000       8.800000  "
            ],
            "text/html": [
              "\n",
              "  <div id=\"df-a8734fa0-314c-4805-9514-848184842fc0\">\n",
              "    <div class=\"colab-df-container\">\n",
              "      <div>\n",
              "<style scoped>\n",
              "    .dataframe tbody tr th:only-of-type {\n",
              "        vertical-align: middle;\n",
              "    }\n",
              "\n",
              "    .dataframe tbody tr th {\n",
              "        vertical-align: top;\n",
              "    }\n",
              "\n",
              "    .dataframe thead th {\n",
              "        text-align: right;\n",
              "    }\n",
              "</style>\n",
              "<table border=\"1\" class=\"dataframe\">\n",
              "  <thead>\n",
              "    <tr style=\"text-align: right;\">\n",
              "      <th></th>\n",
              "      <th>Rented Bike Count</th>\n",
              "      <th>Hour</th>\n",
              "      <th>Temperature(°C)</th>\n",
              "      <th>Humidity(%)</th>\n",
              "      <th>Wind speed (m/s)</th>\n",
              "      <th>Visibility (10m)</th>\n",
              "      <th>Dew point temperature(°C)</th>\n",
              "      <th>Solar Radiation (MJ/m2)</th>\n",
              "      <th>Rainfall(mm)</th>\n",
              "      <th>Snowfall (cm)</th>\n",
              "    </tr>\n",
              "  </thead>\n",
              "  <tbody>\n",
              "    <tr>\n",
              "      <th>count</th>\n",
              "      <td>8760.000000</td>\n",
              "      <td>8760.000000</td>\n",
              "      <td>8760.000000</td>\n",
              "      <td>8760.000000</td>\n",
              "      <td>8760.000000</td>\n",
              "      <td>8760.000000</td>\n",
              "      <td>8760.000000</td>\n",
              "      <td>8760.000000</td>\n",
              "      <td>8760.000000</td>\n",
              "      <td>8760.000000</td>\n",
              "    </tr>\n",
              "    <tr>\n",
              "      <th>mean</th>\n",
              "      <td>704.602055</td>\n",
              "      <td>11.500000</td>\n",
              "      <td>12.882922</td>\n",
              "      <td>58.226256</td>\n",
              "      <td>1.724909</td>\n",
              "      <td>1436.825799</td>\n",
              "      <td>4.073813</td>\n",
              "      <td>0.569111</td>\n",
              "      <td>0.148687</td>\n",
              "      <td>0.075068</td>\n",
              "    </tr>\n",
              "    <tr>\n",
              "      <th>std</th>\n",
              "      <td>644.997468</td>\n",
              "      <td>6.922582</td>\n",
              "      <td>11.944825</td>\n",
              "      <td>20.362413</td>\n",
              "      <td>1.036300</td>\n",
              "      <td>608.298712</td>\n",
              "      <td>13.060369</td>\n",
              "      <td>0.868746</td>\n",
              "      <td>1.128193</td>\n",
              "      <td>0.436746</td>\n",
              "    </tr>\n",
              "    <tr>\n",
              "      <th>min</th>\n",
              "      <td>0.000000</td>\n",
              "      <td>0.000000</td>\n",
              "      <td>-17.800000</td>\n",
              "      <td>0.000000</td>\n",
              "      <td>0.000000</td>\n",
              "      <td>27.000000</td>\n",
              "      <td>-30.600000</td>\n",
              "      <td>0.000000</td>\n",
              "      <td>0.000000</td>\n",
              "      <td>0.000000</td>\n",
              "    </tr>\n",
              "    <tr>\n",
              "      <th>25%</th>\n",
              "      <td>191.000000</td>\n",
              "      <td>5.750000</td>\n",
              "      <td>3.500000</td>\n",
              "      <td>42.000000</td>\n",
              "      <td>0.900000</td>\n",
              "      <td>940.000000</td>\n",
              "      <td>-4.700000</td>\n",
              "      <td>0.000000</td>\n",
              "      <td>0.000000</td>\n",
              "      <td>0.000000</td>\n",
              "    </tr>\n",
              "    <tr>\n",
              "      <th>50%</th>\n",
              "      <td>504.500000</td>\n",
              "      <td>11.500000</td>\n",
              "      <td>13.700000</td>\n",
              "      <td>57.000000</td>\n",
              "      <td>1.500000</td>\n",
              "      <td>1698.000000</td>\n",
              "      <td>5.100000</td>\n",
              "      <td>0.010000</td>\n",
              "      <td>0.000000</td>\n",
              "      <td>0.000000</td>\n",
              "    </tr>\n",
              "    <tr>\n",
              "      <th>75%</th>\n",
              "      <td>1065.250000</td>\n",
              "      <td>17.250000</td>\n",
              "      <td>22.500000</td>\n",
              "      <td>74.000000</td>\n",
              "      <td>2.300000</td>\n",
              "      <td>2000.000000</td>\n",
              "      <td>14.800000</td>\n",
              "      <td>0.930000</td>\n",
              "      <td>0.000000</td>\n",
              "      <td>0.000000</td>\n",
              "    </tr>\n",
              "    <tr>\n",
              "      <th>max</th>\n",
              "      <td>3556.000000</td>\n",
              "      <td>23.000000</td>\n",
              "      <td>39.400000</td>\n",
              "      <td>98.000000</td>\n",
              "      <td>7.400000</td>\n",
              "      <td>2000.000000</td>\n",
              "      <td>27.200000</td>\n",
              "      <td>3.520000</td>\n",
              "      <td>35.000000</td>\n",
              "      <td>8.800000</td>\n",
              "    </tr>\n",
              "  </tbody>\n",
              "</table>\n",
              "</div>\n",
              "      <button class=\"colab-df-convert\" onclick=\"convertToInteractive('df-a8734fa0-314c-4805-9514-848184842fc0')\"\n",
              "              title=\"Convert this dataframe to an interactive table.\"\n",
              "              style=\"display:none;\">\n",
              "        \n",
              "  <svg xmlns=\"http://www.w3.org/2000/svg\" height=\"24px\"viewBox=\"0 0 24 24\"\n",
              "       width=\"24px\">\n",
              "    <path d=\"M0 0h24v24H0V0z\" fill=\"none\"/>\n",
              "    <path d=\"M18.56 5.44l.94 2.06.94-2.06 2.06-.94-2.06-.94-.94-2.06-.94 2.06-2.06.94zm-11 1L8.5 8.5l.94-2.06 2.06-.94-2.06-.94L8.5 2.5l-.94 2.06-2.06.94zm10 10l.94 2.06.94-2.06 2.06-.94-2.06-.94-.94-2.06-.94 2.06-2.06.94z\"/><path d=\"M17.41 7.96l-1.37-1.37c-.4-.4-.92-.59-1.43-.59-.52 0-1.04.2-1.43.59L10.3 9.45l-7.72 7.72c-.78.78-.78 2.05 0 2.83L4 21.41c.39.39.9.59 1.41.59.51 0 1.02-.2 1.41-.59l7.78-7.78 2.81-2.81c.8-.78.8-2.07 0-2.86zM5.41 20L4 18.59l7.72-7.72 1.47 1.35L5.41 20z\"/>\n",
              "  </svg>\n",
              "      </button>\n",
              "      \n",
              "  <style>\n",
              "    .colab-df-container {\n",
              "      display:flex;\n",
              "      flex-wrap:wrap;\n",
              "      gap: 12px;\n",
              "    }\n",
              "\n",
              "    .colab-df-convert {\n",
              "      background-color: #E8F0FE;\n",
              "      border: none;\n",
              "      border-radius: 50%;\n",
              "      cursor: pointer;\n",
              "      display: none;\n",
              "      fill: #1967D2;\n",
              "      height: 32px;\n",
              "      padding: 0 0 0 0;\n",
              "      width: 32px;\n",
              "    }\n",
              "\n",
              "    .colab-df-convert:hover {\n",
              "      background-color: #E2EBFA;\n",
              "      box-shadow: 0px 1px 2px rgba(60, 64, 67, 0.3), 0px 1px 3px 1px rgba(60, 64, 67, 0.15);\n",
              "      fill: #174EA6;\n",
              "    }\n",
              "\n",
              "    [theme=dark] .colab-df-convert {\n",
              "      background-color: #3B4455;\n",
              "      fill: #D2E3FC;\n",
              "    }\n",
              "\n",
              "    [theme=dark] .colab-df-convert:hover {\n",
              "      background-color: #434B5C;\n",
              "      box-shadow: 0px 1px 3px 1px rgba(0, 0, 0, 0.15);\n",
              "      filter: drop-shadow(0px 1px 2px rgba(0, 0, 0, 0.3));\n",
              "      fill: #FFFFFF;\n",
              "    }\n",
              "  </style>\n",
              "\n",
              "      <script>\n",
              "        const buttonEl =\n",
              "          document.querySelector('#df-a8734fa0-314c-4805-9514-848184842fc0 button.colab-df-convert');\n",
              "        buttonEl.style.display =\n",
              "          google.colab.kernel.accessAllowed ? 'block' : 'none';\n",
              "\n",
              "        async function convertToInteractive(key) {\n",
              "          const element = document.querySelector('#df-a8734fa0-314c-4805-9514-848184842fc0');\n",
              "          const dataTable =\n",
              "            await google.colab.kernel.invokeFunction('convertToInteractive',\n",
              "                                                     [key], {});\n",
              "          if (!dataTable) return;\n",
              "\n",
              "          const docLinkHtml = 'Like what you see? Visit the ' +\n",
              "            '<a target=\"_blank\" href=https://colab.research.google.com/notebooks/data_table.ipynb>data table notebook</a>'\n",
              "            + ' to learn more about interactive tables.';\n",
              "          element.innerHTML = '';\n",
              "          dataTable['output_type'] = 'display_data';\n",
              "          await google.colab.output.renderOutput(dataTable, element);\n",
              "          const docLink = document.createElement('div');\n",
              "          docLink.innerHTML = docLinkHtml;\n",
              "          element.appendChild(docLink);\n",
              "        }\n",
              "      </script>\n",
              "    </div>\n",
              "  </div>\n",
              "  "
            ]
          },
          "metadata": {},
          "execution_count": 29
        }
      ],
      "source": [
        "from google.colab import drive\n",
        "drive.mount('/content/gdrive')\n",
        "\n",
        "path = '/content/gdrive/MyDrive/ML/SeoulBikeData.csv'\n",
        "bike_df = pd.read_csv(path, encoding='cp1252')\n",
        "print(\"Info:-\")\n",
        "bike_df.info()\n",
        "print(\"Describe:-\")\n",
        "bike_df.describe()"
      ]
    },
    {
      "cell_type": "code",
      "execution_count": null,
      "metadata": {
        "colab": {
          "base_uri": "https://localhost:8080/"
        },
        "id": "FSzA-FKatWOZ",
        "outputId": "5f43909b-d37d-4bd8-da7d-2d612db70b0d"
      },
      "outputs": [
        {
          "output_type": "execute_result",
          "data": {
            "text/plain": [
              "Date                         0\n",
              "Rented Bike Count            0\n",
              "Hour                         0\n",
              "Temperature(°C)              0\n",
              "Humidity(%)                  0\n",
              "Wind speed (m/s)             0\n",
              "Visibility (10m)             0\n",
              "Dew point temperature(°C)    0\n",
              "Solar Radiation (MJ/m2)      0\n",
              "Rainfall(mm)                 0\n",
              "Snowfall (cm)                0\n",
              "Seasons                      0\n",
              "Holiday                      0\n",
              "Functioning Day              0\n",
              "dtype: int64"
            ]
          },
          "metadata": {},
          "execution_count": 30
        }
      ],
      "source": [
        "#checking missing values\n",
        "bike_df.isna().sum()\n",
        "bike_df.isnull().sum()"
      ]
    },
    {
      "cell_type": "code",
      "execution_count": null,
      "metadata": {
        "colab": {
          "base_uri": "https://localhost:8080/"
        },
        "id": "45sPnTkRwnay",
        "outputId": "6be913b0-0b93-4420-c544-e1c609de445a"
      },
      "outputs": [
        {
          "output_type": "stream",
          "name": "stdout",
          "text": [
            "Duplicate values :  0\n"
          ]
        }
      ],
      "source": [
        "#checking duplicate values\n",
        "print('Duplicate values : ', len(bike_df[bike_df.duplicated()]))"
      ]
    },
    {
      "cell_type": "code",
      "execution_count": null,
      "metadata": {
        "colab": {
          "base_uri": "https://localhost:8080/"
        },
        "id": "zk-YWLW9wpcz",
        "outputId": "3cbcb7de-6171-4331-b199-138c1f7348f7"
      },
      "outputs": [
        {
          "output_type": "execute_result",
          "data": {
            "text/plain": [
              "1065.25"
            ]
          },
          "metadata": {},
          "execution_count": 32
        }
      ],
      "source": [
        "# Dependent variable is Rented Bike Count. \n",
        "# We will change this numerical output to a binary classification \n",
        "# Adding a new variable with threshold set \n",
        "threshold = bike_df['Rented Bike Count'].quantile(0.75)\n",
        "threshold"
      ]
    },
    {
      "cell_type": "code",
      "execution_count": null,
      "metadata": {
        "colab": {
          "base_uri": "https://localhost:8080/",
          "height": 522
        },
        "id": "PDgsyypZwrhY",
        "outputId": "663ff5e2-9861-470d-fbba-bfb069e97652"
      },
      "outputs": [
        {
          "output_type": "execute_result",
          "data": {
            "text/plain": [
              "      Rented Bike Count  Hour  Temperature(°C)  Humidity(%)  Wind speed (m/s)  \\\n",
              "0                   254     0             -5.2           37               2.2   \n",
              "1                   204     1             -5.5           38               0.8   \n",
              "2                   173     2             -6.0           39               1.0   \n",
              "3                   107     3             -6.2           40               0.9   \n",
              "4                    78     4             -6.0           36               2.3   \n",
              "...                 ...   ...              ...          ...               ...   \n",
              "4995                152     3             19.4           97               2.9   \n",
              "4996                110     4             19.2           97               1.0   \n",
              "4997                162     5             19.1           97               1.2   \n",
              "4998                417     6             19.2           97               1.5   \n",
              "4999               1084     7             19.3           98               1.0   \n",
              "\n",
              "      Visibility (10m)  Dew point temperature(°C)  Solar Radiation (MJ/m2)  \\\n",
              "0                 2000                      -17.6                     0.00   \n",
              "1                 2000                      -17.6                     0.00   \n",
              "2                 2000                      -17.7                     0.00   \n",
              "3                 2000                      -17.6                     0.00   \n",
              "4                 2000                      -18.6                     0.00   \n",
              "...                ...                        ...                      ...   \n",
              "4995               282                       18.9                     0.00   \n",
              "4996               217                       18.7                     0.00   \n",
              "4997               402                       18.6                     0.00   \n",
              "4998               157                       18.7                     0.00   \n",
              "4999               188                       18.9                     0.06   \n",
              "\n",
              "      Rainfall(mm)  Snowfall (cm)  ...  Day  Weekday  Seasons_Autumn  \\\n",
              "0              0.0            0.0  ...   12        0               0   \n",
              "1              0.0            0.0  ...   12        0               0   \n",
              "2              0.0            0.0  ...   12        0               0   \n",
              "3              0.0            0.0  ...   12        0               0   \n",
              "4              0.0            0.0  ...   12        0               0   \n",
              "...            ...            ...  ...  ...      ...             ...   \n",
              "4995           0.0            0.0  ...   27        0               0   \n",
              "4996           0.5            0.0  ...   27        0               0   \n",
              "4997           0.0            0.0  ...   27        0               0   \n",
              "4998           0.0            0.0  ...   27        0               0   \n",
              "4999           0.0            0.0  ...   27        0               0   \n",
              "\n",
              "      Seasons_Spring  Seasons_Summer  Seasons_Winter  Holiday_Holiday  \\\n",
              "0                  0               0               1                0   \n",
              "1                  0               0               1                0   \n",
              "2                  0               0               1                0   \n",
              "3                  0               0               1                0   \n",
              "4                  0               0               1                0   \n",
              "...              ...             ...             ...              ...   \n",
              "4995               0               1               0                0   \n",
              "4996               0               1               0                0   \n",
              "4997               0               1               0                0   \n",
              "4998               0               1               0                0   \n",
              "4999               0               1               0                0   \n",
              "\n",
              "      Holiday_No Holiday  Functioning Day_No  Functioning Day_Yes  \n",
              "0                      1                   0                    1  \n",
              "1                      1                   0                    1  \n",
              "2                      1                   0                    1  \n",
              "3                      1                   0                    1  \n",
              "4                      1                   0                    1  \n",
              "...                  ...                 ...                  ...  \n",
              "4995                   1                   0                    1  \n",
              "4996                   1                   0                    1  \n",
              "4997                   1                   0                    1  \n",
              "4998                   1                   0                    1  \n",
              "4999                   1                   0                    1  \n",
              "\n",
              "[5000 rows x 22 columns]"
            ],
            "text/html": [
              "\n",
              "  <div id=\"df-f61d8603-f5d5-4b5c-922a-42ff53b20536\">\n",
              "    <div class=\"colab-df-container\">\n",
              "      <div>\n",
              "<style scoped>\n",
              "    .dataframe tbody tr th:only-of-type {\n",
              "        vertical-align: middle;\n",
              "    }\n",
              "\n",
              "    .dataframe tbody tr th {\n",
              "        vertical-align: top;\n",
              "    }\n",
              "\n",
              "    .dataframe thead th {\n",
              "        text-align: right;\n",
              "    }\n",
              "</style>\n",
              "<table border=\"1\" class=\"dataframe\">\n",
              "  <thead>\n",
              "    <tr style=\"text-align: right;\">\n",
              "      <th></th>\n",
              "      <th>Rented Bike Count</th>\n",
              "      <th>Hour</th>\n",
              "      <th>Temperature(°C)</th>\n",
              "      <th>Humidity(%)</th>\n",
              "      <th>Wind speed (m/s)</th>\n",
              "      <th>Visibility (10m)</th>\n",
              "      <th>Dew point temperature(°C)</th>\n",
              "      <th>Solar Radiation (MJ/m2)</th>\n",
              "      <th>Rainfall(mm)</th>\n",
              "      <th>Snowfall (cm)</th>\n",
              "      <th>...</th>\n",
              "      <th>Day</th>\n",
              "      <th>Weekday</th>\n",
              "      <th>Seasons_Autumn</th>\n",
              "      <th>Seasons_Spring</th>\n",
              "      <th>Seasons_Summer</th>\n",
              "      <th>Seasons_Winter</th>\n",
              "      <th>Holiday_Holiday</th>\n",
              "      <th>Holiday_No Holiday</th>\n",
              "      <th>Functioning Day_No</th>\n",
              "      <th>Functioning Day_Yes</th>\n",
              "    </tr>\n",
              "  </thead>\n",
              "  <tbody>\n",
              "    <tr>\n",
              "      <th>0</th>\n",
              "      <td>254</td>\n",
              "      <td>0</td>\n",
              "      <td>-5.2</td>\n",
              "      <td>37</td>\n",
              "      <td>2.2</td>\n",
              "      <td>2000</td>\n",
              "      <td>-17.6</td>\n",
              "      <td>0.00</td>\n",
              "      <td>0.0</td>\n",
              "      <td>0.0</td>\n",
              "      <td>...</td>\n",
              "      <td>12</td>\n",
              "      <td>0</td>\n",
              "      <td>0</td>\n",
              "      <td>0</td>\n",
              "      <td>0</td>\n",
              "      <td>1</td>\n",
              "      <td>0</td>\n",
              "      <td>1</td>\n",
              "      <td>0</td>\n",
              "      <td>1</td>\n",
              "    </tr>\n",
              "    <tr>\n",
              "      <th>1</th>\n",
              "      <td>204</td>\n",
              "      <td>1</td>\n",
              "      <td>-5.5</td>\n",
              "      <td>38</td>\n",
              "      <td>0.8</td>\n",
              "      <td>2000</td>\n",
              "      <td>-17.6</td>\n",
              "      <td>0.00</td>\n",
              "      <td>0.0</td>\n",
              "      <td>0.0</td>\n",
              "      <td>...</td>\n",
              "      <td>12</td>\n",
              "      <td>0</td>\n",
              "      <td>0</td>\n",
              "      <td>0</td>\n",
              "      <td>0</td>\n",
              "      <td>1</td>\n",
              "      <td>0</td>\n",
              "      <td>1</td>\n",
              "      <td>0</td>\n",
              "      <td>1</td>\n",
              "    </tr>\n",
              "    <tr>\n",
              "      <th>2</th>\n",
              "      <td>173</td>\n",
              "      <td>2</td>\n",
              "      <td>-6.0</td>\n",
              "      <td>39</td>\n",
              "      <td>1.0</td>\n",
              "      <td>2000</td>\n",
              "      <td>-17.7</td>\n",
              "      <td>0.00</td>\n",
              "      <td>0.0</td>\n",
              "      <td>0.0</td>\n",
              "      <td>...</td>\n",
              "      <td>12</td>\n",
              "      <td>0</td>\n",
              "      <td>0</td>\n",
              "      <td>0</td>\n",
              "      <td>0</td>\n",
              "      <td>1</td>\n",
              "      <td>0</td>\n",
              "      <td>1</td>\n",
              "      <td>0</td>\n",
              "      <td>1</td>\n",
              "    </tr>\n",
              "    <tr>\n",
              "      <th>3</th>\n",
              "      <td>107</td>\n",
              "      <td>3</td>\n",
              "      <td>-6.2</td>\n",
              "      <td>40</td>\n",
              "      <td>0.9</td>\n",
              "      <td>2000</td>\n",
              "      <td>-17.6</td>\n",
              "      <td>0.00</td>\n",
              "      <td>0.0</td>\n",
              "      <td>0.0</td>\n",
              "      <td>...</td>\n",
              "      <td>12</td>\n",
              "      <td>0</td>\n",
              "      <td>0</td>\n",
              "      <td>0</td>\n",
              "      <td>0</td>\n",
              "      <td>1</td>\n",
              "      <td>0</td>\n",
              "      <td>1</td>\n",
              "      <td>0</td>\n",
              "      <td>1</td>\n",
              "    </tr>\n",
              "    <tr>\n",
              "      <th>4</th>\n",
              "      <td>78</td>\n",
              "      <td>4</td>\n",
              "      <td>-6.0</td>\n",
              "      <td>36</td>\n",
              "      <td>2.3</td>\n",
              "      <td>2000</td>\n",
              "      <td>-18.6</td>\n",
              "      <td>0.00</td>\n",
              "      <td>0.0</td>\n",
              "      <td>0.0</td>\n",
              "      <td>...</td>\n",
              "      <td>12</td>\n",
              "      <td>0</td>\n",
              "      <td>0</td>\n",
              "      <td>0</td>\n",
              "      <td>0</td>\n",
              "      <td>1</td>\n",
              "      <td>0</td>\n",
              "      <td>1</td>\n",
              "      <td>0</td>\n",
              "      <td>1</td>\n",
              "    </tr>\n",
              "    <tr>\n",
              "      <th>...</th>\n",
              "      <td>...</td>\n",
              "      <td>...</td>\n",
              "      <td>...</td>\n",
              "      <td>...</td>\n",
              "      <td>...</td>\n",
              "      <td>...</td>\n",
              "      <td>...</td>\n",
              "      <td>...</td>\n",
              "      <td>...</td>\n",
              "      <td>...</td>\n",
              "      <td>...</td>\n",
              "      <td>...</td>\n",
              "      <td>...</td>\n",
              "      <td>...</td>\n",
              "      <td>...</td>\n",
              "      <td>...</td>\n",
              "      <td>...</td>\n",
              "      <td>...</td>\n",
              "      <td>...</td>\n",
              "      <td>...</td>\n",
              "      <td>...</td>\n",
              "    </tr>\n",
              "    <tr>\n",
              "      <th>4995</th>\n",
              "      <td>152</td>\n",
              "      <td>3</td>\n",
              "      <td>19.4</td>\n",
              "      <td>97</td>\n",
              "      <td>2.9</td>\n",
              "      <td>282</td>\n",
              "      <td>18.9</td>\n",
              "      <td>0.00</td>\n",
              "      <td>0.0</td>\n",
              "      <td>0.0</td>\n",
              "      <td>...</td>\n",
              "      <td>27</td>\n",
              "      <td>0</td>\n",
              "      <td>0</td>\n",
              "      <td>0</td>\n",
              "      <td>1</td>\n",
              "      <td>0</td>\n",
              "      <td>0</td>\n",
              "      <td>1</td>\n",
              "      <td>0</td>\n",
              "      <td>1</td>\n",
              "    </tr>\n",
              "    <tr>\n",
              "      <th>4996</th>\n",
              "      <td>110</td>\n",
              "      <td>4</td>\n",
              "      <td>19.2</td>\n",
              "      <td>97</td>\n",
              "      <td>1.0</td>\n",
              "      <td>217</td>\n",
              "      <td>18.7</td>\n",
              "      <td>0.00</td>\n",
              "      <td>0.5</td>\n",
              "      <td>0.0</td>\n",
              "      <td>...</td>\n",
              "      <td>27</td>\n",
              "      <td>0</td>\n",
              "      <td>0</td>\n",
              "      <td>0</td>\n",
              "      <td>1</td>\n",
              "      <td>0</td>\n",
              "      <td>0</td>\n",
              "      <td>1</td>\n",
              "      <td>0</td>\n",
              "      <td>1</td>\n",
              "    </tr>\n",
              "    <tr>\n",
              "      <th>4997</th>\n",
              "      <td>162</td>\n",
              "      <td>5</td>\n",
              "      <td>19.1</td>\n",
              "      <td>97</td>\n",
              "      <td>1.2</td>\n",
              "      <td>402</td>\n",
              "      <td>18.6</td>\n",
              "      <td>0.00</td>\n",
              "      <td>0.0</td>\n",
              "      <td>0.0</td>\n",
              "      <td>...</td>\n",
              "      <td>27</td>\n",
              "      <td>0</td>\n",
              "      <td>0</td>\n",
              "      <td>0</td>\n",
              "      <td>1</td>\n",
              "      <td>0</td>\n",
              "      <td>0</td>\n",
              "      <td>1</td>\n",
              "      <td>0</td>\n",
              "      <td>1</td>\n",
              "    </tr>\n",
              "    <tr>\n",
              "      <th>4998</th>\n",
              "      <td>417</td>\n",
              "      <td>6</td>\n",
              "      <td>19.2</td>\n",
              "      <td>97</td>\n",
              "      <td>1.5</td>\n",
              "      <td>157</td>\n",
              "      <td>18.7</td>\n",
              "      <td>0.00</td>\n",
              "      <td>0.0</td>\n",
              "      <td>0.0</td>\n",
              "      <td>...</td>\n",
              "      <td>27</td>\n",
              "      <td>0</td>\n",
              "      <td>0</td>\n",
              "      <td>0</td>\n",
              "      <td>1</td>\n",
              "      <td>0</td>\n",
              "      <td>0</td>\n",
              "      <td>1</td>\n",
              "      <td>0</td>\n",
              "      <td>1</td>\n",
              "    </tr>\n",
              "    <tr>\n",
              "      <th>4999</th>\n",
              "      <td>1084</td>\n",
              "      <td>7</td>\n",
              "      <td>19.3</td>\n",
              "      <td>98</td>\n",
              "      <td>1.0</td>\n",
              "      <td>188</td>\n",
              "      <td>18.9</td>\n",
              "      <td>0.06</td>\n",
              "      <td>0.0</td>\n",
              "      <td>0.0</td>\n",
              "      <td>...</td>\n",
              "      <td>27</td>\n",
              "      <td>0</td>\n",
              "      <td>0</td>\n",
              "      <td>0</td>\n",
              "      <td>1</td>\n",
              "      <td>0</td>\n",
              "      <td>0</td>\n",
              "      <td>1</td>\n",
              "      <td>0</td>\n",
              "      <td>1</td>\n",
              "    </tr>\n",
              "  </tbody>\n",
              "</table>\n",
              "<p>5000 rows × 22 columns</p>\n",
              "</div>\n",
              "      <button class=\"colab-df-convert\" onclick=\"convertToInteractive('df-f61d8603-f5d5-4b5c-922a-42ff53b20536')\"\n",
              "              title=\"Convert this dataframe to an interactive table.\"\n",
              "              style=\"display:none;\">\n",
              "        \n",
              "  <svg xmlns=\"http://www.w3.org/2000/svg\" height=\"24px\"viewBox=\"0 0 24 24\"\n",
              "       width=\"24px\">\n",
              "    <path d=\"M0 0h24v24H0V0z\" fill=\"none\"/>\n",
              "    <path d=\"M18.56 5.44l.94 2.06.94-2.06 2.06-.94-2.06-.94-.94-2.06-.94 2.06-2.06.94zm-11 1L8.5 8.5l.94-2.06 2.06-.94-2.06-.94L8.5 2.5l-.94 2.06-2.06.94zm10 10l.94 2.06.94-2.06 2.06-.94-2.06-.94-.94-2.06-.94 2.06-2.06.94z\"/><path d=\"M17.41 7.96l-1.37-1.37c-.4-.4-.92-.59-1.43-.59-.52 0-1.04.2-1.43.59L10.3 9.45l-7.72 7.72c-.78.78-.78 2.05 0 2.83L4 21.41c.39.39.9.59 1.41.59.51 0 1.02-.2 1.41-.59l7.78-7.78 2.81-2.81c.8-.78.8-2.07 0-2.86zM5.41 20L4 18.59l7.72-7.72 1.47 1.35L5.41 20z\"/>\n",
              "  </svg>\n",
              "      </button>\n",
              "      \n",
              "  <style>\n",
              "    .colab-df-container {\n",
              "      display:flex;\n",
              "      flex-wrap:wrap;\n",
              "      gap: 12px;\n",
              "    }\n",
              "\n",
              "    .colab-df-convert {\n",
              "      background-color: #E8F0FE;\n",
              "      border: none;\n",
              "      border-radius: 50%;\n",
              "      cursor: pointer;\n",
              "      display: none;\n",
              "      fill: #1967D2;\n",
              "      height: 32px;\n",
              "      padding: 0 0 0 0;\n",
              "      width: 32px;\n",
              "    }\n",
              "\n",
              "    .colab-df-convert:hover {\n",
              "      background-color: #E2EBFA;\n",
              "      box-shadow: 0px 1px 2px rgba(60, 64, 67, 0.3), 0px 1px 3px 1px rgba(60, 64, 67, 0.15);\n",
              "      fill: #174EA6;\n",
              "    }\n",
              "\n",
              "    [theme=dark] .colab-df-convert {\n",
              "      background-color: #3B4455;\n",
              "      fill: #D2E3FC;\n",
              "    }\n",
              "\n",
              "    [theme=dark] .colab-df-convert:hover {\n",
              "      background-color: #434B5C;\n",
              "      box-shadow: 0px 1px 3px 1px rgba(0, 0, 0, 0.15);\n",
              "      filter: drop-shadow(0px 1px 2px rgba(0, 0, 0, 0.3));\n",
              "      fill: #FFFFFF;\n",
              "    }\n",
              "  </style>\n",
              "\n",
              "      <script>\n",
              "        const buttonEl =\n",
              "          document.querySelector('#df-f61d8603-f5d5-4b5c-922a-42ff53b20536 button.colab-df-convert');\n",
              "        buttonEl.style.display =\n",
              "          google.colab.kernel.accessAllowed ? 'block' : 'none';\n",
              "\n",
              "        async function convertToInteractive(key) {\n",
              "          const element = document.querySelector('#df-f61d8603-f5d5-4b5c-922a-42ff53b20536');\n",
              "          const dataTable =\n",
              "            await google.colab.kernel.invokeFunction('convertToInteractive',\n",
              "                                                     [key], {});\n",
              "          if (!dataTable) return;\n",
              "\n",
              "          const docLinkHtml = 'Like what you see? Visit the ' +\n",
              "            '<a target=\"_blank\" href=https://colab.research.google.com/notebooks/data_table.ipynb>data table notebook</a>'\n",
              "            + ' to learn more about interactive tables.';\n",
              "          element.innerHTML = '';\n",
              "          dataTable['output_type'] = 'display_data';\n",
              "          await google.colab.output.renderOutput(dataTable, element);\n",
              "          const docLink = document.createElement('div');\n",
              "          docLink.innerHTML = docLinkHtml;\n",
              "          element.appendChild(docLink);\n",
              "        }\n",
              "      </script>\n",
              "    </div>\n",
              "  </div>\n",
              "  "
            ]
          },
          "metadata": {},
          "execution_count": 47
        }
      ],
      "source": [
        "# We set the threshold to 1065.25, which is the 75th percentile for Rented Bike Count.\n",
        "# Every field with a bike count above 1065.25 will be labeled 1, \n",
        "# and rest will be labeled 0.\n",
        "# threshold = 1065.25\n",
        "bike_df[\"Rented_Bike_Count_Value\"] = (bike_df['Rented Bike Count'] > threshold).astype(float)\n",
        "bike_df.head(5000)"
      ]
    },
    {
      "cell_type": "markdown",
      "metadata": {
        "id": "etNN7X4ewy3Z"
      },
      "source": [
        "DATA PREPROCESSING"
      ]
    },
    {
      "cell_type": "code",
      "execution_count": null,
      "metadata": {
        "id": "I05YVO81w3aP"
      },
      "outputs": [],
      "source": [
        "# Add few variables (split the date to month, year,weekday and day)\n",
        "bike_df['Date']=pd.to_datetime(bike_df['Date'])\n",
        "from datetime import datetime\n",
        "import datetime as dt\n",
        "\n",
        "bike_df['Year']=bike_df['Date'].dt.year\n",
        "bike_df['Month']=bike_df['Date'].dt.month\n",
        "bike_df['Day']=bike_df['Date'].dt.day\n",
        "bike_df['DayName']=bike_df['Date'].dt.day_name()\n",
        "bike_df['Weekday'] = bike_df['DayName'].apply(lambda x : 1 if x=='Saturday' or x=='Sunday' else 0 )\n",
        "bike_df=bike_df.drop(columns=['Date','DayName','Year'],axis=1)"
      ]
    },
    {
      "cell_type": "code",
      "execution_count": null,
      "metadata": {
        "id": "0GF-5Vsvw8H8"
      },
      "outputs": [],
      "source": [
        "#Holiday, Functioning Day and Seasons need to have dummy variables  (object DType)\n",
        "bike_df = pd.get_dummies(bike_df, columns = ['Seasons',\t'Holiday',\t'Functioning Day'])"
      ]
    },
    {
      "cell_type": "code",
      "execution_count": null,
      "metadata": {
        "colab": {
          "base_uri": "https://localhost:8080/",
          "height": 334
        },
        "id": "E_59ahPuw9le",
        "outputId": "5497a788-ba9e-4835-ab7a-0cedc81cac83"
      },
      "outputs": [
        {
          "output_type": "execute_result",
          "data": {
            "text/plain": [
              "   Rented Bike Count  Hour  Temperature(°C)  Humidity(%)  Wind speed (m/s)  \\\n",
              "0                254     0             -5.2           37               2.2   \n",
              "1                204     1             -5.5           38               0.8   \n",
              "2                173     2             -6.0           39               1.0   \n",
              "3                107     3             -6.2           40               0.9   \n",
              "4                 78     4             -6.0           36               2.3   \n",
              "\n",
              "   Visibility (10m)  Dew point temperature(°C)  Solar Radiation (MJ/m2)  \\\n",
              "0              2000                      -17.6                      0.0   \n",
              "1              2000                      -17.6                      0.0   \n",
              "2              2000                      -17.7                      0.0   \n",
              "3              2000                      -17.6                      0.0   \n",
              "4              2000                      -18.6                      0.0   \n",
              "\n",
              "   Rainfall(mm)  Snowfall (cm)  ...  Day  Weekday  Seasons_Autumn  \\\n",
              "0           0.0            0.0  ...   12        0               0   \n",
              "1           0.0            0.0  ...   12        0               0   \n",
              "2           0.0            0.0  ...   12        0               0   \n",
              "3           0.0            0.0  ...   12        0               0   \n",
              "4           0.0            0.0  ...   12        0               0   \n",
              "\n",
              "   Seasons_Spring  Seasons_Summer  Seasons_Winter  Holiday_Holiday  \\\n",
              "0               0               0               1                0   \n",
              "1               0               0               1                0   \n",
              "2               0               0               1                0   \n",
              "3               0               0               1                0   \n",
              "4               0               0               1                0   \n",
              "\n",
              "   Holiday_No Holiday  Functioning Day_No  Functioning Day_Yes  \n",
              "0                   1                   0                    1  \n",
              "1                   1                   0                    1  \n",
              "2                   1                   0                    1  \n",
              "3                   1                   0                    1  \n",
              "4                   1                   0                    1  \n",
              "\n",
              "[5 rows x 22 columns]"
            ],
            "text/html": [
              "\n",
              "  <div id=\"df-af3d6a66-07e1-40cc-aa46-c7d37ae490ee\">\n",
              "    <div class=\"colab-df-container\">\n",
              "      <div>\n",
              "<style scoped>\n",
              "    .dataframe tbody tr th:only-of-type {\n",
              "        vertical-align: middle;\n",
              "    }\n",
              "\n",
              "    .dataframe tbody tr th {\n",
              "        vertical-align: top;\n",
              "    }\n",
              "\n",
              "    .dataframe thead th {\n",
              "        text-align: right;\n",
              "    }\n",
              "</style>\n",
              "<table border=\"1\" class=\"dataframe\">\n",
              "  <thead>\n",
              "    <tr style=\"text-align: right;\">\n",
              "      <th></th>\n",
              "      <th>Rented Bike Count</th>\n",
              "      <th>Hour</th>\n",
              "      <th>Temperature(°C)</th>\n",
              "      <th>Humidity(%)</th>\n",
              "      <th>Wind speed (m/s)</th>\n",
              "      <th>Visibility (10m)</th>\n",
              "      <th>Dew point temperature(°C)</th>\n",
              "      <th>Solar Radiation (MJ/m2)</th>\n",
              "      <th>Rainfall(mm)</th>\n",
              "      <th>Snowfall (cm)</th>\n",
              "      <th>...</th>\n",
              "      <th>Day</th>\n",
              "      <th>Weekday</th>\n",
              "      <th>Seasons_Autumn</th>\n",
              "      <th>Seasons_Spring</th>\n",
              "      <th>Seasons_Summer</th>\n",
              "      <th>Seasons_Winter</th>\n",
              "      <th>Holiday_Holiday</th>\n",
              "      <th>Holiday_No Holiday</th>\n",
              "      <th>Functioning Day_No</th>\n",
              "      <th>Functioning Day_Yes</th>\n",
              "    </tr>\n",
              "  </thead>\n",
              "  <tbody>\n",
              "    <tr>\n",
              "      <th>0</th>\n",
              "      <td>254</td>\n",
              "      <td>0</td>\n",
              "      <td>-5.2</td>\n",
              "      <td>37</td>\n",
              "      <td>2.2</td>\n",
              "      <td>2000</td>\n",
              "      <td>-17.6</td>\n",
              "      <td>0.0</td>\n",
              "      <td>0.0</td>\n",
              "      <td>0.0</td>\n",
              "      <td>...</td>\n",
              "      <td>12</td>\n",
              "      <td>0</td>\n",
              "      <td>0</td>\n",
              "      <td>0</td>\n",
              "      <td>0</td>\n",
              "      <td>1</td>\n",
              "      <td>0</td>\n",
              "      <td>1</td>\n",
              "      <td>0</td>\n",
              "      <td>1</td>\n",
              "    </tr>\n",
              "    <tr>\n",
              "      <th>1</th>\n",
              "      <td>204</td>\n",
              "      <td>1</td>\n",
              "      <td>-5.5</td>\n",
              "      <td>38</td>\n",
              "      <td>0.8</td>\n",
              "      <td>2000</td>\n",
              "      <td>-17.6</td>\n",
              "      <td>0.0</td>\n",
              "      <td>0.0</td>\n",
              "      <td>0.0</td>\n",
              "      <td>...</td>\n",
              "      <td>12</td>\n",
              "      <td>0</td>\n",
              "      <td>0</td>\n",
              "      <td>0</td>\n",
              "      <td>0</td>\n",
              "      <td>1</td>\n",
              "      <td>0</td>\n",
              "      <td>1</td>\n",
              "      <td>0</td>\n",
              "      <td>1</td>\n",
              "    </tr>\n",
              "    <tr>\n",
              "      <th>2</th>\n",
              "      <td>173</td>\n",
              "      <td>2</td>\n",
              "      <td>-6.0</td>\n",
              "      <td>39</td>\n",
              "      <td>1.0</td>\n",
              "      <td>2000</td>\n",
              "      <td>-17.7</td>\n",
              "      <td>0.0</td>\n",
              "      <td>0.0</td>\n",
              "      <td>0.0</td>\n",
              "      <td>...</td>\n",
              "      <td>12</td>\n",
              "      <td>0</td>\n",
              "      <td>0</td>\n",
              "      <td>0</td>\n",
              "      <td>0</td>\n",
              "      <td>1</td>\n",
              "      <td>0</td>\n",
              "      <td>1</td>\n",
              "      <td>0</td>\n",
              "      <td>1</td>\n",
              "    </tr>\n",
              "    <tr>\n",
              "      <th>3</th>\n",
              "      <td>107</td>\n",
              "      <td>3</td>\n",
              "      <td>-6.2</td>\n",
              "      <td>40</td>\n",
              "      <td>0.9</td>\n",
              "      <td>2000</td>\n",
              "      <td>-17.6</td>\n",
              "      <td>0.0</td>\n",
              "      <td>0.0</td>\n",
              "      <td>0.0</td>\n",
              "      <td>...</td>\n",
              "      <td>12</td>\n",
              "      <td>0</td>\n",
              "      <td>0</td>\n",
              "      <td>0</td>\n",
              "      <td>0</td>\n",
              "      <td>1</td>\n",
              "      <td>0</td>\n",
              "      <td>1</td>\n",
              "      <td>0</td>\n",
              "      <td>1</td>\n",
              "    </tr>\n",
              "    <tr>\n",
              "      <th>4</th>\n",
              "      <td>78</td>\n",
              "      <td>4</td>\n",
              "      <td>-6.0</td>\n",
              "      <td>36</td>\n",
              "      <td>2.3</td>\n",
              "      <td>2000</td>\n",
              "      <td>-18.6</td>\n",
              "      <td>0.0</td>\n",
              "      <td>0.0</td>\n",
              "      <td>0.0</td>\n",
              "      <td>...</td>\n",
              "      <td>12</td>\n",
              "      <td>0</td>\n",
              "      <td>0</td>\n",
              "      <td>0</td>\n",
              "      <td>0</td>\n",
              "      <td>1</td>\n",
              "      <td>0</td>\n",
              "      <td>1</td>\n",
              "      <td>0</td>\n",
              "      <td>1</td>\n",
              "    </tr>\n",
              "  </tbody>\n",
              "</table>\n",
              "<p>5 rows × 22 columns</p>\n",
              "</div>\n",
              "      <button class=\"colab-df-convert\" onclick=\"convertToInteractive('df-af3d6a66-07e1-40cc-aa46-c7d37ae490ee')\"\n",
              "              title=\"Convert this dataframe to an interactive table.\"\n",
              "              style=\"display:none;\">\n",
              "        \n",
              "  <svg xmlns=\"http://www.w3.org/2000/svg\" height=\"24px\"viewBox=\"0 0 24 24\"\n",
              "       width=\"24px\">\n",
              "    <path d=\"M0 0h24v24H0V0z\" fill=\"none\"/>\n",
              "    <path d=\"M18.56 5.44l.94 2.06.94-2.06 2.06-.94-2.06-.94-.94-2.06-.94 2.06-2.06.94zm-11 1L8.5 8.5l.94-2.06 2.06-.94-2.06-.94L8.5 2.5l-.94 2.06-2.06.94zm10 10l.94 2.06.94-2.06 2.06-.94-2.06-.94-.94-2.06-.94 2.06-2.06.94z\"/><path d=\"M17.41 7.96l-1.37-1.37c-.4-.4-.92-.59-1.43-.59-.52 0-1.04.2-1.43.59L10.3 9.45l-7.72 7.72c-.78.78-.78 2.05 0 2.83L4 21.41c.39.39.9.59 1.41.59.51 0 1.02-.2 1.41-.59l7.78-7.78 2.81-2.81c.8-.78.8-2.07 0-2.86zM5.41 20L4 18.59l7.72-7.72 1.47 1.35L5.41 20z\"/>\n",
              "  </svg>\n",
              "      </button>\n",
              "      \n",
              "  <style>\n",
              "    .colab-df-container {\n",
              "      display:flex;\n",
              "      flex-wrap:wrap;\n",
              "      gap: 12px;\n",
              "    }\n",
              "\n",
              "    .colab-df-convert {\n",
              "      background-color: #E8F0FE;\n",
              "      border: none;\n",
              "      border-radius: 50%;\n",
              "      cursor: pointer;\n",
              "      display: none;\n",
              "      fill: #1967D2;\n",
              "      height: 32px;\n",
              "      padding: 0 0 0 0;\n",
              "      width: 32px;\n",
              "    }\n",
              "\n",
              "    .colab-df-convert:hover {\n",
              "      background-color: #E2EBFA;\n",
              "      box-shadow: 0px 1px 2px rgba(60, 64, 67, 0.3), 0px 1px 3px 1px rgba(60, 64, 67, 0.15);\n",
              "      fill: #174EA6;\n",
              "    }\n",
              "\n",
              "    [theme=dark] .colab-df-convert {\n",
              "      background-color: #3B4455;\n",
              "      fill: #D2E3FC;\n",
              "    }\n",
              "\n",
              "    [theme=dark] .colab-df-convert:hover {\n",
              "      background-color: #434B5C;\n",
              "      box-shadow: 0px 1px 3px 1px rgba(0, 0, 0, 0.15);\n",
              "      filter: drop-shadow(0px 1px 2px rgba(0, 0, 0, 0.3));\n",
              "      fill: #FFFFFF;\n",
              "    }\n",
              "  </style>\n",
              "\n",
              "      <script>\n",
              "        const buttonEl =\n",
              "          document.querySelector('#df-af3d6a66-07e1-40cc-aa46-c7d37ae490ee button.colab-df-convert');\n",
              "        buttonEl.style.display =\n",
              "          google.colab.kernel.accessAllowed ? 'block' : 'none';\n",
              "\n",
              "        async function convertToInteractive(key) {\n",
              "          const element = document.querySelector('#df-af3d6a66-07e1-40cc-aa46-c7d37ae490ee');\n",
              "          const dataTable =\n",
              "            await google.colab.kernel.invokeFunction('convertToInteractive',\n",
              "                                                     [key], {});\n",
              "          if (!dataTable) return;\n",
              "\n",
              "          const docLinkHtml = 'Like what you see? Visit the ' +\n",
              "            '<a target=\"_blank\" href=https://colab.research.google.com/notebooks/data_table.ipynb>data table notebook</a>'\n",
              "            + ' to learn more about interactive tables.';\n",
              "          element.innerHTML = '';\n",
              "          dataTable['output_type'] = 'display_data';\n",
              "          await google.colab.output.renderOutput(dataTable, element);\n",
              "          const docLink = document.createElement('div');\n",
              "          docLink.innerHTML = docLinkHtml;\n",
              "          element.appendChild(docLink);\n",
              "        }\n",
              "      </script>\n",
              "    </div>\n",
              "  </div>\n",
              "  "
            ]
          },
          "metadata": {},
          "execution_count": 36
        }
      ],
      "source": [
        "bike_df.head()"
      ]
    },
    {
      "cell_type": "markdown",
      "metadata": {
        "id": "GNmwHuKuxDZ6"
      },
      "source": [
        "DECLARE FEATURE VECTOR AND TARGET VARIABLE"
      ]
    },
    {
      "cell_type": "code",
      "execution_count": null,
      "metadata": {
        "id": "h_C-qpmoxEVj"
      },
      "outputs": [],
      "source": [
        "# Split the features in X and Y\n",
        "X = bike_df.drop(columns=['Rented_Bike_Count_Value','Rented Bike Count'], axis=1)\n",
        "y = bike_df['Rented_Bike_Count_Value']"
      ]
    },
    {
      "cell_type": "markdown",
      "metadata": {
        "id": "F8-gYg-7xMEC"
      },
      "source": [
        "SPLIT DATA TO TRAINING AND TEST SET"
      ]
    },
    {
      "cell_type": "code",
      "execution_count": null,
      "metadata": {
        "colab": {
          "base_uri": "https://localhost:8080/"
        },
        "id": "hhA2iLNpxMgw",
        "outputId": "47d49d6a-6648-4a0d-df24-60eb5cdb0dac"
      },
      "outputs": [
        {
          "output_type": "stream",
          "name": "stdout",
          "text": [
            "(6132, 20)\n",
            "(2628, 20)\n"
          ]
        }
      ],
      "source": [
        "#Create test and train data\n",
        "from sklearn.model_selection import train_test_split\n",
        "#split the data by percentage\n",
        "X_train, X_test, y_train, y_test = train_test_split(X,y, test_size=0.3, random_state=0)\n",
        "\n",
        "#checking the shape of X_train and X_test\n",
        "print(X_train.shape)\n",
        "print(X_test.shape)"
      ]
    },
    {
      "cell_type": "markdown",
      "metadata": {
        "id": "2IKByuiUxQcI"
      },
      "source": [
        "FEATURE SCALING"
      ]
    },
    {
      "cell_type": "code",
      "execution_count": null,
      "metadata": {
        "id": "ybDHIXvaxRVE"
      },
      "outputs": [],
      "source": [
        "cols = X_train.columns"
      ]
    },
    {
      "cell_type": "code",
      "execution_count": null,
      "metadata": {
        "colab": {
          "base_uri": "https://localhost:8080/"
        },
        "id": "eaqgPVajxTdj",
        "outputId": "beff6fd1-8a98-4aea-9c5a-d5c7114d83f2"
      },
      "outputs": [
        {
          "output_type": "stream",
          "name": "stdout",
          "text": [
            "------Data Standardization------\n"
          ]
        }
      ],
      "source": [
        "print(\"------Data Standardization------\")\n",
        "sc = StandardScaler()\n",
        "X_train = sc.fit_transform(X_train)\n",
        "X_test = sc.transform(X_test)"
      ]
    },
    {
      "cell_type": "code",
      "execution_count": null,
      "metadata": {
        "id": "TZRYIs_dxU6N"
      },
      "outputs": [],
      "source": [
        "X_train = pd.DataFrame(X_train, columns=[cols])"
      ]
    },
    {
      "cell_type": "code",
      "execution_count": null,
      "metadata": {
        "id": "GMIRNbyKxW_v"
      },
      "outputs": [],
      "source": [
        "X_test = pd.DataFrame(X_test, columns=[cols])"
      ]
    },
    {
      "cell_type": "code",
      "execution_count": null,
      "metadata": {
        "colab": {
          "base_uri": "https://localhost:8080/",
          "height": 486
        },
        "id": "F0GjW8EoxYo9",
        "outputId": "f1d79f74-4b4b-4c24-9ae5-9ec1ac741574"
      },
      "outputs": [
        {
          "output_type": "execute_result",
          "data": {
            "text/plain": [
              "               Hour Temperature(°C)   Humidity(%) Wind speed (m/s)  \\\n",
              "count  6.132000e+03    6.132000e+03  6.132000e+03     6.132000e+03   \n",
              "mean  -1.100808e-16   -5.156417e-17 -9.791399e-17     5.677853e-17   \n",
              "std    1.000082e+00    1.000082e+00  1.000082e+00     1.000082e+00   \n",
              "min   -1.659334e+00   -2.533723e+00 -2.852222e+00    -1.653769e+00   \n",
              "25%   -9.364391e-01   -8.061881e-01 -7.873192e-01    -7.905332e-01   \n",
              "50%    7.561397e-02    7.009769e-02 -4.985388e-02    -2.150426e-01   \n",
              "75%    7.985090e-01    8.128542e-01  7.859402e-01     5.522783e-01   \n",
              "max    1.665983e+00    2.206566e+00  1.965885e+00     5.443949e+00   \n",
              "\n",
              "      Visibility (10m) Dew point temperature(°C) Solar Radiation (MJ/m2)  \\\n",
              "count     6.132000e+03              6.132000e+03            6.132000e+03   \n",
              "mean     -1.234064e-16             -6.199288e-17            1.042871e-16   \n",
              "std       1.000082e+00              1.000082e+00            1.000082e+00   \n",
              "min      -2.314733e+00             -2.643712e+00           -6.563217e-01   \n",
              "25%      -8.106573e-01             -6.793708e-01           -6.563217e-01   \n",
              "50%       4.410263e-01              7.732100e-02           -6.448790e-01   \n",
              "75%       9.195024e-01              8.187261e-01            4.192940e-01   \n",
              "max       9.195024e-01              1.728285e+00            3.371516e+00   \n",
              "\n",
              "       Rainfall(mm) Snowfall (cm)         Month           Day       Weekday  \\\n",
              "count  6.132000e+03  6.132000e+03  6.132000e+03  6.132000e+03  6.132000e+03   \n",
              "mean   2.549240e-17 -5.677853e-17 -1.315176e-16  2.201616e-17  1.448432e-17   \n",
              "std    1.000082e+00  1.000082e+00  1.000082e+00  1.000082e+00  1.000082e+00   \n",
              "min   -1.258994e-01 -1.733208e-01 -1.607790e+00 -1.665353e+00 -6.354889e-01   \n",
              "25%   -1.258994e-01 -1.733208e-01 -7.372153e-01 -8.695962e-01 -6.354889e-01   \n",
              "50%   -1.258994e-01 -1.733208e-01  1.333594e-01  3.983973e-02 -6.354889e-01   \n",
              "75%   -1.258994e-01 -1.733208e-01  1.003934e+00  8.355961e-01  1.573592e+00   \n",
              "max    3.057577e+01  2.028756e+01  1.584317e+00  1.745032e+00  1.573592e+00   \n",
              "\n",
              "      Seasons_Autumn Seasons_Spring Seasons_Summer Seasons_Winter  \\\n",
              "count   6.132000e+03   6.132000e+03   6.132000e+03   6.132000e+03   \n",
              "mean   -1.506369e-17   8.111218e-17   1.390495e-17   1.390495e-17   \n",
              "std     1.000082e+00   1.000082e+00   1.000082e+00   1.000082e+00   \n",
              "min    -5.788567e-01  -5.811165e-01  -5.786057e-01  -5.708221e-01   \n",
              "25%    -5.788567e-01  -5.811165e-01  -5.786057e-01  -5.708221e-01   \n",
              "50%    -5.788567e-01  -5.811165e-01  -5.786057e-01  -5.708221e-01   \n",
              "75%     1.727543e+00   1.720825e+00   1.728293e+00  -5.708221e-01   \n",
              "max     1.727543e+00   1.720825e+00   1.728293e+00   1.751859e+00   \n",
              "\n",
              "      Holiday_Holiday Holiday_No Holiday Functioning Day_No  \\\n",
              "count    6.132000e+03       6.132000e+03       6.132000e+03   \n",
              "mean     7.705658e-17      -7.705658e-17       4.113546e-17   \n",
              "std      1.000082e+00       1.000082e+00       1.000082e+00   \n",
              "min     -2.252103e-01      -4.440295e+00      -1.826665e-01   \n",
              "25%     -2.252103e-01       2.252103e-01      -1.826665e-01   \n",
              "50%     -2.252103e-01       2.252103e-01      -1.826665e-01   \n",
              "75%     -2.252103e-01       2.252103e-01      -1.826665e-01   \n",
              "max      4.440295e+00       2.252103e-01       5.474459e+00   \n",
              "\n",
              "      Functioning Day_Yes  \n",
              "count        6.132000e+03  \n",
              "mean        -1.657006e-16  \n",
              "std          1.000082e+00  \n",
              "min         -5.474459e+00  \n",
              "25%          1.826665e-01  \n",
              "50%          1.826665e-01  \n",
              "75%          1.826665e-01  \n",
              "max          1.826665e-01  "
            ],
            "text/html": [
              "\n",
              "  <div id=\"df-e24a9014-2da3-4b7f-9155-9ff53b72ee84\">\n",
              "    <div class=\"colab-df-container\">\n",
              "      <div>\n",
              "<style scoped>\n",
              "    .dataframe tbody tr th:only-of-type {\n",
              "        vertical-align: middle;\n",
              "    }\n",
              "\n",
              "    .dataframe tbody tr th {\n",
              "        vertical-align: top;\n",
              "    }\n",
              "\n",
              "    .dataframe thead tr th {\n",
              "        text-align: left;\n",
              "    }\n",
              "</style>\n",
              "<table border=\"1\" class=\"dataframe\">\n",
              "  <thead>\n",
              "    <tr>\n",
              "      <th></th>\n",
              "      <th>Hour</th>\n",
              "      <th>Temperature(°C)</th>\n",
              "      <th>Humidity(%)</th>\n",
              "      <th>Wind speed (m/s)</th>\n",
              "      <th>Visibility (10m)</th>\n",
              "      <th>Dew point temperature(°C)</th>\n",
              "      <th>Solar Radiation (MJ/m2)</th>\n",
              "      <th>Rainfall(mm)</th>\n",
              "      <th>Snowfall (cm)</th>\n",
              "      <th>Month</th>\n",
              "      <th>Day</th>\n",
              "      <th>Weekday</th>\n",
              "      <th>Seasons_Autumn</th>\n",
              "      <th>Seasons_Spring</th>\n",
              "      <th>Seasons_Summer</th>\n",
              "      <th>Seasons_Winter</th>\n",
              "      <th>Holiday_Holiday</th>\n",
              "      <th>Holiday_No Holiday</th>\n",
              "      <th>Functioning Day_No</th>\n",
              "      <th>Functioning Day_Yes</th>\n",
              "    </tr>\n",
              "  </thead>\n",
              "  <tbody>\n",
              "    <tr>\n",
              "      <th>count</th>\n",
              "      <td>6.132000e+03</td>\n",
              "      <td>6.132000e+03</td>\n",
              "      <td>6.132000e+03</td>\n",
              "      <td>6.132000e+03</td>\n",
              "      <td>6.132000e+03</td>\n",
              "      <td>6.132000e+03</td>\n",
              "      <td>6.132000e+03</td>\n",
              "      <td>6.132000e+03</td>\n",
              "      <td>6.132000e+03</td>\n",
              "      <td>6.132000e+03</td>\n",
              "      <td>6.132000e+03</td>\n",
              "      <td>6.132000e+03</td>\n",
              "      <td>6.132000e+03</td>\n",
              "      <td>6.132000e+03</td>\n",
              "      <td>6.132000e+03</td>\n",
              "      <td>6.132000e+03</td>\n",
              "      <td>6.132000e+03</td>\n",
              "      <td>6.132000e+03</td>\n",
              "      <td>6.132000e+03</td>\n",
              "      <td>6.132000e+03</td>\n",
              "    </tr>\n",
              "    <tr>\n",
              "      <th>mean</th>\n",
              "      <td>-1.100808e-16</td>\n",
              "      <td>-5.156417e-17</td>\n",
              "      <td>-9.791399e-17</td>\n",
              "      <td>5.677853e-17</td>\n",
              "      <td>-1.234064e-16</td>\n",
              "      <td>-6.199288e-17</td>\n",
              "      <td>1.042871e-16</td>\n",
              "      <td>2.549240e-17</td>\n",
              "      <td>-5.677853e-17</td>\n",
              "      <td>-1.315176e-16</td>\n",
              "      <td>2.201616e-17</td>\n",
              "      <td>1.448432e-17</td>\n",
              "      <td>-1.506369e-17</td>\n",
              "      <td>8.111218e-17</td>\n",
              "      <td>1.390495e-17</td>\n",
              "      <td>1.390495e-17</td>\n",
              "      <td>7.705658e-17</td>\n",
              "      <td>-7.705658e-17</td>\n",
              "      <td>4.113546e-17</td>\n",
              "      <td>-1.657006e-16</td>\n",
              "    </tr>\n",
              "    <tr>\n",
              "      <th>std</th>\n",
              "      <td>1.000082e+00</td>\n",
              "      <td>1.000082e+00</td>\n",
              "      <td>1.000082e+00</td>\n",
              "      <td>1.000082e+00</td>\n",
              "      <td>1.000082e+00</td>\n",
              "      <td>1.000082e+00</td>\n",
              "      <td>1.000082e+00</td>\n",
              "      <td>1.000082e+00</td>\n",
              "      <td>1.000082e+00</td>\n",
              "      <td>1.000082e+00</td>\n",
              "      <td>1.000082e+00</td>\n",
              "      <td>1.000082e+00</td>\n",
              "      <td>1.000082e+00</td>\n",
              "      <td>1.000082e+00</td>\n",
              "      <td>1.000082e+00</td>\n",
              "      <td>1.000082e+00</td>\n",
              "      <td>1.000082e+00</td>\n",
              "      <td>1.000082e+00</td>\n",
              "      <td>1.000082e+00</td>\n",
              "      <td>1.000082e+00</td>\n",
              "    </tr>\n",
              "    <tr>\n",
              "      <th>min</th>\n",
              "      <td>-1.659334e+00</td>\n",
              "      <td>-2.533723e+00</td>\n",
              "      <td>-2.852222e+00</td>\n",
              "      <td>-1.653769e+00</td>\n",
              "      <td>-2.314733e+00</td>\n",
              "      <td>-2.643712e+00</td>\n",
              "      <td>-6.563217e-01</td>\n",
              "      <td>-1.258994e-01</td>\n",
              "      <td>-1.733208e-01</td>\n",
              "      <td>-1.607790e+00</td>\n",
              "      <td>-1.665353e+00</td>\n",
              "      <td>-6.354889e-01</td>\n",
              "      <td>-5.788567e-01</td>\n",
              "      <td>-5.811165e-01</td>\n",
              "      <td>-5.786057e-01</td>\n",
              "      <td>-5.708221e-01</td>\n",
              "      <td>-2.252103e-01</td>\n",
              "      <td>-4.440295e+00</td>\n",
              "      <td>-1.826665e-01</td>\n",
              "      <td>-5.474459e+00</td>\n",
              "    </tr>\n",
              "    <tr>\n",
              "      <th>25%</th>\n",
              "      <td>-9.364391e-01</td>\n",
              "      <td>-8.061881e-01</td>\n",
              "      <td>-7.873192e-01</td>\n",
              "      <td>-7.905332e-01</td>\n",
              "      <td>-8.106573e-01</td>\n",
              "      <td>-6.793708e-01</td>\n",
              "      <td>-6.563217e-01</td>\n",
              "      <td>-1.258994e-01</td>\n",
              "      <td>-1.733208e-01</td>\n",
              "      <td>-7.372153e-01</td>\n",
              "      <td>-8.695962e-01</td>\n",
              "      <td>-6.354889e-01</td>\n",
              "      <td>-5.788567e-01</td>\n",
              "      <td>-5.811165e-01</td>\n",
              "      <td>-5.786057e-01</td>\n",
              "      <td>-5.708221e-01</td>\n",
              "      <td>-2.252103e-01</td>\n",
              "      <td>2.252103e-01</td>\n",
              "      <td>-1.826665e-01</td>\n",
              "      <td>1.826665e-01</td>\n",
              "    </tr>\n",
              "    <tr>\n",
              "      <th>50%</th>\n",
              "      <td>7.561397e-02</td>\n",
              "      <td>7.009769e-02</td>\n",
              "      <td>-4.985388e-02</td>\n",
              "      <td>-2.150426e-01</td>\n",
              "      <td>4.410263e-01</td>\n",
              "      <td>7.732100e-02</td>\n",
              "      <td>-6.448790e-01</td>\n",
              "      <td>-1.258994e-01</td>\n",
              "      <td>-1.733208e-01</td>\n",
              "      <td>1.333594e-01</td>\n",
              "      <td>3.983973e-02</td>\n",
              "      <td>-6.354889e-01</td>\n",
              "      <td>-5.788567e-01</td>\n",
              "      <td>-5.811165e-01</td>\n",
              "      <td>-5.786057e-01</td>\n",
              "      <td>-5.708221e-01</td>\n",
              "      <td>-2.252103e-01</td>\n",
              "      <td>2.252103e-01</td>\n",
              "      <td>-1.826665e-01</td>\n",
              "      <td>1.826665e-01</td>\n",
              "    </tr>\n",
              "    <tr>\n",
              "      <th>75%</th>\n",
              "      <td>7.985090e-01</td>\n",
              "      <td>8.128542e-01</td>\n",
              "      <td>7.859402e-01</td>\n",
              "      <td>5.522783e-01</td>\n",
              "      <td>9.195024e-01</td>\n",
              "      <td>8.187261e-01</td>\n",
              "      <td>4.192940e-01</td>\n",
              "      <td>-1.258994e-01</td>\n",
              "      <td>-1.733208e-01</td>\n",
              "      <td>1.003934e+00</td>\n",
              "      <td>8.355961e-01</td>\n",
              "      <td>1.573592e+00</td>\n",
              "      <td>1.727543e+00</td>\n",
              "      <td>1.720825e+00</td>\n",
              "      <td>1.728293e+00</td>\n",
              "      <td>-5.708221e-01</td>\n",
              "      <td>-2.252103e-01</td>\n",
              "      <td>2.252103e-01</td>\n",
              "      <td>-1.826665e-01</td>\n",
              "      <td>1.826665e-01</td>\n",
              "    </tr>\n",
              "    <tr>\n",
              "      <th>max</th>\n",
              "      <td>1.665983e+00</td>\n",
              "      <td>2.206566e+00</td>\n",
              "      <td>1.965885e+00</td>\n",
              "      <td>5.443949e+00</td>\n",
              "      <td>9.195024e-01</td>\n",
              "      <td>1.728285e+00</td>\n",
              "      <td>3.371516e+00</td>\n",
              "      <td>3.057577e+01</td>\n",
              "      <td>2.028756e+01</td>\n",
              "      <td>1.584317e+00</td>\n",
              "      <td>1.745032e+00</td>\n",
              "      <td>1.573592e+00</td>\n",
              "      <td>1.727543e+00</td>\n",
              "      <td>1.720825e+00</td>\n",
              "      <td>1.728293e+00</td>\n",
              "      <td>1.751859e+00</td>\n",
              "      <td>4.440295e+00</td>\n",
              "      <td>2.252103e-01</td>\n",
              "      <td>5.474459e+00</td>\n",
              "      <td>1.826665e-01</td>\n",
              "    </tr>\n",
              "  </tbody>\n",
              "</table>\n",
              "</div>\n",
              "      <button class=\"colab-df-convert\" onclick=\"convertToInteractive('df-e24a9014-2da3-4b7f-9155-9ff53b72ee84')\"\n",
              "              title=\"Convert this dataframe to an interactive table.\"\n",
              "              style=\"display:none;\">\n",
              "        \n",
              "  <svg xmlns=\"http://www.w3.org/2000/svg\" height=\"24px\"viewBox=\"0 0 24 24\"\n",
              "       width=\"24px\">\n",
              "    <path d=\"M0 0h24v24H0V0z\" fill=\"none\"/>\n",
              "    <path d=\"M18.56 5.44l.94 2.06.94-2.06 2.06-.94-2.06-.94-.94-2.06-.94 2.06-2.06.94zm-11 1L8.5 8.5l.94-2.06 2.06-.94-2.06-.94L8.5 2.5l-.94 2.06-2.06.94zm10 10l.94 2.06.94-2.06 2.06-.94-2.06-.94-.94-2.06-.94 2.06-2.06.94z\"/><path d=\"M17.41 7.96l-1.37-1.37c-.4-.4-.92-.59-1.43-.59-.52 0-1.04.2-1.43.59L10.3 9.45l-7.72 7.72c-.78.78-.78 2.05 0 2.83L4 21.41c.39.39.9.59 1.41.59.51 0 1.02-.2 1.41-.59l7.78-7.78 2.81-2.81c.8-.78.8-2.07 0-2.86zM5.41 20L4 18.59l7.72-7.72 1.47 1.35L5.41 20z\"/>\n",
              "  </svg>\n",
              "      </button>\n",
              "      \n",
              "  <style>\n",
              "    .colab-df-container {\n",
              "      display:flex;\n",
              "      flex-wrap:wrap;\n",
              "      gap: 12px;\n",
              "    }\n",
              "\n",
              "    .colab-df-convert {\n",
              "      background-color: #E8F0FE;\n",
              "      border: none;\n",
              "      border-radius: 50%;\n",
              "      cursor: pointer;\n",
              "      display: none;\n",
              "      fill: #1967D2;\n",
              "      height: 32px;\n",
              "      padding: 0 0 0 0;\n",
              "      width: 32px;\n",
              "    }\n",
              "\n",
              "    .colab-df-convert:hover {\n",
              "      background-color: #E2EBFA;\n",
              "      box-shadow: 0px 1px 2px rgba(60, 64, 67, 0.3), 0px 1px 3px 1px rgba(60, 64, 67, 0.15);\n",
              "      fill: #174EA6;\n",
              "    }\n",
              "\n",
              "    [theme=dark] .colab-df-convert {\n",
              "      background-color: #3B4455;\n",
              "      fill: #D2E3FC;\n",
              "    }\n",
              "\n",
              "    [theme=dark] .colab-df-convert:hover {\n",
              "      background-color: #434B5C;\n",
              "      box-shadow: 0px 1px 3px 1px rgba(0, 0, 0, 0.15);\n",
              "      filter: drop-shadow(0px 1px 2px rgba(0, 0, 0, 0.3));\n",
              "      fill: #FFFFFF;\n",
              "    }\n",
              "  </style>\n",
              "\n",
              "      <script>\n",
              "        const buttonEl =\n",
              "          document.querySelector('#df-e24a9014-2da3-4b7f-9155-9ff53b72ee84 button.colab-df-convert');\n",
              "        buttonEl.style.display =\n",
              "          google.colab.kernel.accessAllowed ? 'block' : 'none';\n",
              "\n",
              "        async function convertToInteractive(key) {\n",
              "          const element = document.querySelector('#df-e24a9014-2da3-4b7f-9155-9ff53b72ee84');\n",
              "          const dataTable =\n",
              "            await google.colab.kernel.invokeFunction('convertToInteractive',\n",
              "                                                     [key], {});\n",
              "          if (!dataTable) return;\n",
              "\n",
              "          const docLinkHtml = 'Like what you see? Visit the ' +\n",
              "            '<a target=\"_blank\" href=https://colab.research.google.com/notebooks/data_table.ipynb>data table notebook</a>'\n",
              "            + ' to learn more about interactive tables.';\n",
              "          element.innerHTML = '';\n",
              "          dataTable['output_type'] = 'display_data';\n",
              "          await google.colab.output.renderOutput(dataTable, element);\n",
              "          const docLink = document.createElement('div');\n",
              "          docLink.innerHTML = docLinkHtml;\n",
              "          element.appendChild(docLink);\n",
              "        }\n",
              "      </script>\n",
              "    </div>\n",
              "  </div>\n",
              "  "
            ]
          },
          "metadata": {},
          "execution_count": 43
        }
      ],
      "source": [
        "X_train.describe()"
      ]
    },
    {
      "cell_type": "markdown",
      "metadata": {
        "id": "rGpaKpCk88bS"
      },
      "source": [
        "ANN - Artificial Neural Network"
      ]
    },
    {
      "cell_type": "code",
      "execution_count": null,
      "metadata": {
        "id": "rpTFZRCu9AkT"
      },
      "outputs": [],
      "source": [
        "import tensorflow\n",
        "from tensorflow import keras\n",
        "from tensorflow.keras import Sequential\n",
        "from tensorflow.keras.layers import Dense"
      ]
    },
    {
      "cell_type": "code",
      "execution_count": null,
      "metadata": {
        "colab": {
          "base_uri": "https://localhost:8080/"
        },
        "id": "5SYT_6T89FYE",
        "outputId": "bff12593-16a9-48cc-d561-29fb5f3526c0"
      },
      "outputs": [
        {
          "output_type": "stream",
          "name": "stdout",
          "text": [
            "614/614 [==============================] - 1s 2ms/step - loss: 0.2552 - accuracy: 0.8925\n",
            "Epoch 7/10\n",
            "614/614 [==============================] - 1s 2ms/step - loss: 0.2511 - accuracy: 0.8938\n",
            "Epoch 8/10\n",
            "614/614 [==============================] - 1s 2ms/step - loss: 0.2476 - accuracy: 0.8992\n",
            "Epoch 9/10\n",
            "614/614 [==============================] - 1s 2ms/step - loss: 0.2431 - accuracy: 0.9005\n",
            "Epoch 10/10\n",
            "614/614 [==============================] - 1s 2ms/step - loss: 0.2397 - accuracy: 0.9012\n"
          ]
        },
        {
          "output_type": "execute_result",
          "data": {
            "text/plain": [
              "<keras.callbacks.History at 0x7f48cf8f0d90>"
            ]
          },
          "metadata": {},
          "execution_count": 18
        }
      ],
      "source": [
        "model = Sequential()\n",
        "\n",
        "# Adding the input layer and the first hidden layer\n",
        "model.add(Dense(10, activation = 'relu', input_dim = 20))\n",
        "\n",
        "# Adding the second hidden layer\n",
        "model.add(Dense(10, activation = 'relu'))\n",
        "\n",
        "# Adding the output layer\n",
        "model.add(Dense(1,  activation = 'sigmoid'))\n",
        "\n",
        "# Compiling the ANN\n",
        "model.compile(optimizer = 'adam', loss = 'binary_crossentropy', metrics = ['accuracy'])\n",
        "\n",
        "# Fitting the ANN to the Training set\n",
        "model.fit(X_train, y_train.values, batch_size = 10, epochs = 10)"
      ]
    },
    {
      "cell_type": "code",
      "execution_count": null,
      "metadata": {
        "id": "6EPzteJ_E6JE"
      },
      "outputs": [],
      "source": [
        "from sklearn.metrics import confusion_matrix\n",
        "def accuracy_NN(model,X,y):\n",
        "    # Predicting the Test set results\n",
        "    y_pred = model.predict(X)\n",
        "    y_pred = (y_pred > 0.5)\n",
        "    cm = confusion_matrix(y.values, y_pred)\n",
        "    return (cm[0][0]+cm[1][1])/(cm[0][0]+cm[0][1]+cm[1][0]+cm[1][1])\n",
        "\n"
      ]
    },
    {
      "cell_type": "code",
      "execution_count": null,
      "metadata": {
        "colab": {
          "base_uri": "https://localhost:8080/"
        },
        "id": "o-hB0veUGcVY",
        "outputId": "8c33d3d5-0cfe-48ff-a737-c0ee56c52bcb"
      },
      "outputs": [
        {
          "output_type": "stream",
          "name": "stdout",
          "text": [
            "Train accuracy = 90.38%\n",
            "Test accuracy = 90.41%\n"
          ]
        }
      ],
      "source": [
        "print('Train accuracy = {0}%'.format(np.round(accuracy_NN(model,X_train, y_train) * 100, 2)))\n",
        "print('Test accuracy = {0}%'.format(np.round(accuracy_NN(model,X_test, y_test) * 100, 2)))"
      ]
    },
    {
      "cell_type": "code",
      "execution_count": null,
      "metadata": {
        "id": "4jLoDprjGdXG"
      },
      "outputs": [],
      "source": [
        "from sklearn.metrics import accuracy_score\n",
        "def accuracyscore(model,X,y):\n",
        "    # Predicting the Test set results\n",
        "    y_pred = model.predict(X)\n",
        "    y_pred = (y_pred > 0.5)\n",
        "    return accuracy_score(y,y_pred)"
      ]
    },
    {
      "cell_type": "code",
      "execution_count": null,
      "metadata": {
        "colab": {
          "base_uri": "https://localhost:8080/"
        },
        "id": "bKevVGpHG02I",
        "outputId": "a477917c-a253-46ec-b822-35d7f426d3db"
      },
      "outputs": [
        {
          "output_type": "stream",
          "name": "stdout",
          "text": [
            "Train accuracy = 90.38%\n",
            "Test accuracy = 90.41%\n"
          ]
        }
      ],
      "source": [
        "print('Train accuracy = {0}%'.format(np.round(accuracyscore(model,X_train, y_train) * 100, 2)))\n",
        "print('Test accuracy = {0}%'.format(np.round(accuracyscore(model,X_test, y_test) * 100, 2)))"
      ]
    },
    {
      "cell_type": "code",
      "execution_count": null,
      "metadata": {
        "colab": {
          "base_uri": "https://localhost:8080/"
        },
        "id": "A64wfXbNHSHR",
        "outputId": "a14138b2-4c6e-44ed-9f49-da5133d30d8a"
      },
      "outputs": [
        {
          "output_type": "stream",
          "name": "stdout",
          "text": [
            "246/246 [==============================] - 1s 3ms/step - loss: 0.1720 - accuracy: 0.9288 - val_loss: 0.2386 - val_accuracy: 0.9022\n",
            "Epoch 87/100\n",
            "246/246 [==============================] - 1s 2ms/step - loss: 0.1713 - accuracy: 0.9297 - val_loss: 0.2370 - val_accuracy: 0.8998\n",
            "Epoch 88/100\n",
            "246/246 [==============================] - 1s 2ms/step - loss: 0.1707 - accuracy: 0.9270 - val_loss: 0.2399 - val_accuracy: 0.8998\n",
            "Epoch 89/100\n",
            "246/246 [==============================] - 1s 2ms/step - loss: 0.1701 - accuracy: 0.9286 - val_loss: 0.2436 - val_accuracy: 0.9014\n",
            "Epoch 90/100\n",
            "246/246 [==============================] - 1s 2ms/step - loss: 0.1699 - accuracy: 0.9286 - val_loss: 0.2389 - val_accuracy: 0.9014\n",
            "Epoch 91/100\n",
            "246/246 [==============================] - 1s 2ms/step - loss: 0.1692 - accuracy: 0.9311 - val_loss: 0.2387 - val_accuracy: 0.8998\n",
            "Epoch 92/100\n",
            "246/246 [==============================] - 1s 2ms/step - loss: 0.1688 - accuracy: 0.9295 - val_loss: 0.2349 - val_accuracy: 0.9030\n",
            "Epoch 93/100\n",
            "246/246 [==============================] - 1s 3ms/step - loss: 0.1686 - accuracy: 0.9311 - val_loss: 0.2396 - val_accuracy: 0.8998\n",
            "Epoch 94/100\n",
            "246/246 [==============================] - 1s 2ms/step - loss: 0.1684 - accuracy: 0.9317 - val_loss: 0.2433 - val_accuracy: 0.8998\n",
            "Epoch 95/100\n",
            "246/246 [==============================] - 1s 2ms/step - loss: 0.1686 - accuracy: 0.9311 - val_loss: 0.2367 - val_accuracy: 0.9014\n",
            "Epoch 96/100\n",
            "246/246 [==============================] - 1s 3ms/step - loss: 0.1698 - accuracy: 0.9278 - val_loss: 0.2375 - val_accuracy: 0.8998\n",
            "Epoch 97/100\n",
            "246/246 [==============================] - 1s 2ms/step - loss: 0.1683 - accuracy: 0.9293 - val_loss: 0.2368 - val_accuracy: 0.9014\n",
            "Epoch 98/100\n",
            "246/246 [==============================] - 1s 3ms/step - loss: 0.1684 - accuracy: 0.9315 - val_loss: 0.2406 - val_accuracy: 0.8998\n",
            "Epoch 99/100\n",
            "246/246 [==============================] - 1s 2ms/step - loss: 0.1665 - accuracy: 0.9311 - val_loss: 0.2413 - val_accuracy: 0.9030\n",
            "Epoch 100/100\n",
            "246/246 [==============================] - 1s 2ms/step - loss: 0.1674 - accuracy: 0.9317 - val_loss: 0.2428 - val_accuracy: 0.9006\n"
          ]
        }
      ],
      "source": [
        "# Fitting the ANN to the Training set\n",
        "history = model.fit(X_train, y_train.values, batch_size = 20, epochs = 100,validation_split = 0.2)\n"
      ]
    },
    {
      "cell_type": "code",
      "execution_count": null,
      "metadata": {
        "colab": {
          "base_uri": "https://localhost:8080/",
          "height": 282
        },
        "id": "WBK9RjbwHiYR",
        "outputId": "c4618f9c-0c1e-4c96-b02e-0a0565d2b3f9"
      },
      "outputs": [
        {
          "output_type": "execute_result",
          "data": {
            "text/plain": [
              "[<matplotlib.lines.Line2D at 0x7f48cf7d1e50>]"
            ]
          },
          "metadata": {},
          "execution_count": 24
        },
        {
          "output_type": "display_data",
          "data": {
            "text/plain": [
              "<Figure size 432x288 with 1 Axes>"
            ],
            "image/png": "[encoded data removed]"
          },
          "metadata": {
            "needs_background": "light"
          }
        }
      ],
      "source": [
        "import matplotlib.pyplot as plt\n",
        "plt.plot(history.history['loss'])\n",
        "plt.plot(history.history['val_loss'])"
      ]
    },
    {
      "cell_type": "code",
      "execution_count": null,
      "metadata": {
        "colab": {
          "base_uri": "https://localhost:8080/",
          "height": 282
        },
        "id": "_GeUlN_5Im8J",
        "outputId": "b487b0b3-942b-43c0-ed65-27bf786d191e"
      },
      "outputs": [
        {
          "output_type": "execute_result",
          "data": {
            "text/plain": [
              "[<matplotlib.lines.Line2D at 0x7f48cf74fb90>]"
            ]
          },
          "metadata": {},
          "execution_count": 25
        },
        {
          "output_type": "display_data",
          "data": {
            "text/plain": [
              "<Figure size 432x288 with 1 Axes>"
            ],
            "image/png": "[encoded data removed]"
          },
          "metadata": {
            "needs_background": "light"
          }
        }
      ],
      "source": [
        "plt.plot(history.history['accuracy'])\n",
        "plt.plot(history.history['val_accuracy'])"
      ]
    },
    {
      "cell_type": "markdown",
      "metadata": {
        "id": "W0oiondzWane"
      },
      "source": [
        "1. NO OF HIDDEN LAYERS "
      ]
    },
    {
      "cell_type": "code",
      "execution_count": null,
      "metadata": {
        "id": "3wxzIQhTWhFz",
        "colab": {
          "base_uri": "https://localhost:8080/"
        },
        "outputId": "1eca6952-300e-4155-fdeb-735776ce0d77"
      },
      "outputs": [
        {
          "output_type": "stream",
          "name": "stdout",
          "text": [
            "Epoch 1/4\n",
            "614/614 [==============================] - 1s 2ms/step - loss: 0.4449 - accuracy: 0.7763\n",
            "Epoch 2/4\n",
            "614/614 [==============================] - 1s 2ms/step - loss: 0.3107 - accuracy: 0.8686\n",
            "Epoch 3/4\n",
            "614/614 [==============================] - 1s 2ms/step - loss: 0.2898 - accuracy: 0.8818\n",
            "Epoch 4/4\n",
            "614/614 [==============================] - 1s 2ms/step - loss: 0.2805 - accuracy: 0.8842\n",
            "Epoch 1/4\n",
            "614/614 [==============================] - 2s 2ms/step - loss: 0.4458 - accuracy: 0.7782\n",
            "Epoch 2/4\n",
            "614/614 [==============================] - 1s 2ms/step - loss: 0.3013 - accuracy: 0.8684\n",
            "Epoch 3/4\n",
            "614/614 [==============================] - 1s 2ms/step - loss: 0.2770 - accuracy: 0.8849\n",
            "Epoch 4/4\n",
            "614/614 [==============================] - 1s 2ms/step - loss: 0.2656 - accuracy: 0.8919\n",
            "Epoch 1/4\n",
            "614/614 [==============================] - 2s 2ms/step - loss: 0.4291 - accuracy: 0.7794\n",
            "Epoch 2/4\n",
            "614/614 [==============================] - 1s 2ms/step - loss: 0.3017 - accuracy: 0.8700\n",
            "Epoch 3/4\n",
            "614/614 [==============================] - 1s 2ms/step - loss: 0.2798 - accuracy: 0.8858\n",
            "Epoch 4/4\n",
            "614/614 [==============================] - 1s 2ms/step - loss: 0.2697 - accuracy: 0.8878\n",
            "Epoch 1/4\n",
            "614/614 [==============================] - 2s 2ms/step - loss: 0.4090 - accuracy: 0.7989\n",
            "Epoch 2/4\n",
            "614/614 [==============================] - 1s 2ms/step - loss: 0.3131 - accuracy: 0.8619\n",
            "Epoch 3/4\n",
            "614/614 [==============================] - 1s 2ms/step - loss: 0.2807 - accuracy: 0.8787\n",
            "Epoch 4/4\n",
            "614/614 [==============================] - 1s 2ms/step - loss: 0.2628 - accuracy: 0.8893\n",
            "Epoch 1/4\n",
            "614/614 [==============================] - 2s 2ms/step - loss: 0.4387 - accuracy: 0.7658\n",
            "Epoch 2/4\n",
            "614/614 [==============================] - 1s 2ms/step - loss: 0.3018 - accuracy: 0.8669\n",
            "Epoch 3/4\n",
            "614/614 [==============================] - 1s 2ms/step - loss: 0.2815 - accuracy: 0.8796\n",
            "Epoch 4/4\n",
            "614/614 [==============================] - 1s 2ms/step - loss: 0.2698 - accuracy: 0.8871\n",
            "Epoch 1/4\n",
            "614/614 [==============================] - 2s 2ms/step - loss: 0.4481 - accuracy: 0.7391\n",
            "Epoch 2/4\n",
            "614/614 [==============================] - 1s 2ms/step - loss: 0.3306 - accuracy: 0.8518\n",
            "Epoch 3/4\n",
            "614/614 [==============================] - 1s 2ms/step - loss: 0.2877 - accuracy: 0.8723\n",
            "Epoch 4/4\n",
            "614/614 [==============================] - 1s 2ms/step - loss: 0.2640 - accuracy: 0.8841\n",
            "Epoch 1/4\n",
            "614/614 [==============================] - 2s 2ms/step - loss: 0.4059 - accuracy: 0.7903\n",
            "Epoch 2/4\n",
            "614/614 [==============================] - 1s 2ms/step - loss: 0.3222 - accuracy: 0.8526\n",
            "Epoch 3/4\n",
            "614/614 [==============================] - 1s 2ms/step - loss: 0.2967 - accuracy: 0.8687\n",
            "Epoch 4/4\n",
            "614/614 [==============================] - 1s 2ms/step - loss: 0.2708 - accuracy: 0.8844\n",
            "Epoch 1/4\n",
            "614/614 [==============================] - 2s 2ms/step - loss: 0.4223 - accuracy: 0.7740\n",
            "Epoch 2/4\n",
            "614/614 [==============================] - 1s 2ms/step - loss: 0.3120 - accuracy: 0.8588\n",
            "Epoch 3/4\n",
            "614/614 [==============================] - 1s 2ms/step - loss: 0.2789 - accuracy: 0.8813\n",
            "Epoch 4/4\n",
            "614/614 [==============================] - 1s 2ms/step - loss: 0.2657 - accuracy: 0.8867\n",
            "Epoch 1/4\n",
            "614/614 [==============================] - 2s 2ms/step - loss: 0.4272 - accuracy: 0.7916\n",
            "Epoch 2/4\n",
            "614/614 [==============================] - 2s 2ms/step - loss: 0.3349 - accuracy: 0.8627\n",
            "Epoch 3/4\n",
            "614/614 [==============================] - 1s 2ms/step - loss: 0.3047 - accuracy: 0.8720\n",
            "Epoch 4/4\n",
            "614/614 [==============================] - 1s 2ms/step - loss: 0.2787 - accuracy: 0.8868\n",
            "Epoch 1/4\n",
            "614/614 [==============================] - 3s 2ms/step - loss: 0.4187 - accuracy: 0.7780\n",
            "Epoch 2/4\n",
            "614/614 [==============================] - 2s 2ms/step - loss: 0.3472 - accuracy: 0.8407\n",
            "Epoch 3/4\n",
            "614/614 [==============================] - 1s 2ms/step - loss: 0.3252 - accuracy: 0.8713\n",
            "Epoch 4/4\n",
            "614/614 [==============================] - 2s 2ms/step - loss: 0.3081 - accuracy: 0.8808\n"
          ]
        }
      ],
      "source": [
        "accuracy_validation = [None]*10\n",
        "for hiddenLayersCount in range(0,10):\n",
        "    \n",
        "    model = Sequential()\n",
        "    # First Layer\n",
        "    model.add(Dense( 10, activation = 'relu', input_dim = 20))\n",
        "    i=0\n",
        "    # N Number of Hidden Layers\n",
        "    while(i < hiddenLayersCount):\n",
        "        model.add(Dense( 10,  activation = 'relu'))\n",
        "        i+=1\n",
        "    \n",
        "    # Final Layer\n",
        "    model.add(Dense( 1,  activation = 'sigmoid'))\n",
        "    \n",
        "    model.compile(optimizer = 'adam', loss = 'binary_crossentropy', metrics = ['accuracy'])\n",
        "    model.fit(X_train, y_train.values, batch_size = 10, epochs = 4)\n",
        "    accuracy_validation[hiddenLayersCount]=np.round(accuracy_NN(model,X_test, y_test) * 100, 2)"
      ]
    },
    {
      "cell_type": "code",
      "execution_count": null,
      "metadata": {
        "colab": {
          "base_uri": "https://localhost:8080/",
          "height": 312
        },
        "id": "UQHsp4FFXK8C",
        "outputId": "49041e86-4582-4a5b-949c-3b532a5b2773"
      },
      "outputs": [
        {
          "output_type": "execute_result",
          "data": {
            "text/plain": [
              "Text(0, 0.5, 'Accuracy on Validation Set')"
            ]
          },
          "metadata": {},
          "execution_count": 27
        },
        {
          "output_type": "display_data",
          "data": {
            "text/plain": [
              "<Figure size 432x288 with 1 Axes>"
            ],
            "image/png": "[encoded data removed]"
          },
          "metadata": {
            "needs_background": "light"
          }
        }
      ],
      "source": [
        "plt.ylim([0,100])\n",
        "plt.plot(accuracy_validation)\n",
        "plt.title(\"Accuracy vs No of Hidden Layers\")\n",
        "plt.xlabel(\"No of Hidden Layers\")\n",
        "plt.ylabel(\"Accuracy on Validation Set\")"
      ]
    },
    {
      "cell_type": "markdown",
      "metadata": {
        "id": "pZWvfiNfYE49"
      },
      "source": [
        "Number of Hidden layers won't increase significant accuracy,\n",
        "We will keep only 1 hidden layer in the NN"
      ]
    },
    {
      "cell_type": "markdown",
      "metadata": {
        "id": "m28SmKeFYS_j"
      },
      "source": [
        "2. No of Nodes in Hidden Layer"
      ]
    },
    {
      "cell_type": "code",
      "execution_count": null,
      "metadata": {
        "id": "0aFmMuyLYUmM",
        "colab": {
          "base_uri": "https://localhost:8080/"
        },
        "outputId": "2458dde8-ce1e-4420-8f08-1b21298d0582"
      },
      "outputs": [
        {
          "output_type": "stream",
          "name": "stdout",
          "text": [
            "Epoch 1/4\n",
            "614/614 [==============================] - 3s 4ms/step - loss: 0.4307 - accuracy: 0.7913\n",
            "Epoch 2/4\n",
            "614/614 [==============================] - 1s 2ms/step - loss: 0.3068 - accuracy: 0.8708\n",
            "Epoch 3/4\n",
            "614/614 [==============================] - 1s 2ms/step - loss: 0.2834 - accuracy: 0.8790\n",
            "Epoch 4/4\n",
            "614/614 [==============================] - 1s 2ms/step - loss: 0.2715 - accuracy: 0.8850\n",
            "Epoch 1/4\n",
            "614/614 [==============================] - 2s 2ms/step - loss: 0.4079 - accuracy: 0.8131\n",
            "Epoch 2/4\n",
            "614/614 [==============================] - 1s 2ms/step - loss: 0.2974 - accuracy: 0.8756\n",
            "Epoch 3/4\n",
            "614/614 [==============================] - 1s 2ms/step - loss: 0.2773 - accuracy: 0.8870\n",
            "Epoch 4/4\n",
            "614/614 [==============================] - 1s 2ms/step - loss: 0.2681 - accuracy: 0.8886\n",
            "Epoch 1/4\n",
            "614/614 [==============================] - 2s 2ms/step - loss: 0.4488 - accuracy: 0.7789\n",
            "Epoch 2/4\n",
            "614/614 [==============================] - 1s 2ms/step - loss: 0.3102 - accuracy: 0.8679\n",
            "Epoch 3/4\n",
            "614/614 [==============================] - 1s 2ms/step - loss: 0.2885 - accuracy: 0.8767\n",
            "Epoch 4/4\n",
            "614/614 [==============================] - 1s 2ms/step - loss: 0.2777 - accuracy: 0.8788\n",
            "Epoch 1/4\n",
            "614/614 [==============================] - 2s 2ms/step - loss: 0.4066 - accuracy: 0.7979\n",
            "Epoch 2/4\n",
            "614/614 [==============================] - 1s 2ms/step - loss: 0.2892 - accuracy: 0.8769\n",
            "Epoch 3/4\n",
            "614/614 [==============================] - 1s 2ms/step - loss: 0.2715 - accuracy: 0.8860\n",
            "Epoch 4/4\n",
            "614/614 [==============================] - 1s 2ms/step - loss: 0.2628 - accuracy: 0.8894\n",
            "Epoch 1/4\n",
            "614/614 [==============================] - 2s 2ms/step - loss: 0.4117 - accuracy: 0.7891\n",
            "Epoch 2/4\n",
            "614/614 [==============================] - 1s 2ms/step - loss: 0.2967 - accuracy: 0.8720\n",
            "Epoch 3/4\n",
            "614/614 [==============================] - 1s 2ms/step - loss: 0.2751 - accuracy: 0.8847\n",
            "Epoch 4/4\n",
            "614/614 [==============================] - 1s 2ms/step - loss: 0.2641 - accuracy: 0.8907\n",
            "Epoch 1/4\n",
            "614/614 [==============================] - 2s 2ms/step - loss: 0.4991 - accuracy: 0.7149\n",
            "Epoch 2/4\n",
            "614/614 [==============================] - 1s 2ms/step - loss: 0.2958 - accuracy: 0.8741\n",
            "Epoch 3/4\n",
            "614/614 [==============================] - 1s 2ms/step - loss: 0.2731 - accuracy: 0.8873\n",
            "Epoch 4/4\n",
            "614/614 [==============================] - 1s 2ms/step - loss: 0.2615 - accuracy: 0.8935\n",
            "Epoch 1/4\n",
            "614/614 [==============================] - 1s 2ms/step - loss: 0.3780 - accuracy: 0.8205\n",
            "Epoch 2/4\n",
            "614/614 [==============================] - 1s 2ms/step - loss: 0.2936 - accuracy: 0.8743\n",
            "Epoch 3/4\n",
            "614/614 [==============================] - 1s 2ms/step - loss: 0.2731 - accuracy: 0.8845\n",
            "Epoch 4/4\n",
            "614/614 [==============================] - 1s 2ms/step - loss: 0.2619 - accuracy: 0.8914\n",
            "Epoch 1/4\n",
            "614/614 [==============================] - 2s 2ms/step - loss: 0.3719 - accuracy: 0.8250\n",
            "Epoch 2/4\n",
            "614/614 [==============================] - 1s 2ms/step - loss: 0.2845 - accuracy: 0.8823\n",
            "Epoch 3/4\n",
            "614/614 [==============================] - 1s 2ms/step - loss: 0.2673 - accuracy: 0.8886\n",
            "Epoch 4/4\n",
            "614/614 [==============================] - 1s 2ms/step - loss: 0.2568 - accuracy: 0.8919\n",
            "Epoch 1/4\n",
            "614/614 [==============================] - 2s 2ms/step - loss: 0.3724 - accuracy: 0.8219\n",
            "Epoch 2/4\n",
            "614/614 [==============================] - 1s 2ms/step - loss: 0.2955 - accuracy: 0.8728\n",
            "Epoch 3/4\n",
            "614/614 [==============================] - 1s 2ms/step - loss: 0.2743 - accuracy: 0.8790\n",
            "Epoch 4/4\n",
            "614/614 [==============================] - 1s 2ms/step - loss: 0.2604 - accuracy: 0.8862\n",
            "Epoch 1/4\n",
            "614/614 [==============================] - 2s 2ms/step - loss: 0.3721 - accuracy: 0.8262\n",
            "Epoch 2/4\n",
            "614/614 [==============================] - 1s 2ms/step - loss: 0.2855 - accuracy: 0.8744\n",
            "Epoch 3/4\n",
            "614/614 [==============================] - 1s 2ms/step - loss: 0.2681 - accuracy: 0.8868\n",
            "Epoch 4/4\n",
            "614/614 [==============================] - 1s 2ms/step - loss: 0.2584 - accuracy: 0.8899\n"
          ]
        }
      ],
      "source": [
        "accuracy_validation = [None]*10\n",
        "count = 0\n",
        "for noOfNodes in range(10,20):\n",
        "    \n",
        "    classifier = Sequential()\n",
        "    # First Layer + Hidden Layer\n",
        "    classifier.add(Dense(noOfNodes, activation = 'relu', input_dim = 20))\n",
        "    \n",
        "    # Second Hidden Layer\n",
        "    classifier.add(Dense( noOfNodes, activation = 'relu'))\n",
        "\n",
        "    # Final Layer\n",
        "    classifier.add(Dense(1, activation = 'sigmoid'))\n",
        "    \n",
        "    classifier.compile(optimizer = 'adam', loss = 'binary_crossentropy', metrics = ['accuracy'])\n",
        "    classifier.fit(X_train, y_train.values, batch_size = 10, epochs = 4)\n",
        "    accuracy_validation[count]=np.round(accuracy_NN(classifier,X_test, y_test) * 100, 2)\n",
        "    count+=1"
      ]
    },
    {
      "cell_type": "code",
      "execution_count": null,
      "metadata": {
        "colab": {
          "base_uri": "https://localhost:8080/",
          "height": 312
        },
        "id": "q9UytRUrYjGN",
        "outputId": "d77a2ad8-3440-4e3b-e6fe-9ffc5738ec4c"
      },
      "outputs": [
        {
          "output_type": "execute_result",
          "data": {
            "text/plain": [
              "Text(0, 0.5, 'Accuracy on Validation Set')"
            ]
          },
          "metadata": {},
          "execution_count": 29
        },
        {
          "output_type": "display_data",
          "data": {
            "text/plain": [
              "<Figure size 432x288 with 1 Axes>"
            ],
            "image/png": "[encoded data removed]"
          },
          "metadata": {
            "needs_background": "light"
          }
        }
      ],
      "source": [
        "plt.ylim([0,100])\n",
        "plt.plot(range(20,30),accuracy_validation)\n",
        "plt.title(\"Accuracy vs No of nodes in hidden Layers\")\n",
        "plt.xlabel(\"No of nodes in Hidden Layers\")\n",
        "plt.ylabel(\"Accuracy on Validation Set\")\n"
      ]
    },
    {
      "cell_type": "markdown",
      "metadata": {
        "id": "VkfevhlPZBqM"
      },
      "source": [
        "No of layers according to our data set doesn't really change the accuracy\n",
        "We can go ahead with 10 number of Nodes"
      ]
    },
    {
      "cell_type": "markdown",
      "metadata": {
        "id": "WEtmkjT-ZJRf"
      },
      "source": [
        "3. Change Activation Function"
      ]
    },
    {
      "cell_type": "code",
      "execution_count": null,
      "metadata": {
        "id": "x6sBq1UYZLEQ",
        "colab": {
          "base_uri": "https://localhost:8080/"
        },
        "outputId": "ca6a115e-eeda-4897-a64d-fc8daf0db57a"
      },
      "outputs": [
        {
          "output_type": "stream",
          "name": "stdout",
          "text": [
            "Epoch 1/4\n",
            "614/614 [==============================] - 2s 2ms/step - loss: 1.1937 - accuracy: 0.7264\n",
            "Epoch 2/4\n",
            "614/614 [==============================] - 1s 2ms/step - loss: 0.4745 - accuracy: 0.7709\n",
            "Epoch 3/4\n",
            "614/614 [==============================] - 1s 2ms/step - loss: 0.3933 - accuracy: 0.8120\n",
            "Epoch 4/4\n",
            "614/614 [==============================] - 1s 2ms/step - loss: 0.3666 - accuracy: 0.8340\n",
            "Epoch 1/4\n",
            "614/614 [==============================] - 2s 2ms/step - loss: 0.4356 - accuracy: 0.7591\n",
            "Epoch 2/4\n",
            "614/614 [==============================] - 1s 2ms/step - loss: 0.3148 - accuracy: 0.8601\n",
            "Epoch 3/4\n",
            "614/614 [==============================] - 1s 2ms/step - loss: 0.2830 - accuracy: 0.8777\n",
            "Epoch 4/4\n",
            "614/614 [==============================] - 1s 2ms/step - loss: 0.2692 - accuracy: 0.8847\n",
            "Epoch 1/4\n",
            "614/614 [==============================] - 2s 2ms/step - loss: 1.1716 - accuracy: 0.7487\n",
            "Epoch 2/4\n",
            "614/614 [==============================] - 1s 2ms/step - loss: 0.3906 - accuracy: 0.8286\n",
            "Epoch 3/4\n",
            "614/614 [==============================] - 1s 2ms/step - loss: 0.3415 - accuracy: 0.8439\n",
            "Epoch 4/4\n",
            "614/614 [==============================] - 1s 2ms/step - loss: 0.3363 - accuracy: 0.8503\n"
          ]
        }
      ],
      "source": [
        "accuracy_validation = [None]*3\n",
        "count = 0\n",
        "activationFunc = ['relu','sigmoid','tanh']\n",
        "for activation_Func in range(len(activationFunc)):\n",
        "    \n",
        "    classifier = Sequential()\n",
        "\n",
        "    classifier.add(Dense(10, activation = 'relu', input_dim = 20))\n",
        "    \n",
        "    classifier.add(Dense(10,activation = 'relu'))\n",
        "\n",
        "    classifier.add(Dense(1, activation = activationFunc[activation_Func]))\n",
        "    \n",
        "    classifier.compile(optimizer = 'adam', loss = 'binary_crossentropy', metrics = ['accuracy'])\n",
        "    classifier.fit(X_train, y_train.values, batch_size = 10, epochs = 4)\n",
        "    accuracy_validation[count]=np.round(accuracy_NN(classifier,X_test, y_test) * 100, 2)\n",
        "    count+=1"
      ]
    },
    {
      "cell_type": "code",
      "execution_count": null,
      "metadata": {
        "colab": {
          "base_uri": "https://localhost:8080/",
          "height": 312
        },
        "id": "Qzqt8aLFZYPg",
        "outputId": "9284fcf3-75ff-4de5-e283-e5656803820a"
      },
      "outputs": [
        {
          "output_type": "execute_result",
          "data": {
            "text/plain": [
              "Text(0, 0.5, 'Accuracy on Validation Set')"
            ]
          },
          "metadata": {},
          "execution_count": 31
        },
        {
          "output_type": "display_data",
          "data": {
            "text/plain": [
              "<Figure size 432x288 with 1 Axes>"
            ],
            "image/png": "[encoded data removed]"
          },
          "metadata": {
            "needs_background": "light"
          }
        }
      ],
      "source": [
        "\n",
        "\n",
        "plt.ylim([0,100])\n",
        "plt.plot(activationFunc,accuracy_validation)\n",
        "plt.title(\"Accuracy vs Activation Function\")\n",
        "plt.xlabel(\"Activation Functions\")\n",
        "plt.ylabel(\"Accuracy on Validation Set\")\n",
        "\n"
      ]
    },
    {
      "cell_type": "markdown",
      "metadata": {
        "id": "naEkkM58Znkq"
      },
      "source": [
        "We will use sigmoid activation function"
      ]
    },
    {
      "cell_type": "markdown",
      "metadata": {
        "id": "qMscnVWZZuXn"
      },
      "source": [
        "4. Batch size for error back propagation"
      ]
    },
    {
      "cell_type": "code",
      "execution_count": null,
      "metadata": {
        "id": "wDh0dhjlZxyK",
        "colab": {
          "base_uri": "https://localhost:8080/"
        },
        "outputId": "b5ada6d7-ab74-4efb-fe11-52a5b7f286f8"
      },
      "outputs": [
        {
          "output_type": "stream",
          "name": "stdout",
          "text": [
            "Epoch 1/3\n",
            "1227/1227 [==============================] - 3s 2ms/step - loss: 0.8382 - accuracy: 0.7104\n",
            "Epoch 2/3\n",
            "1227/1227 [==============================] - 2s 2ms/step - loss: 0.4438 - accuracy: 0.8030\n",
            "Epoch 3/3\n",
            "1227/1227 [==============================] - 2s 2ms/step - loss: 0.3882 - accuracy: 0.8395\n",
            "Epoch 1/3\n",
            "1022/1022 [==============================] - 2s 2ms/step - loss: 0.8243 - accuracy: 0.6659\n",
            "Epoch 2/3\n",
            "1022/1022 [==============================] - 2s 2ms/step - loss: 0.4780 - accuracy: 0.7841\n",
            "Epoch 3/3\n",
            "1022/1022 [==============================] - 2s 2ms/step - loss: 0.4086 - accuracy: 0.8421\n",
            "Epoch 1/3\n",
            "876/876 [==============================] - 2s 2ms/step - loss: 0.5569 - accuracy: 0.8129\n",
            "Epoch 2/3\n",
            "876/876 [==============================] - 2s 2ms/step - loss: 0.3947 - accuracy: 0.8562\n",
            "Epoch 3/3\n",
            "876/876 [==============================] - 1s 2ms/step - loss: 0.4596 - accuracy: 0.8403\n",
            "Epoch 1/3\n",
            "767/767 [==============================] - 2s 2ms/step - loss: 1.5295 - accuracy: 0.7348\n",
            "Epoch 2/3\n",
            "767/767 [==============================] - 1s 2ms/step - loss: 0.4450 - accuracy: 0.7717\n",
            "Epoch 3/3\n",
            "767/767 [==============================] - 1s 2ms/step - loss: 0.3583 - accuracy: 0.8237\n",
            "Epoch 1/3\n",
            "682/682 [==============================] - 2s 2ms/step - loss: 3.2198 - accuracy: 0.7401\n",
            "Epoch 2/3\n",
            "682/682 [==============================] - 1s 2ms/step - loss: 1.1967 - accuracy: 0.7376\n",
            "Epoch 3/3\n",
            "682/682 [==============================] - 1s 2ms/step - loss: 0.4466 - accuracy: 0.7761\n",
            "Epoch 1/3\n",
            "614/614 [==============================] - 2s 2ms/step - loss: 2.2201 - accuracy: 0.7564\n",
            "Epoch 2/3\n",
            "614/614 [==============================] - 1s 2ms/step - loss: 1.0253 - accuracy: 0.8112\n",
            "Epoch 3/3\n",
            "614/614 [==============================] - 1s 2ms/step - loss: 0.4644 - accuracy: 0.8208\n",
            "Epoch 1/3\n",
            "558/558 [==============================] - 2s 2ms/step - loss: 1.8024 - accuracy: 0.7286\n",
            "Epoch 2/3\n",
            "558/558 [==============================] - 1s 2ms/step - loss: 0.4764 - accuracy: 0.7741\n",
            "Epoch 3/3\n",
            "558/558 [==============================] - 1s 2ms/step - loss: 0.4051 - accuracy: 0.8071\n",
            "Epoch 1/3\n",
            "511/511 [==============================] - 1s 2ms/step - loss: 3.9100 - accuracy: 0.7466\n",
            "Epoch 2/3\n",
            "511/511 [==============================] - 1s 2ms/step - loss: 3.9091 - accuracy: 0.7466\n",
            "Epoch 3/3\n",
            "511/511 [==============================] - 1s 2ms/step - loss: 3.9091 - accuracy: 0.7466\n",
            "Epoch 1/3\n",
            "472/472 [==============================] - 1s 2ms/step - loss: 2.4676 - accuracy: 0.7497\n",
            "Epoch 2/3\n",
            "472/472 [==============================] - 1s 2ms/step - loss: 0.6156 - accuracy: 0.7583\n",
            "Epoch 3/3\n",
            "472/472 [==============================] - 1s 2ms/step - loss: 0.4502 - accuracy: 0.7732\n",
            "Epoch 1/3\n",
            "438/438 [==============================] - 1s 2ms/step - loss: 1.5018 - accuracy: 0.7547\n",
            "Epoch 2/3\n",
            "438/438 [==============================] - 1s 2ms/step - loss: 0.4291 - accuracy: 0.8001\n",
            "Epoch 3/3\n",
            "438/438 [==============================] - 1s 2ms/step - loss: 0.3832 - accuracy: 0.8182\n"
          ]
        }
      ],
      "source": [
        "\n",
        "\n",
        "accuracy_validation = [None]*10\n",
        "count = 0\n",
        "for batchSize in range(5,15):\n",
        "    \n",
        "    classifier = Sequential()\n",
        "    classifier.add(Dense(10, activation = 'relu', input_dim = 20))\n",
        "    classifier.add(Dense(10, activation = 'relu'))\n",
        "\n",
        "    \n",
        "    # Final Layer\n",
        "    classifier.add(Dense(1, activation = 'relu'))\n",
        "    \n",
        "    classifier.compile(optimizer = 'adam', loss = 'binary_crossentropy', metrics = ['accuracy'])\n",
        "    classifier.fit(X_train, y_train.values, batch_size = batchSize, epochs = 3)\n",
        "    accuracy_validation[count]=np.round(accuracy_NN(classifier,X_test, y_test) * 100, 2)\n",
        "    count+=1\n",
        "\n"
      ]
    },
    {
      "cell_type": "code",
      "execution_count": null,
      "metadata": {
        "colab": {
          "base_uri": "https://localhost:8080/",
          "height": 312
        },
        "id": "kuJqJyrgZ7Wl",
        "outputId": "8edd957c-9fff-4a5b-87b3-1b66e9a0e84e"
      },
      "outputs": [
        {
          "output_type": "execute_result",
          "data": {
            "text/plain": [
              "Text(0, 0.5, 'Accuracy on Validation Set')"
            ]
          },
          "metadata": {},
          "execution_count": 33
        },
        {
          "output_type": "display_data",
          "data": {
            "text/plain": [
              "<Figure size 432x288 with 1 Axes>"
            ],
            "image/png": "[encoded data removed]"
          },
          "metadata": {
            "needs_background": "light"
          }
        }
      ],
      "source": [
        "\n",
        "\n",
        "plt.ylim([0,100])\n",
        "plt.plot(range(5,15),accuracy_validation)\n",
        "plt.title(\"Accuracy vs Batch Size\")\n",
        "plt.xlabel(\"Batch Size\")\n",
        "plt.ylabel(\"Accuracy on Validation Set\")\n",
        "\n"
      ]
    },
    {
      "cell_type": "markdown",
      "metadata": {
        "id": "REQ6I86NaYF3"
      },
      "source": [
        "Batch Size is good for 8"
      ]
    },
    {
      "cell_type": "markdown",
      "metadata": {
        "id": "uTb6bzRbamnR"
      },
      "source": [
        "FINAL ANN"
      ]
    },
    {
      "cell_type": "code",
      "execution_count": null,
      "metadata": {
        "colab": {
          "base_uri": "https://localhost:8080/"
        },
        "id": "HH2oMThKanbp",
        "outputId": "8db7833a-c74b-4d03-8c2a-1427832f25ff"
      },
      "outputs": [
        {
          "output_type": "stream",
          "name": "stdout",
          "text": [
            "Epoch 1/20\n",
            "767/767 [==============================] - 3s 2ms/step - loss: 0.4384 - accuracy: 0.8299\n",
            "Epoch 2/20\n",
            "767/767 [==============================] - 1s 2ms/step - loss: 0.3104 - accuracy: 0.8718\n",
            "Epoch 3/20\n",
            "767/767 [==============================] - 2s 2ms/step - loss: 0.2918 - accuracy: 0.8790\n",
            "Epoch 4/20\n",
            "767/767 [==============================] - 2s 2ms/step - loss: 0.2793 - accuracy: 0.8821\n",
            "Epoch 5/20\n",
            "767/767 [==============================] - 2s 2ms/step - loss: 0.2697 - accuracy: 0.8857\n",
            "Epoch 6/20\n",
            "767/767 [==============================] - 2s 2ms/step - loss: 0.2615 - accuracy: 0.8865\n",
            "Epoch 7/20\n",
            "767/767 [==============================] - 1s 2ms/step - loss: 0.2549 - accuracy: 0.8920\n",
            "Epoch 8/20\n",
            "767/767 [==============================] - 2s 2ms/step - loss: 0.2507 - accuracy: 0.8901\n",
            "Epoch 9/20\n",
            "767/767 [==============================] - 2s 2ms/step - loss: 0.2445 - accuracy: 0.8922\n",
            "Epoch 10/20\n",
            "767/767 [==============================] - 2s 2ms/step - loss: 0.2406 - accuracy: 0.8933\n",
            "Epoch 11/20\n",
            "767/767 [==============================] - 2s 2ms/step - loss: 0.2364 - accuracy: 0.8977\n",
            "Epoch 12/20\n",
            "767/767 [==============================] - 2s 2ms/step - loss: 0.2320 - accuracy: 0.8968\n",
            "Epoch 13/20\n",
            "767/767 [==============================] - 2s 2ms/step - loss: 0.2291 - accuracy: 0.8994\n",
            "Epoch 14/20\n",
            "767/767 [==============================] - 1s 2ms/step - loss: 0.2258 - accuracy: 0.9010\n",
            "Epoch 15/20\n",
            "767/767 [==============================] - 1s 2ms/step - loss: 0.2231 - accuracy: 0.9057\n",
            "Epoch 16/20\n",
            "767/767 [==============================] - 2s 2ms/step - loss: 0.2209 - accuracy: 0.9054\n",
            "Epoch 17/20\n",
            "767/767 [==============================] - 2s 2ms/step - loss: 0.2186 - accuracy: 0.9077\n",
            "Epoch 18/20\n",
            "767/767 [==============================] - 2s 2ms/step - loss: 0.2168 - accuracy: 0.9053\n",
            "Epoch 19/20\n",
            "767/767 [==============================] - 2s 2ms/step - loss: 0.2111 - accuracy: 0.9097\n",
            "Epoch 20/20\n",
            "767/767 [==============================] - 1s 2ms/step - loss: 0.2119 - accuracy: 0.9067\n"
          ]
        },
        {
          "output_type": "execute_result",
          "data": {
            "text/plain": [
              "<keras.callbacks.History at 0x7f48bec5e250>"
            ]
          },
          "metadata": {},
          "execution_count": 34
        }
      ],
      "source": [
        "# Adding the input layer and the first hidden layer\n",
        "classifier.add(Dense(10, activation = 'relu', input_dim = 20))\n",
        "\n",
        "# Adding the second hidden layer\n",
        "classifier.add(Dense(10, activation = 'relu'))\n",
        "\n",
        "# Adding the output layer\n",
        "classifier.add(Dense(1, activation = 'sigmoid'))\n",
        "\n",
        "# Compiling the ANN\n",
        "classifier.compile(optimizer = 'adam', loss = 'binary_crossentropy', metrics = ['accuracy'])\n",
        "\n",
        "# Fitting the ANN to the Training set\n",
        "classifier.fit(X_train, y_train.values, batch_size = 8, epochs = 20)"
      ]
    },
    {
      "cell_type": "code",
      "execution_count": null,
      "metadata": {
        "colab": {
          "base_uri": "https://localhost:8080/"
        },
        "id": "4a5zmNZNau88",
        "outputId": "4261e2ea-a543-40d7-c82d-148b68b73bc8"
      },
      "outputs": [
        {
          "output_type": "stream",
          "name": "stdout",
          "text": [
            "Train accuracy = 91.45%\n",
            "Test accuracy = 90.94%\n"
          ]
        }
      ],
      "source": [
        "print('Train accuracy = {0}%'.format(np.round(accuracy_NN(classifier,X_train, y_train) * 100, 2)))\n",
        "print('Test accuracy = {0}%'.format(np.round(accuracy_NN(classifier,X_test, y_test) * 100, 2)))\n",
        "\n"
      ]
    },
    {
      "cell_type": "markdown",
      "metadata": {
        "id": "DW4gVMf3ebSb"
      },
      "source": [
        "USING GRIDSEARCHCV ON THE MODELS"
      ]
    },
    {
      "cell_type": "markdown",
      "metadata": {
        "id": "xkp_L_asenVo"
      },
      "source": [
        "1. Hyperparameters: Batch size and # of Epochs"
      ]
    },
    {
      "cell_type": "code",
      "execution_count": null,
      "metadata": {
        "id": "5XSwVk_Ye6nw"
      },
      "outputs": [],
      "source": [
        "\n",
        "from sklearn.model_selection import GridSearchCV\n",
        "from sklearn.metrics import accuracy_score, confusion_matrix, plot_roc_curve\n",
        "from keras.layers import Dropout\n",
        "from keras.wrappers.scikit_learn import KerasClassifier\n",
        "#from keras.optimizers import SGD\n",
        "from keras.constraints import maxnorm\n",
        "from warnings import filterwarnings"
      ]
    },
    {
      "cell_type": "code",
      "execution_count": null,
      "metadata": {
        "id": "OrsCn0i-fOlm"
      },
      "outputs": [],
      "source": [
        "c_train = c[X.index.isin(X_train.index)]\n",
        "c_test = c[~X.index.isin(X_train.index)]\n",
        "bike_df[\"Rented_Bike_Count_Value\"]"
      ]
    },
    {
      "cell_type": "code",
      "execution_count": null,
      "metadata": {
        "id": "WQtxWy4eee79"
      },
      "outputs": [],
      "source": [
        "\n",
        "\n",
        "def model_1():\n",
        "    model = Sequential()\n",
        "    #model.add(Input(shape = (40, )))\n",
        "    model.add(Dense(10, activation = 'sigmoid'))\n",
        "    model.add(Dense(1, activation = 'sigmoid'))\n",
        "    model.compile(loss = 'binary_crossentropy', optimizer = 'sgd', metrics = ['accuracy'])\n",
        "    return model\n",
        "\n"
      ]
    },
    {
      "cell_type": "code",
      "execution_count": null,
      "metadata": {
        "id": "NRidB-ySesrF"
      },
      "outputs": [],
      "source": [
        "nnc1_model = KerasClassifier(build_fn = model_1, verbose = 0)\n",
        "\n",
        "nnc1_batch_size_arr = [10, 20, 50]\n",
        "nnc1_epoch_arr = [10, 50, 100]\n",
        "\n",
        "nnc1 = GridSearchCV(estimator = nnc1_model, \n",
        "                    param_grid = {'batch_size' : nnc1_batch_size_arr, \n",
        "                                  'epochs' : nnc1_epoch_arr}, \n",
        "                    n_jobs = -1, cv = 5, return_train_score = True)\n",
        "\n",
        "nnc1.fit(X_train.values, y_train.values.ravel())\n",
        "\n",
        "nnc1_df = pd.DataFrame(nnc1.cv_results_)"
      ]
    },
    {
      "cell_type": "code",
      "execution_count": null,
      "metadata": {
        "colab": {
          "base_uri": "https://localhost:8080/",
          "height": 382
        },
        "id": "TrFGfWJEezG-",
        "outputId": "e909b77d-0654-4c0a-dfff-0efdfd284d74"
      },
      "outputs": [
        {
          "output_type": "stream",
          "name": "stdout",
          "text": [
            "Best Parameters: {'batch_size': 10, 'epochs': 100}\n",
            "Best Cross-Validation Accuracy: 0.89\n"
          ]
        },
        {
          "output_type": "display_data",
          "data": {
            "text/plain": [
              "<Figure size 432x288 with 1 Axes>"
            ],
            "image/png": "[encoded data removed]"
          },
          "metadata": {
            "needs_background": "light"
          }
        },
        {
          "output_type": "stream",
          "name": "stdout",
          "text": [
            "Accuracy: 0.90\n",
            "Sensitivity: 0.76\n",
            "Specificity: 0.94\n"
          ]
        }
      ],
      "source": [
        "import seaborn as sns\n",
        "print('Best Parameters: {}'.format(nnc1.best_params_))\n",
        "print('Best Cross-Validation Accuracy: {:.2f}'.format(nnc1.best_score_))\n",
        "\n",
        "pred_nnc1 = nnc1.predict(X_test)\n",
        "\n",
        "# plot_roc_curve(nnc1, X_test, c_test)\n",
        "# plt.title('ROC Curve')\n",
        "# plt.show()\n",
        "\n",
        "cm_nnc1 = confusion_matrix(y_test, pred_nnc1)\n",
        "tn, fp, fn, tp = cm_nnc1.ravel()\n",
        "\n",
        "ax = sns.heatmap(cm_nnc1.T, square = True, annot = True, fmt = 'd', cbar = False, cmap = 'Greens')\n",
        "ax.set(xlabel = 'Actual', ylabel = 'Predicted', title = 'Confusion Matrix')\n",
        "plt.show()\n",
        "\n",
        "print('Accuracy: {:.2f}'.format(accuracy_score(y_test, pred_nnc1)))\n",
        "print('Sensitivity: {:.2f}'.format(tp / (tp + fn)))\n",
        "print('Specificity: {:.2f}'.format(tn / (tn + fp)))"
      ]
    },
    {
      "cell_type": "markdown",
      "metadata": {
        "id": "7jcFcuu41RBu"
      },
      "source": [
        "2. Activation Function of the 1st hidden layer nodes"
      ]
    },
    {
      "cell_type": "code",
      "execution_count": null,
      "metadata": {
        "id": "-qehgzma1QA6"
      },
      "outputs": [],
      "source": [
        "def model_2(activation = 'sigmoid'):\n",
        "    model = Sequential()\n",
        "    model.add(Dense(10, activation = activation))\n",
        "    model.add(Dense(1, activation = 'sigmoid'))\n",
        "    model.compile(loss = 'binary_crossentropy', optimizer = 'sgd', metrics = ['accuracy'])\n",
        "    return model"
      ]
    },
    {
      "cell_type": "code",
      "execution_count": null,
      "metadata": {
        "id": "a_5Ogj3v1Zc2"
      },
      "outputs": [],
      "source": [
        "nnc2_model = KerasClassifier(build_fn = model_2, batch_size = 10, epochs = 100, verbose = 0)\n",
        "\n",
        "nnc2_activation_arr = ['linear', 'relu', 'sigmoid', 'tanh']\n",
        "\n",
        "nnc2 = GridSearchCV(estimator = nnc2_model, \n",
        "                    param_grid = {'activation' : nnc2_activation_arr}, \n",
        "                    n_jobs = -1, cv = 5, return_train_score = True)\n",
        "\n",
        "nnc2.fit(X_train.values, y_train.values.ravel())\n",
        "\n",
        "nnc2_df = pd.DataFrame(nnc2.cv_results_)"
      ]
    },
    {
      "cell_type": "code",
      "execution_count": null,
      "metadata": {
        "id": "4fEXpP-K1tk7",
        "colab": {
          "base_uri": "https://localhost:8080/",
          "height": 175
        },
        "outputId": "781ef2be-b935-4ba2-99fe-23391b0dd998"
      },
      "outputs": [
        {
          "output_type": "execute_result",
          "data": {
            "text/plain": [
              "  param_activation  mean_train_score  mean_test_score\n",
              "0           linear          0.859141         0.855839\n",
              "1             relu          0.905740         0.895464\n",
              "2          sigmoid          0.889799         0.885846\n",
              "3             tanh          0.908676         0.902804"
            ],
            "text/html": [
              "\n",
              "  <div id=\"df-2a7ab446-2642-4af0-8098-13d12460bec9\">\n",
              "    <div class=\"colab-df-container\">\n",
              "      <div>\n",
              "<style scoped>\n",
              "    .dataframe tbody tr th:only-of-type {\n",
              "        vertical-align: middle;\n",
              "    }\n",
              "\n",
              "    .dataframe tbody tr th {\n",
              "        vertical-align: top;\n",
              "    }\n",
              "\n",
              "    .dataframe thead th {\n",
              "        text-align: right;\n",
              "    }\n",
              "</style>\n",
              "<table border=\"1\" class=\"dataframe\">\n",
              "  <thead>\n",
              "    <tr style=\"text-align: right;\">\n",
              "      <th></th>\n",
              "      <th>param_activation</th>\n",
              "      <th>mean_train_score</th>\n",
              "      <th>mean_test_score</th>\n",
              "    </tr>\n",
              "  </thead>\n",
              "  <tbody>\n",
              "    <tr>\n",
              "      <th>0</th>\n",
              "      <td>linear</td>\n",
              "      <td>0.859141</td>\n",
              "      <td>0.855839</td>\n",
              "    </tr>\n",
              "    <tr>\n",
              "      <th>1</th>\n",
              "      <td>relu</td>\n",
              "      <td>0.905740</td>\n",
              "      <td>0.895464</td>\n",
              "    </tr>\n",
              "    <tr>\n",
              "      <th>2</th>\n",
              "      <td>sigmoid</td>\n",
              "      <td>0.889799</td>\n",
              "      <td>0.885846</td>\n",
              "    </tr>\n",
              "    <tr>\n",
              "      <th>3</th>\n",
              "      <td>tanh</td>\n",
              "      <td>0.908676</td>\n",
              "      <td>0.902804</td>\n",
              "    </tr>\n",
              "  </tbody>\n",
              "</table>\n",
              "</div>\n",
              "      <button class=\"colab-df-convert\" onclick=\"convertToInteractive('df-2a7ab446-2642-4af0-8098-13d12460bec9')\"\n",
              "              title=\"Convert this dataframe to an interactive table.\"\n",
              "              style=\"display:none;\">\n",
              "        \n",
              "  <svg xmlns=\"http://www.w3.org/2000/svg\" height=\"24px\"viewBox=\"0 0 24 24\"\n",
              "       width=\"24px\">\n",
              "    <path d=\"M0 0h24v24H0V0z\" fill=\"none\"/>\n",
              "    <path d=\"M18.56 5.44l.94 2.06.94-2.06 2.06-.94-2.06-.94-.94-2.06-.94 2.06-2.06.94zm-11 1L8.5 8.5l.94-2.06 2.06-.94-2.06-.94L8.5 2.5l-.94 2.06-2.06.94zm10 10l.94 2.06.94-2.06 2.06-.94-2.06-.94-.94-2.06-.94 2.06-2.06.94z\"/><path d=\"M17.41 7.96l-1.37-1.37c-.4-.4-.92-.59-1.43-.59-.52 0-1.04.2-1.43.59L10.3 9.45l-7.72 7.72c-.78.78-.78 2.05 0 2.83L4 21.41c.39.39.9.59 1.41.59.51 0 1.02-.2 1.41-.59l7.78-7.78 2.81-2.81c.8-.78.8-2.07 0-2.86zM5.41 20L4 18.59l7.72-7.72 1.47 1.35L5.41 20z\"/>\n",
              "  </svg>\n",
              "      </button>\n",
              "      \n",
              "  <style>\n",
              "    .colab-df-container {\n",
              "      display:flex;\n",
              "      flex-wrap:wrap;\n",
              "      gap: 12px;\n",
              "    }\n",
              "\n",
              "    .colab-df-convert {\n",
              "      background-color: #E8F0FE;\n",
              "      border: none;\n",
              "      border-radius: 50%;\n",
              "      cursor: pointer;\n",
              "      display: none;\n",
              "      fill: #1967D2;\n",
              "      height: 32px;\n",
              "      padding: 0 0 0 0;\n",
              "      width: 32px;\n",
              "    }\n",
              "\n",
              "    .colab-df-convert:hover {\n",
              "      background-color: #E2EBFA;\n",
              "      box-shadow: 0px 1px 2px rgba(60, 64, 67, 0.3), 0px 1px 3px 1px rgba(60, 64, 67, 0.15);\n",
              "      fill: #174EA6;\n",
              "    }\n",
              "\n",
              "    [theme=dark] .colab-df-convert {\n",
              "      background-color: #3B4455;\n",
              "      fill: #D2E3FC;\n",
              "    }\n",
              "\n",
              "    [theme=dark] .colab-df-convert:hover {\n",
              "      background-color: #434B5C;\n",
              "      box-shadow: 0px 1px 3px 1px rgba(0, 0, 0, 0.15);\n",
              "      filter: drop-shadow(0px 1px 2px rgba(0, 0, 0, 0.3));\n",
              "      fill: #FFFFFF;\n",
              "    }\n",
              "  </style>\n",
              "\n",
              "      <script>\n",
              "        const buttonEl =\n",
              "          document.querySelector('#df-2a7ab446-2642-4af0-8098-13d12460bec9 button.colab-df-convert');\n",
              "        buttonEl.style.display =\n",
              "          google.colab.kernel.accessAllowed ? 'block' : 'none';\n",
              "\n",
              "        async function convertToInteractive(key) {\n",
              "          const element = document.querySelector('#df-2a7ab446-2642-4af0-8098-13d12460bec9');\n",
              "          const dataTable =\n",
              "            await google.colab.kernel.invokeFunction('convertToInteractive',\n",
              "                                                     [key], {});\n",
              "          if (!dataTable) return;\n",
              "\n",
              "          const docLinkHtml = 'Like what you see? Visit the ' +\n",
              "            '<a target=\"_blank\" href=https://colab.research.google.com/notebooks/data_table.ipynb>data table notebook</a>'\n",
              "            + ' to learn more about interactive tables.';\n",
              "          element.innerHTML = '';\n",
              "          dataTable['output_type'] = 'display_data';\n",
              "          await google.colab.output.renderOutput(dataTable, element);\n",
              "          const docLink = document.createElement('div');\n",
              "          docLink.innerHTML = docLinkHtml;\n",
              "          element.appendChild(docLink);\n",
              "        }\n",
              "      </script>\n",
              "    </div>\n",
              "  </div>\n",
              "  "
            ]
          },
          "metadata": {},
          "execution_count": 51
        }
      ],
      "source": [
        "nnc2_df[['param_activation', 'mean_train_score', 'mean_test_score']]"
      ]
    },
    {
      "cell_type": "code",
      "execution_count": null,
      "metadata": {
        "id": "i64Kz0_614KO",
        "colab": {
          "base_uri": "https://localhost:8080/",
          "height": 382
        },
        "outputId": "4b86a101-e219-4edd-949d-33309a667f92"
      },
      "outputs": [
        {
          "output_type": "stream",
          "name": "stdout",
          "text": [
            "Best Parameters: {'activation': 'tanh'}\n",
            "Best Cross-Validation Accuracy: 0.90\n"
          ]
        },
        {
          "output_type": "display_data",
          "data": {
            "text/plain": [
              "<Figure size 432x288 with 1 Axes>"
            ],
            "image/png": "[encoded data removed]"
          },
          "metadata": {
            "needs_background": "light"
          }
        },
        {
          "output_type": "stream",
          "name": "stdout",
          "text": [
            "Accuracy: 0.91\n",
            "Sensitivity: 0.77\n",
            "Specificity: 0.96\n"
          ]
        }
      ],
      "source": [
        "print('Best Parameters: {}'.format(nnc2.best_params_))\n",
        "print('Best Cross-Validation Accuracy: {:.2f}'.format(nnc2.best_score_))\n",
        "\n",
        "pred_nnc2 = nnc2.predict(X_test)\n",
        "\n",
        "# plot_roc_curve(nnc2, X_test, c_test)\n",
        "# plt.title('ROC Curve')\n",
        "# plt.show()\n",
        "\n",
        "cm_nnc2 = confusion_matrix(y_test, pred_nnc2)\n",
        "tn, fp, fn, tp = cm_nnc2.ravel()\n",
        "\n",
        "ax = sns.heatmap(cm_nnc2.T, square = True, annot = True, fmt = 'd', cbar = False, cmap = 'Greens')\n",
        "ax.set(xlabel = 'Actual', ylabel = 'Predicted', title = 'Confusion Matrix')\n",
        "plt.show()\n",
        "\n",
        "print('Accuracy: {:.2f}'.format(accuracy_score(y_test, pred_nnc2)))\n",
        "print('Sensitivity: {:.2f}'.format(tp / (tp + fn)))\n",
        "print('Specificity: {:.2f}'.format(tn / (tn + fp)))"
      ]
    },
    {
      "cell_type": "markdown",
      "metadata": {
        "id": "GSeBiRiY18qs"
      },
      "source": [
        "3.Learning Rate and Momentum of the 1st hidden layer nodes"
      ]
    },
    {
      "cell_type": "code",
      "execution_count": null,
      "metadata": {
        "id": "NLC6gaiX1-uK"
      },
      "outputs": [],
      "source": [
        "def model_3(learn_rate = 0.01, momentum = 0.0):\n",
        "    model = Sequential()\n",
        "    model.add(Dense(10, activation = 'relu'))\n",
        "    model.add(Dense(1, activation = 'sigmoid'))\n",
        "    optimizer = keras.optimizers.SGD(lr = learn_rate, momentum = momentum)\n",
        "    model.compile(loss = 'binary_crossentropy', optimizer = optimizer, metrics = ['accuracy'])\n",
        "    return model"
      ]
    },
    {
      "cell_type": "code",
      "execution_count": null,
      "metadata": {
        "id": "piTETT0m2MZ-"
      },
      "outputs": [],
      "source": [
        "nnc3_model = KerasClassifier(build_fn = model_3, batch_size = 10, epochs = 100, verbose = 0)\n",
        "\n",
        "nnc3_learn_rate_arr = [0.001, 0.01, 0.1, 0.2, 0.5]\n",
        "nnc3_momentum_arr = [0.0, 0.1, 0.2, 0.5, 0.9]\n",
        " \n",
        "nnc3 = GridSearchCV(estimator = nnc3_model, \n",
        "                    param_grid = {'learn_rate' : nnc3_learn_rate_arr,\n",
        "                                  'momentum' : nnc3_momentum_arr}, \n",
        "                    n_jobs = -1, cv = 5, return_train_score = True)\n",
        "\n",
        "nnc3.fit(X_train.values, y_train.values.ravel())\n",
        "\n",
        "nnc3_df = pd.DataFrame(nnc3.cv_results_)"
      ]
    },
    {
      "cell_type": "code",
      "execution_count": null,
      "metadata": {
        "id": "EFCIRjMR2VDz",
        "colab": {
          "base_uri": "https://localhost:8080/",
          "height": 235
        },
        "outputId": "5874c130-3a97-4873-b847-46b3b0aa0686"
      },
      "outputs": [
        {
          "output_type": "error",
          "ename": "NameError",
          "evalue": "ignored",
          "traceback": [
            "\u001b[0;31m---------------------------------------------------------------------------\u001b[0m",
            "\u001b[0;31mNameError\u001b[0m                                 Traceback (most recent call last)",
            "\u001b[0;32m<ipython-input-62-133269ded376>\u001b[0m in \u001b[0;36m<module>\u001b[0;34m()\u001b[0m\n\u001b[1;32m      1\u001b[0m \u001b[0mjnnc3_train_err_mat\u001b[0m \u001b[0;34m=\u001b[0m \u001b[0;34m(\u001b[0m\u001b[0;36m1\u001b[0m \u001b[0;34m-\u001b[0m \u001b[0mnnc3_df\u001b[0m\u001b[0;34m[\u001b[0m\u001b[0;34m'mean_train_score'\u001b[0m\u001b[0;34m]\u001b[0m\u001b[0;34m)\u001b[0m\u001b[0;34m.\u001b[0m\u001b[0mvalues\u001b[0m\u001b[0;34m.\u001b[0m\u001b[0mreshape\u001b[0m\u001b[0;34m(\u001b[0m\u001b[0mlen\u001b[0m\u001b[0;34m(\u001b[0m\u001b[0mnnc3_learn_rate_arr\u001b[0m\u001b[0;34m)\u001b[0m\u001b[0;34m,\u001b[0m \u001b[0mlen\u001b[0m\u001b[0;34m(\u001b[0m\u001b[0mnnc3_momentum_arr\u001b[0m\u001b[0;34m)\u001b[0m\u001b[0;34m)\u001b[0m\u001b[0;34m\u001b[0m\u001b[0;34m\u001b[0m\u001b[0m\n\u001b[0;32m----> 2\u001b[0;31m ax = sns.heatmap(pd.DataFrame(nnc3_train_err_mat, columns = nnc3_momentum_arr, index = nnc3_learn_rate_arr).iloc[::-1], \n\u001b[0m\u001b[1;32m      3\u001b[0m                  annot = True, cmap = 'Greens_r')\n\u001b[1;32m      4\u001b[0m \u001b[0max\u001b[0m\u001b[0;34m.\u001b[0m\u001b[0mset\u001b[0m\u001b[0;34m(\u001b[0m\u001b[0mxlabel\u001b[0m \u001b[0;34m=\u001b[0m \u001b[0;34m'Momentum'\u001b[0m\u001b[0;34m,\u001b[0m \u001b[0mylabel\u001b[0m \u001b[0;34m=\u001b[0m \u001b[0;34m'Learning Rate'\u001b[0m\u001b[0;34m,\u001b[0m \u001b[0mtitle\u001b[0m \u001b[0;34m=\u001b[0m \u001b[0;34m'Train Error Rate vs Tuning Parameters'\u001b[0m\u001b[0;34m)\u001b[0m\u001b[0;34m\u001b[0m\u001b[0;34m\u001b[0m\u001b[0m\n\u001b[1;32m      5\u001b[0m \u001b[0mplt\u001b[0m\u001b[0;34m.\u001b[0m\u001b[0mshow\u001b[0m\u001b[0;34m(\u001b[0m\u001b[0;34m)\u001b[0m\u001b[0;34m\u001b[0m\u001b[0;34m\u001b[0m\u001b[0m\n",
            "\u001b[0;31mNameError\u001b[0m: name 'nnc3_train_err_mat' is not defined"
          ]
        }
      ],
      "source": [
        "jnnc3_train_err_mat = (1 - nnc3_df['mean_train_score']).values.reshape(len(nnc3_learn_rate_arr), len(nnc3_momentum_arr))\n",
        "ax = sns.heatmap(pd.DataFrame(nnc3_train_err_mat, columns = nnc3_momentum_arr, index = nnc3_learn_rate_arr).iloc[::-1], \n",
        "                 annot = True, cmap = 'Greens_r')\n",
        "ax.set(xlabel = 'Momentum', ylabel = 'Learning Rate', title = 'Train Error Rate vs Tuning Parameters')\n",
        "plt.show()\n",
        "\n",
        "nnc3_cv_err_mat = (1 - nnc3_df['mean_test_score']).values.reshape(len(nnc3_learn_rate_arr), len(nnc3_momentum_arr))\n",
        "ax = sns.heatmap(pd.DataFrame(nnc3_cv_err_mat, columns = nnc3_momentum_arr, index = nnc3_learn_rate_arr).iloc[::-1], \n",
        "                 annot = True, cmap = 'Greens_r')\n",
        "ax.set(xlabel = 'Momentum', ylabel = 'Learning Rate', title = 'CV Error Rate vs Tuning Parameters')\n",
        "plt.show()"
      ]
    },
    {
      "cell_type": "code",
      "execution_count": null,
      "metadata": {
        "id": "47PNYT8k2ciB"
      },
      "outputs": [],
      "source": [
        "\n",
        "\n",
        "print('Best Parameters: {}'.format(nnc3.best_params_))\n",
        "print('Best Cross-Validation Accuracy: {:.2f}'.format(nnc3.best_score_))\n",
        "\n",
        "pred_nnc3 = nnc3.predict(X_test)\n",
        "\n",
        "# plot_roc_curve(nnc3, X_test, c_test)\n",
        "# plt.title('ROC Curve')\n",
        "# plt.show()\n",
        "\n",
        "cm_nnc3 = confusion_matrix(y_test, pred_nnc3)\n",
        "tn, fp, fn, tp = cm_nnc3.ravel()\n",
        "\n",
        "ax = sns.heatmap(cm_nnc3.T, square = True, annot = True, fmt = 'd', cbar = False, cmap = 'Greens')\n",
        "ax.set(xlabel = 'Actual', ylabel = 'Predicted', title = 'Confusion Matrix')\n",
        "plt.show()\n",
        "\n",
        "print('Accuracy: {:.2f}'.format(accuracy_score(c_test, pred_nnc3)))\n",
        "print('Sensitivity: {:.2f}'.format(tp / (tp + fn)))\n",
        "print('Specificity: {:.2f}'.format(tn / (tn + fp)))\n",
        "\n"
      ]
    },
    {
      "cell_type": "markdown",
      "metadata": {
        "id": "_KceiSAo2pJW"
      },
      "source": [
        "4.Drop-out Rate and Weight Constraint of the 1st hidden layer nodes"
      ]
    },
    {
      "cell_type": "code",
      "execution_count": null,
      "metadata": {
        "id": "_R11S3CP2w9t"
      },
      "outputs": [],
      "source": [
        "def model_4(dropout_rate = 0.0, weight_constraint = 0):\n",
        "    model = Sequential()\n",
        "    model.add(Dense(10, activation = 'relu', kernel_constraint = maxnorm(weight_constraint)))\n",
        "    model.add(Dropout(dropout_rate))\n",
        "    model.add(Dense(1, activation = 'sigmoid'))\n",
        "    optimizer = keras.optimizers.SGD(lr = 0.01, momentum = 0.9)\n",
        "    model.compile(loss = 'binary_crossentropy', optimizer = optimizer, metrics= ['accuracy'])\n",
        "    return model"
      ]
    },
    {
      "cell_type": "code",
      "execution_count": null,
      "metadata": {
        "id": "o9JpBIc023yh"
      },
      "outputs": [],
      "source": [
        "nnc4_model = KerasClassifier(build_fn = model_4, batch_size = 10, epochs = 100, verbose = 0)\n",
        "\n",
        "nnc4_wgt_constraint_arr = [0, 1, 2, 3, 4, 5]\n",
        "nnc4_dropout_rate_arr = [0.0, 0.1, 0.2, 0.5, 0.9]\n",
        "\n",
        "nnc4 = GridSearchCV(estimator = nnc4_model, \n",
        "                    param_grid = {'weight_constraint' : nnc4_wgt_constraint_arr,\n",
        "                                  'dropout_rate' : nnc4_dropout_rate_arr}, \n",
        "                    n_jobs = -1, cv = 5, return_train_score = True)\n",
        "\n",
        "nnc4.fit(X_train.values, y_train.values.ravel())\n",
        "\n",
        "nnc4_df = pd.DataFrame(nnc4.cv_results_)"
      ]
    },
    {
      "cell_type": "code",
      "execution_count": null,
      "metadata": {
        "id": "2OUIVKHC26uf"
      },
      "outputs": [],
      "source": [
        "nnc4_train_err_mat = (1 - nnc4_df['mean_train_score']).values.reshape(len(nnc4_wgt_constraint_arr), \n",
        "                                                                      len(nnc4_dropout_rate_arr))\n",
        "ax = sns.heatmap(pd.DataFrame(nnc4_train_err_mat, columns = nnc4_dropout_rate_arr, \n",
        "                              index = nnc4_wgt_constraint_arr).iloc[::-1], annot = True, cmap = 'Greens_r')\n",
        "ax.set(xlabel = 'Drop-out Rate', ylabel = 'Max Norm Weight', title = 'Train Error Rate vs Tuning Parameters')\n",
        "plt.show()\n",
        "\n",
        "nnc4_cv_err_mat = (1 - nnc4_df['mean_test_score']).values.reshape(len(nnc4_wgt_constraint_arr), len(nnc4_dropout_rate_arr))\n",
        "ax = sns.heatmap(pd.DataFrame(nnc4_cv_err_mat, columns = nnc4_dropout_rate_arr, \n",
        "                              index = nnc4_wgt_constraint_arr).iloc[::-1], annot = True, cmap = 'Greens_r')\n",
        "ax.set(xlabel = 'Drop-out Rate', ylabel = 'Max Norm Weight', title = 'CV Error Rate vs Tuning Parameters')\n",
        "plt.show()"
      ]
    },
    {
      "cell_type": "code",
      "execution_count": null,
      "metadata": {
        "id": "zCrLFj8p3DXq"
      },
      "outputs": [],
      "source": [
        "print('Best Parameters: {}'.format(nnc4.best_params_))\n",
        "print('Best Cross-Validation Accuracy: {:.2f}'.format(nnc4.best_score_))\n",
        "\n",
        "pred_nnc4 = nnc4.predict(X_test)\n",
        "\n",
        "# plot_roc_curve(nnc4, X_test, c_test)\n",
        "# plt.title('ROC Curve')\n",
        "# plt.show()\n",
        "\n",
        "cm_nnc4 = confusion_matrix(y_test, pred_nnc4)\n",
        "tn, fp, fn, tp = cm_nnc4.ravel()\n",
        "\n",
        "ax = sns.heatmap(cm_nnc4.T, square = True, annot = True, fmt = 'd', cbar = False, cmap = 'Greens')\n",
        "ax.set(xlabel = 'Actual', ylabel = 'Predicted', title = 'Confusion Matrix')\n",
        "plt.show()\n",
        "\n",
        "print('Accuracy: {:.2f}'.format(accuracy_score(y_test, pred_nnc4)))\n",
        "print('Sensitivity: {:.2f}'.format(tp / (tp + fn)))\n",
        "print('Specificity: {:.2f}'.format(tn / (tn + fp)))"
      ]
    },
    {
      "cell_type": "markdown",
      "metadata": {
        "id": "TNJNym9V3JGj"
      },
      "source": [
        "5. NO Of Neurons in First Hidden Layer"
      ]
    },
    {
      "cell_type": "code",
      "execution_count": null,
      "metadata": {
        "id": "JSZMvDdZ3MMG"
      },
      "outputs": [],
      "source": [
        "def model_5(neurons = 0):\n",
        "    model = Sequential()\n",
        "    model.add(Dense(neurons, activation = 'relu', kernel_constraint = maxnorm(3)))\n",
        "    model.add(Dropout(0.1))\n",
        "    model.add(Dense(1, activation = 'sigmoid'))\n",
        "    optimizer = keras.optimizers.SGD(lr = 0.01, momentum = 0.9)\n",
        "    model.compile(loss = 'binary_crossentropy', optimizer = optimizer, metrics= ['accuracy'])\n",
        "    return model"
      ]
    },
    {
      "cell_type": "code",
      "execution_count": null,
      "metadata": {
        "id": "p1QPgrzd3SWX"
      },
      "outputs": [],
      "source": [
        "nnc5_model = KerasClassifier(build_fn = model_5, batch_size = 10, epochs = 100, verbose = 0)\n",
        "\n",
        "nnc5_neuron_arr = [1, 5, 10, 15, 20, 25, 30]\n",
        "\n",
        "nnc5 = GridSearchCV(estimator = nnc5_model, \n",
        "                    param_grid = {'neurons' : nnc5_neuron_arr}, \n",
        "                    n_jobs = -1, cv = 5, return_train_score = True)\n",
        "\n",
        "nnc5.fit(X_train.values, y_train.values.ravel())\n",
        "\n",
        "nnc5_df = pd.DataFrame(nnc5.cv_results_)"
      ]
    },
    {
      "cell_type": "code",
      "execution_count": null,
      "metadata": {
        "id": "WnsXdXNB3WSN",
        "colab": {
          "base_uri": "https://localhost:8080/",
          "height": 269
        },
        "outputId": "c46e5cae-d27e-4466-a5f8-bc768185e281"
      },
      "outputs": [
        {
          "output_type": "execute_result",
          "data": {
            "text/plain": [
              "  param_neurons  mean_train_score  mean_test_score\n",
              "0             1          0.862076         0.859590\n",
              "1             5          0.896119         0.885355\n",
              "2            10          0.910225         0.898727\n",
              "3            15          0.915688         0.901010\n",
              "4            20          0.923394         0.905902\n",
              "5            25          0.925024         0.903946\n",
              "6            30          0.927266         0.909165"
            ],
            "text/html": [
              "\n",
              "  <div id=\"df-610f1cac-cda1-4ef0-88a1-dfb89c8fd753\">\n",
              "    <div class=\"colab-df-container\">\n",
              "      <div>\n",
              "<style scoped>\n",
              "    .dataframe tbody tr th:only-of-type {\n",
              "        vertical-align: middle;\n",
              "    }\n",
              "\n",
              "    .dataframe tbody tr th {\n",
              "        vertical-align: top;\n",
              "    }\n",
              "\n",
              "    .dataframe thead th {\n",
              "        text-align: right;\n",
              "    }\n",
              "</style>\n",
              "<table border=\"1\" class=\"dataframe\">\n",
              "  <thead>\n",
              "    <tr style=\"text-align: right;\">\n",
              "      <th></th>\n",
              "      <th>param_neurons</th>\n",
              "      <th>mean_train_score</th>\n",
              "      <th>mean_test_score</th>\n",
              "    </tr>\n",
              "  </thead>\n",
              "  <tbody>\n",
              "    <tr>\n",
              "      <th>0</th>\n",
              "      <td>1</td>\n",
              "      <td>0.862076</td>\n",
              "      <td>0.859590</td>\n",
              "    </tr>\n",
              "    <tr>\n",
              "      <th>1</th>\n",
              "      <td>5</td>\n",
              "      <td>0.896119</td>\n",
              "      <td>0.885355</td>\n",
              "    </tr>\n",
              "    <tr>\n",
              "      <th>2</th>\n",
              "      <td>10</td>\n",
              "      <td>0.910225</td>\n",
              "      <td>0.898727</td>\n",
              "    </tr>\n",
              "    <tr>\n",
              "      <th>3</th>\n",
              "      <td>15</td>\n",
              "      <td>0.915688</td>\n",
              "      <td>0.901010</td>\n",
              "    </tr>\n",
              "    <tr>\n",
              "      <th>4</th>\n",
              "      <td>20</td>\n",
              "      <td>0.923394</td>\n",
              "      <td>0.905902</td>\n",
              "    </tr>\n",
              "    <tr>\n",
              "      <th>5</th>\n",
              "      <td>25</td>\n",
              "      <td>0.925024</td>\n",
              "      <td>0.903946</td>\n",
              "    </tr>\n",
              "    <tr>\n",
              "      <th>6</th>\n",
              "      <td>30</td>\n",
              "      <td>0.927266</td>\n",
              "      <td>0.909165</td>\n",
              "    </tr>\n",
              "  </tbody>\n",
              "</table>\n",
              "</div>\n",
              "      <button class=\"colab-df-convert\" onclick=\"convertToInteractive('df-610f1cac-cda1-4ef0-88a1-dfb89c8fd753')\"\n",
              "              title=\"Convert this dataframe to an interactive table.\"\n",
              "              style=\"display:none;\">\n",
              "        \n",
              "  <svg xmlns=\"http://www.w3.org/2000/svg\" height=\"24px\"viewBox=\"0 0 24 24\"\n",
              "       width=\"24px\">\n",
              "    <path d=\"M0 0h24v24H0V0z\" fill=\"none\"/>\n",
              "    <path d=\"M18.56 5.44l.94 2.06.94-2.06 2.06-.94-2.06-.94-.94-2.06-.94 2.06-2.06.94zm-11 1L8.5 8.5l.94-2.06 2.06-.94-2.06-.94L8.5 2.5l-.94 2.06-2.06.94zm10 10l.94 2.06.94-2.06 2.06-.94-2.06-.94-.94-2.06-.94 2.06-2.06.94z\"/><path d=\"M17.41 7.96l-1.37-1.37c-.4-.4-.92-.59-1.43-.59-.52 0-1.04.2-1.43.59L10.3 9.45l-7.72 7.72c-.78.78-.78 2.05 0 2.83L4 21.41c.39.39.9.59 1.41.59.51 0 1.02-.2 1.41-.59l7.78-7.78 2.81-2.81c.8-.78.8-2.07 0-2.86zM5.41 20L4 18.59l7.72-7.72 1.47 1.35L5.41 20z\"/>\n",
              "  </svg>\n",
              "      </button>\n",
              "      \n",
              "  <style>\n",
              "    .colab-df-container {\n",
              "      display:flex;\n",
              "      flex-wrap:wrap;\n",
              "      gap: 12px;\n",
              "    }\n",
              "\n",
              "    .colab-df-convert {\n",
              "      background-color: #E8F0FE;\n",
              "      border: none;\n",
              "      border-radius: 50%;\n",
              "      cursor: pointer;\n",
              "      display: none;\n",
              "      fill: #1967D2;\n",
              "      height: 32px;\n",
              "      padding: 0 0 0 0;\n",
              "      width: 32px;\n",
              "    }\n",
              "\n",
              "    .colab-df-convert:hover {\n",
              "      background-color: #E2EBFA;\n",
              "      box-shadow: 0px 1px 2px rgba(60, 64, 67, 0.3), 0px 1px 3px 1px rgba(60, 64, 67, 0.15);\n",
              "      fill: #174EA6;\n",
              "    }\n",
              "\n",
              "    [theme=dark] .colab-df-convert {\n",
              "      background-color: #3B4455;\n",
              "      fill: #D2E3FC;\n",
              "    }\n",
              "\n",
              "    [theme=dark] .colab-df-convert:hover {\n",
              "      background-color: #434B5C;\n",
              "      box-shadow: 0px 1px 3px 1px rgba(0, 0, 0, 0.15);\n",
              "      filter: drop-shadow(0px 1px 2px rgba(0, 0, 0, 0.3));\n",
              "      fill: #FFFFFF;\n",
              "    }\n",
              "  </style>\n",
              "\n",
              "      <script>\n",
              "        const buttonEl =\n",
              "          document.querySelector('#df-610f1cac-cda1-4ef0-88a1-dfb89c8fd753 button.colab-df-convert');\n",
              "        buttonEl.style.display =\n",
              "          google.colab.kernel.accessAllowed ? 'block' : 'none';\n",
              "\n",
              "        async function convertToInteractive(key) {\n",
              "          const element = document.querySelector('#df-610f1cac-cda1-4ef0-88a1-dfb89c8fd753');\n",
              "          const dataTable =\n",
              "            await google.colab.kernel.invokeFunction('convertToInteractive',\n",
              "                                                     [key], {});\n",
              "          if (!dataTable) return;\n",
              "\n",
              "          const docLinkHtml = 'Like what you see? Visit the ' +\n",
              "            '<a target=\"_blank\" href=https://colab.research.google.com/notebooks/data_table.ipynb>data table notebook</a>'\n",
              "            + ' to learn more about interactive tables.';\n",
              "          element.innerHTML = '';\n",
              "          dataTable['output_type'] = 'display_data';\n",
              "          await google.colab.output.renderOutput(dataTable, element);\n",
              "          const docLink = document.createElement('div');\n",
              "          docLink.innerHTML = docLinkHtml;\n",
              "          element.appendChild(docLink);\n",
              "        }\n",
              "      </script>\n",
              "    </div>\n",
              "  </div>\n",
              "  "
            ]
          },
          "metadata": {},
          "execution_count": 50
        }
      ],
      "source": [
        "nnc5_df[['param_neurons', 'mean_train_score', 'mean_test_score']]"
      ]
    },
    {
      "cell_type": "code",
      "execution_count": null,
      "metadata": {
        "id": "DX7SJ7kg3YOL",
        "colab": {
          "base_uri": "https://localhost:8080/",
          "height": 382
        },
        "outputId": "28e14bca-b1f5-4f36-8984-9fb77849c75c"
      },
      "outputs": [
        {
          "output_type": "stream",
          "name": "stdout",
          "text": [
            "Best Parameters: {'neurons': 30}\n",
            "Best Cross-Validation Accuracy: 0.91\n"
          ]
        },
        {
          "output_type": "display_data",
          "data": {
            "text/plain": [
              "<Figure size 432x288 with 1 Axes>"
            ],
            "image/png": "[encoded data removed]"
          },
          "metadata": {
            "needs_background": "light"
          }
        },
        {
          "output_type": "stream",
          "name": "stdout",
          "text": [
            "Accuracy: 0.91\n",
            "Sensitivity: 0.77\n",
            "Specificity: 0.96\n"
          ]
        }
      ],
      "source": [
        "print('Best Parameters: {}'.format(nnc5.best_params_))\n",
        "print('Best Cross-Validation Accuracy: {:.2f}'.format(nnc5.best_score_))\n",
        "\n",
        "pred_nnc5 = nnc5.predict(X_test)\n",
        "\n",
        "# plot_roc_curve(nnc5, X_test, c_test)\n",
        "# plt.title('ROC Curve')\n",
        "# plt.show()\n",
        "\n",
        "cm_nnc5 = confusion_matrix(y_test, pred_nnc5)\n",
        "tn, fp, fn, tp = cm_nnc5.ravel()\n",
        "\n",
        "ax = sns.heatmap(cm_nnc5.T, square = True, annot = True, fmt = 'd', cbar = False, cmap = 'Greens')\n",
        "ax.set(xlabel = 'Actual', ylabel = 'Predicted', title = 'Confusion Matrix')\n",
        "plt.show()\n",
        "\n",
        "print('Accuracy: {:.2f}'.format(accuracy_score(y_test, pred_nnc5)))\n",
        "print('Sensitivity: {:.2f}'.format(tp / (tp + fn)))\n",
        "print('Specificity: {:.2f}'.format(tn / (tn + fp)))"
      ]
    },
    {
      "cell_type": "markdown",
      "metadata": {
        "id": "TxaXftK_3gYU"
      },
      "source": [
        "6. No Of Layers in Second Hidden Layer"
      ]
    },
    {
      "cell_type": "code",
      "execution_count": null,
      "metadata": {
        "id": "6_iZS6Gk3fiu"
      },
      "outputs": [],
      "source": [
        "def model_6(neurons = 0):\n",
        "    model = Sequential()\n",
        "    model.add(Dense(10, activation = 'relu', kernel_constraint = maxnorm(3)))\n",
        "    model.add(Dropout(0.1))\n",
        "    model.add(Dense(neurons, activation = 'relu', kernel_constraint = maxnorm(3)))\n",
        "    model.add(Dropout(0.1))\n",
        "    model.add(Dense(1, activation = 'sigmoid'))\n",
        "    optimizer = keras.optimizers.SGD(lr = 0.01, momentum = 0.9)\n",
        "    model.compile(loss = 'binary_crossentropy', optimizer = optimizer, metrics= ['accuracy'])\n",
        "    return model"
      ]
    },
    {
      "cell_type": "code",
      "execution_count": null,
      "metadata": {
        "id": "cRVpNQWs3pAr"
      },
      "outputs": [],
      "source": [
        "nnc6_model = KerasClassifier(build_fn = model_6, batch_size = 10, epochs = 100, verbose = 0)\n",
        "\n",
        "nnc6_neuron_arr = [1, 5, 10, 15, 20, 25, 30]\n",
        "\n",
        "nnc6 = GridSearchCV(estimator = nnc6_model, \n",
        "                    param_grid = {'neurons' : nnc6_neuron_arr}, \n",
        "                    n_jobs = -1, cv = 5, return_train_score = True)\n",
        "\n",
        "nnc6.fit(X_train.values, y_train.values.ravel())\n",
        "\n",
        "nnc6_df = pd.DataFrame(nnc6.cv_results_)"
      ]
    },
    {
      "cell_type": "code",
      "execution_count": null,
      "metadata": {
        "id": "pchu-rm53uPC",
        "colab": {
          "base_uri": "https://localhost:8080/",
          "height": 269
        },
        "outputId": "bb3c2fb2-5296-44f1-f09b-4d0d4aecc688"
      },
      "outputs": [
        {
          "output_type": "execute_result",
          "data": {
            "text/plain": [
              "  param_neurons  mean_train_score  mean_test_score\n",
              "0             1          0.906882         0.897586\n",
              "1             5          0.908880         0.899379\n",
              "2            10          0.912345         0.897586\n",
              "3            15          0.913364         0.904923\n",
              "4            20          0.913854         0.900685\n",
              "5            25          0.916381         0.902642\n",
              "6            30          0.919887         0.902478"
            ],
            "text/html": [
              "\n",
              "  <div id=\"df-eeebb501-d3db-42d9-83b0-57c9e7d4b6fc\">\n",
              "    <div class=\"colab-df-container\">\n",
              "      <div>\n",
              "<style scoped>\n",
              "    .dataframe tbody tr th:only-of-type {\n",
              "        vertical-align: middle;\n",
              "    }\n",
              "\n",
              "    .dataframe tbody tr th {\n",
              "        vertical-align: top;\n",
              "    }\n",
              "\n",
              "    .dataframe thead th {\n",
              "        text-align: right;\n",
              "    }\n",
              "</style>\n",
              "<table border=\"1\" class=\"dataframe\">\n",
              "  <thead>\n",
              "    <tr style=\"text-align: right;\">\n",
              "      <th></th>\n",
              "      <th>param_neurons</th>\n",
              "      <th>mean_train_score</th>\n",
              "      <th>mean_test_score</th>\n",
              "    </tr>\n",
              "  </thead>\n",
              "  <tbody>\n",
              "    <tr>\n",
              "      <th>0</th>\n",
              "      <td>1</td>\n",
              "      <td>0.906882</td>\n",
              "      <td>0.897586</td>\n",
              "    </tr>\n",
              "    <tr>\n",
              "      <th>1</th>\n",
              "      <td>5</td>\n",
              "      <td>0.908880</td>\n",
              "      <td>0.899379</td>\n",
              "    </tr>\n",
              "    <tr>\n",
              "      <th>2</th>\n",
              "      <td>10</td>\n",
              "      <td>0.912345</td>\n",
              "      <td>0.897586</td>\n",
              "    </tr>\n",
              "    <tr>\n",
              "      <th>3</th>\n",
              "      <td>15</td>\n",
              "      <td>0.913364</td>\n",
              "      <td>0.904923</td>\n",
              "    </tr>\n",
              "    <tr>\n",
              "      <th>4</th>\n",
              "      <td>20</td>\n",
              "      <td>0.913854</td>\n",
              "      <td>0.900685</td>\n",
              "    </tr>\n",
              "    <tr>\n",
              "      <th>5</th>\n",
              "      <td>25</td>\n",
              "      <td>0.916381</td>\n",
              "      <td>0.902642</td>\n",
              "    </tr>\n",
              "    <tr>\n",
              "      <th>6</th>\n",
              "      <td>30</td>\n",
              "      <td>0.919887</td>\n",
              "      <td>0.902478</td>\n",
              "    </tr>\n",
              "  </tbody>\n",
              "</table>\n",
              "</div>\n",
              "      <button class=\"colab-df-convert\" onclick=\"convertToInteractive('df-eeebb501-d3db-42d9-83b0-57c9e7d4b6fc')\"\n",
              "              title=\"Convert this dataframe to an interactive table.\"\n",
              "              style=\"display:none;\">\n",
              "        \n",
              "  <svg xmlns=\"http://www.w3.org/2000/svg\" height=\"24px\"viewBox=\"0 0 24 24\"\n",
              "       width=\"24px\">\n",
              "    <path d=\"M0 0h24v24H0V0z\" fill=\"none\"/>\n",
              "    <path d=\"M18.56 5.44l.94 2.06.94-2.06 2.06-.94-2.06-.94-.94-2.06-.94 2.06-2.06.94zm-11 1L8.5 8.5l.94-2.06 2.06-.94-2.06-.94L8.5 2.5l-.94 2.06-2.06.94zm10 10l.94 2.06.94-2.06 2.06-.94-2.06-.94-.94-2.06-.94 2.06-2.06.94z\"/><path d=\"M17.41 7.96l-1.37-1.37c-.4-.4-.92-.59-1.43-.59-.52 0-1.04.2-1.43.59L10.3 9.45l-7.72 7.72c-.78.78-.78 2.05 0 2.83L4 21.41c.39.39.9.59 1.41.59.51 0 1.02-.2 1.41-.59l7.78-7.78 2.81-2.81c.8-.78.8-2.07 0-2.86zM5.41 20L4 18.59l7.72-7.72 1.47 1.35L5.41 20z\"/>\n",
              "  </svg>\n",
              "      </button>\n",
              "      \n",
              "  <style>\n",
              "    .colab-df-container {\n",
              "      display:flex;\n",
              "      flex-wrap:wrap;\n",
              "      gap: 12px;\n",
              "    }\n",
              "\n",
              "    .colab-df-convert {\n",
              "      background-color: #E8F0FE;\n",
              "      border: none;\n",
              "      border-radius: 50%;\n",
              "      cursor: pointer;\n",
              "      display: none;\n",
              "      fill: #1967D2;\n",
              "      height: 32px;\n",
              "      padding: 0 0 0 0;\n",
              "      width: 32px;\n",
              "    }\n",
              "\n",
              "    .colab-df-convert:hover {\n",
              "      background-color: #E2EBFA;\n",
              "      box-shadow: 0px 1px 2px rgba(60, 64, 67, 0.3), 0px 1px 3px 1px rgba(60, 64, 67, 0.15);\n",
              "      fill: #174EA6;\n",
              "    }\n",
              "\n",
              "    [theme=dark] .colab-df-convert {\n",
              "      background-color: #3B4455;\n",
              "      fill: #D2E3FC;\n",
              "    }\n",
              "\n",
              "    [theme=dark] .colab-df-convert:hover {\n",
              "      background-color: #434B5C;\n",
              "      box-shadow: 0px 1px 3px 1px rgba(0, 0, 0, 0.15);\n",
              "      filter: drop-shadow(0px 1px 2px rgba(0, 0, 0, 0.3));\n",
              "      fill: #FFFFFF;\n",
              "    }\n",
              "  </style>\n",
              "\n",
              "      <script>\n",
              "        const buttonEl =\n",
              "          document.querySelector('#df-eeebb501-d3db-42d9-83b0-57c9e7d4b6fc button.colab-df-convert');\n",
              "        buttonEl.style.display =\n",
              "          google.colab.kernel.accessAllowed ? 'block' : 'none';\n",
              "\n",
              "        async function convertToInteractive(key) {\n",
              "          const element = document.querySelector('#df-eeebb501-d3db-42d9-83b0-57c9e7d4b6fc');\n",
              "          const dataTable =\n",
              "            await google.colab.kernel.invokeFunction('convertToInteractive',\n",
              "                                                     [key], {});\n",
              "          if (!dataTable) return;\n",
              "\n",
              "          const docLinkHtml = 'Like what you see? Visit the ' +\n",
              "            '<a target=\"_blank\" href=https://colab.research.google.com/notebooks/data_table.ipynb>data table notebook</a>'\n",
              "            + ' to learn more about interactive tables.';\n",
              "          element.innerHTML = '';\n",
              "          dataTable['output_type'] = 'display_data';\n",
              "          await google.colab.output.renderOutput(dataTable, element);\n",
              "          const docLink = document.createElement('div');\n",
              "          docLink.innerHTML = docLinkHtml;\n",
              "          element.appendChild(docLink);\n",
              "        }\n",
              "      </script>\n",
              "    </div>\n",
              "  </div>\n",
              "  "
            ]
          },
          "metadata": {},
          "execution_count": 56
        }
      ],
      "source": [
        "nnc6_df[['param_neurons', 'mean_train_score', 'mean_test_score']]"
      ]
    },
    {
      "cell_type": "code",
      "execution_count": null,
      "metadata": {
        "id": "XT_qfIeH3vDk",
        "colab": {
          "base_uri": "https://localhost:8080/",
          "height": 382
        },
        "outputId": "fd556436-8cca-48f7-c9a3-1aadc878f850"
      },
      "outputs": [
        {
          "output_type": "stream",
          "name": "stdout",
          "text": [
            "Best Parameters: {'neurons': 15}\n",
            "Best Cross-Validation Accuracy: 0.90\n"
          ]
        },
        {
          "output_type": "display_data",
          "data": {
            "text/plain": [
              "<Figure size 432x288 with 1 Axes>"
            ],
            "image/png": "[encoded data removed]"
          },
          "metadata": {
            "needs_background": "light"
          }
        },
        {
          "output_type": "stream",
          "name": "stdout",
          "text": [
            "Accuracy: 0.91\n",
            "Sensitivity: 0.72\n",
            "Specificity: 0.97\n"
          ]
        }
      ],
      "source": [
        "print('Best Parameters: {}'.format(nnc6.best_params_))\n",
        "print('Best Cross-Validation Accuracy: {:.2f}'.format(nnc6.best_score_))\n",
        "\n",
        "pred_nnc6 = nnc6.predict(X_test)\n",
        "\n",
        "# plot_roc_curve(nnc6, X_test, c_test)\n",
        "# plt.title('ROC Curve')\n",
        "# plt.show()\n",
        "\n",
        "cm_nnc6 = confusion_matrix(y_test, pred_nnc6)\n",
        "tn, fp, fn, tp = cm_nnc6.ravel()\n",
        "\n",
        "ax = sns.heatmap(cm_nnc6.T, square = True, annot = True, fmt = 'd', cbar = False, cmap = 'Greens')\n",
        "ax.set(xlabel = 'Actual', ylabel = 'Predicted', title = 'Confusion Matrix')\n",
        "plt.show()\n",
        "\n",
        "print('Accuracy: {:.2f}'.format(accuracy_score(y_test, pred_nnc6)))\n",
        "print('Sensitivity: {:.2f}'.format(tp / (tp + fn)))\n",
        "print('Specificity: {:.2f}'.format(tn / (tn + fp)))"
      ]
    },
    {
      "cell_type": "code",
      "execution_count": null,
      "metadata": {
        "id": "77ZTpg54yfXt"
      },
      "outputs": [],
      "source": [
        " \n",
        "  # Train and evaluate models for all combinations of parameters specified in the init method. We would like to obtain following outputs:\n",
        "  #   1. Training Accuracy and Error (Loss) for every model\n",
        "  #   2. Test Accuracy and Error (Loss) for every model\n",
        "  #   3. History Curve (Plot of Accuracy against training steps) for all the models in a single plot. The plot should be color coded i.e.different color for each model\n",
        "def train_evaluate(actFunc,hidden_layer_size,epoch,lrate):\n",
        "      #X_train, X_test, y_train, y_test = train_test_split(self.processed_data, self.y, test_size=0.2, shuffle = True, random_state =1)\n",
        "      \n",
        "      model = keras.Sequential()\n",
        "      model.add(Dense(16, input_dim =20, kernel_initializer= 'normal' , activation= actFunc))\n",
        "      if hidden_layer_size==3:\n",
        "        model.add(Dense(10, kernel_initializer= 'normal' , activation= actFunc ))\n",
        "      model.add(Dense(1, kernel_initializer= 'normal' , activation= actFunc ))\n",
        "      \n",
        "      # Compile model\n",
        "      opt = keras.optimizers.Adam(learning_rate=lrate)\n",
        "      model.compile(loss= 'mean_squared_error' , optimizer= opt , metrics=[ 'accuracy' ])\n",
        "      history = model.fit(X_train, y_train, epochs= epoch, validation_data= (X_test,y_test), batch_size=20, verbose=0)\n",
        "      y_pred = model.predict(X_test)\n",
        "      pred_train= model.predict(X_train)\n",
        "      train_scores = model.evaluate(X_train, y_train, verbose=0)\n",
        "      print('Training Accuracy : {} \\nTraining Error : {}'.format(round(train_scores[1],4), round(train_scores[0],4)))   \n",
        "      \n",
        "      pred_test= model.predict(X_test)\n",
        "      test_scores = model.evaluate(X_test, y_test, verbose=0)\n",
        "      print('Testing Accuracy : {} \\nTesting Error : {}'.format(round(test_scores[1],4), round(test_scores[0],4))) \n",
        "    \n",
        "      return history\n",
        "\n",
        "def plot_training_graph( sigmoidHistory, tanhHistory, reluHistory, epoch, lrate, layers, ax):   \n",
        "      ax.plot(sigmoidHistory.history['accuracy'], color='green', linestyle='solid')\n",
        "      ax.plot(tanhHistory.history['accuracy'], color='red', linestyle='solid')\n",
        "      ax.plot(reluHistory.history['accuracy'], color='blue', linestyle='solid')\n",
        "      ax.plot(sigmoidHistory.history['loss'], color='green', linestyle='dashed')\n",
        "      ax.plot(tanhHistory.history['loss'], color='red', linestyle='dashed')\n",
        "      ax.plot(reluHistory.history['loss'], color='blue', linestyle='dashed')\n",
        "      ax.set_title('Epoch='+str(Epoch)+', Learning Rate='+str(LearningRate)+', Hidden Layers='+str(Layers))       \n",
        "\n",
        "def plot_testing_graph(sigmoidHistory, tanhHistory, reluHistory, epoch, lrate, layers, ax):\n",
        "      ax.plot(sigmoidHistory.history['val_accuracy'], color='green', linestyle='solid')\n",
        "      ax.plot(tanhHistory.history['val_accuracy'], color='red', linestyle='solid')\n",
        "      ax.plot(reluHistory.history['val_accuracy'], color='blue', linestyle='solid')\n",
        "      ax.plot(sigmoidHistory.history['val_loss'], color='green', linestyle='dashed')\n",
        "      ax.plot(tanhHistory.history['val_loss'], color='red', linestyle='dashed')\n",
        "      ax.plot(reluHistory.history['val_loss'], color='blue', linestyle='dashed')\n",
        "      ax.set_title('Epoch='+str(Epoch)+', Learning Rate='+str(LearningRate)+', Hidden Layers='+str(Layers))"
      ]
    },
    {
      "cell_type": "code",
      "execution_count": null,
      "metadata": {
        "id": "EclMMWsKyzfp",
        "colab": {
          "base_uri": "https://localhost:8080/",
          "height": 1000
        },
        "outputId": "762116e3-51d9-4303-96df-066e594fbfbe"
      },
      "outputs": [
        {
          "output_type": "stream",
          "name": "stdout",
          "text": [
            "\n",
            "------------------------- Case - 1 -------------------------\n",
            "Hidden Layers=2, Epoch=100, Learning Rate=0.001\n",
            "\n",
            "-----------Sigmoid-----------\n",
            "Training Accuracy : 0.9088 \n",
            "Training Error : 0.0697\n",
            "Testing Accuracy : 0.9079 \n",
            "Testing Error : 0.0688\n",
            "\n",
            "-----------Tanh-----------\n",
            "Training Accuracy : 0.9075 \n",
            "Training Error : 0.0694\n",
            "Testing Accuracy : 0.9117 \n",
            "Testing Error : 0.0693\n",
            "\n",
            "-----------Relu-----------\n",
            "Training Accuracy : 0.922 \n",
            "Training Error : 0.0606\n",
            "Testing Accuracy : 0.9144 \n",
            "Testing Error : 0.0634\n",
            "\n",
            "------------------------- Case - 2 -------------------------\n",
            "Hidden Layers=3, Epoch=100, Learning Rate=0.001\n",
            "\n",
            "-----------Sigmoid-----------\n",
            "Training Accuracy : 0.9145 \n",
            "Training Error : 0.0682\n",
            "Testing Accuracy : 0.9125 \n",
            "Testing Error : 0.0673\n",
            "\n",
            "-----------Tanh-----------\n",
            "Training Accuracy : 0.9258 \n",
            "Training Error : 0.0552\n",
            "Testing Accuracy : 0.9212 \n",
            "Testing Error : 0.059\n",
            "\n",
            "-----------Relu-----------\n",
            "Training Accuracy : 0.7466 \n",
            "Training Error : 0.2534\n",
            "Testing Accuracy : 0.758 \n",
            "Testing Error : 0.242\n",
            "\n",
            "------------------------- Case - 3 -------------------------\n",
            "Hidden Layers=2, Epoch=100, Learning Rate=0.01\n",
            "\n",
            "-----------Sigmoid-----------\n",
            "Training Accuracy : 0.9388 \n",
            "Training Error : 0.0479\n",
            "Testing Accuracy : 0.914 \n",
            "Testing Error : 0.0613\n",
            "\n",
            "-----------Tanh-----------\n",
            "Training Accuracy : 0.9199 \n",
            "Training Error : 0.0622\n",
            "Testing Accuracy : 0.9125 \n",
            "Testing Error : 0.0679\n",
            "\n",
            "-----------Relu-----------\n",
            "Training Accuracy : 0.9263 \n",
            "Training Error : 0.0626\n",
            "Testing Accuracy : 0.9243 \n",
            "Testing Error : 0.0631\n",
            "\n",
            "------------------------- Case - 4 -------------------------\n",
            "Hidden Layers=3, Epoch=100, Learning Rate=0.01\n",
            "\n",
            "-----------Sigmoid-----------\n",
            "Training Accuracy : 0.9547 \n",
            "Training Error : 0.0375\n",
            "Testing Accuracy : 0.9277 \n",
            "Testing Error : 0.0553\n",
            "\n",
            "-----------Tanh-----------\n",
            "Training Accuracy : 0.9498 \n",
            "Training Error : 0.0414\n",
            "Testing Accuracy : 0.9224 \n",
            "Testing Error : 0.0589\n",
            "\n",
            "-----------Relu-----------\n",
            "Training Accuracy : 0.9312 \n",
            "Training Error : 0.0526\n",
            "Testing Accuracy : 0.9281 \n",
            "Testing Error : 0.0548\n",
            "\n",
            "------------------------- Case - 5 -------------------------\n",
            "Hidden Layers=2, Epoch=200, Learning Rate=0.001\n",
            "\n",
            "-----------Sigmoid-----------\n",
            "Training Accuracy : 0.9227 \n",
            "Training Error : 0.061\n",
            "Testing Accuracy : 0.9102 \n",
            "Testing Error : 0.0652\n",
            "\n",
            "-----------Tanh-----------\n",
            "Training Accuracy : 0.917 \n",
            "Training Error : 0.0643\n",
            "Testing Accuracy : 0.9117 \n",
            "Testing Error : 0.0675\n",
            "\n",
            "-----------Relu-----------\n",
            "Training Accuracy : 0.931 \n",
            "Training Error : 0.0539\n",
            "Testing Accuracy : 0.9235 \n",
            "Testing Error : 0.0591\n",
            "\n",
            "------------------------- Case - 6 -------------------------\n",
            "Hidden Layers=3, Epoch=200, Learning Rate=0.001\n",
            "\n",
            "-----------Sigmoid-----------\n",
            "Training Accuracy : 0.9276 \n",
            "Training Error : 0.0548\n",
            "Testing Accuracy : 0.9178 \n",
            "Testing Error : 0.0606\n",
            "\n",
            "-----------Tanh-----------\n",
            "Training Accuracy : 0.945 \n",
            "Training Error : 0.045\n",
            "Testing Accuracy : 0.93 \n",
            "Testing Error : 0.0565\n",
            "\n",
            "-----------Relu-----------\n",
            "Training Accuracy : 0.9268 \n",
            "Training Error : 0.0552\n",
            "Testing Accuracy : 0.9144 \n",
            "Testing Error : 0.0653\n",
            "\n",
            "------------------------- Case - 7 -------------------------\n",
            "Hidden Layers=2, Epoch=200, Learning Rate=0.01\n",
            "\n",
            "-----------Sigmoid-----------\n",
            "Training Accuracy : 0.9473 \n",
            "Training Error : 0.0439\n",
            "Testing Accuracy : 0.9163 \n",
            "Testing Error : 0.0667\n",
            "\n",
            "-----------Tanh-----------\n",
            "Training Accuracy : 0.9232 \n",
            "Training Error : 0.0636\n",
            "Testing Accuracy : 0.9022 \n",
            "Testing Error : 0.0745\n",
            "\n",
            "-----------Relu-----------\n",
            "Training Accuracy : 0.7466 \n",
            "Training Error : 0.2534\n",
            "Testing Accuracy : 0.758 \n",
            "Testing Error : 0.242\n",
            "\n",
            "------------------------- Case - 8 -------------------------\n",
            "Hidden Layers=3, Epoch=200, Learning Rate=0.01\n",
            "\n",
            "-----------Sigmoid-----------\n",
            "Training Accuracy : 0.9599 \n",
            "Training Error : 0.0334\n",
            "Testing Accuracy : 0.9296 \n",
            "Testing Error : 0.059\n",
            "\n",
            "-----------Tanh-----------\n",
            "Training Accuracy : 0.9441 \n",
            "Training Error : 0.0447\n",
            "Testing Accuracy : 0.9079 \n",
            "Testing Error : 0.0706\n",
            "\n",
            "-----------Relu-----------\n",
            "Training Accuracy : 0.9428 \n",
            "Training Error : 0.0465\n",
            "Testing Accuracy : 0.925 \n",
            "Testing Error : 0.0594\n"
          ]
        },
        {
          "output_type": "display_data",
          "data": {
            "text/plain": [
              "<Figure size 1332x1800 with 8 Axes>"
            ],
            "image/png": "[encoded data removed]"
          },
          "metadata": {
            "needs_background": "light"
          }
        },
        {
          "output_type": "display_data",
          "data": {
            "text/plain": [
              "<Figure size 1332x1800 with 8 Axes>"
            ],
            "image/png": "[encoded data removed]"
          },
          "metadata": {
            "needs_background": "light"
          }
        }
      ],
      "source": [
        "# List of hyperparameters to be used for for model evaluation\n",
        "hpList = [{'epoch' : 100, 'learning_rate' : 0.001, 'layers' : 2},\n",
        "              {'epoch' : 100, 'learning_rate' : 0.001, 'layers' : 3},\n",
        "              {'epoch' : 100, 'learning_rate' : 0.01, 'layers' : 2},\n",
        "              {'epoch' : 100, 'learning_rate' : 0.01, 'layers' : 3},\n",
        "              {'epoch' : 200, 'learning_rate' : 0.001, 'layers' : 2},\n",
        "              {'epoch' : 200, 'learning_rate' : 0.001, 'layers' : 3},\n",
        "              {'epoch' : 200, 'learning_rate' : 0.01, 'layers' : 2},\n",
        "              {'epoch' : 200, 'learning_rate' : 0.01, 'layers' : 3},\n",
        "             ]\n",
        "            \n",
        "count=0;\n",
        "labels = [\"Sigmoid Accuracy\", \"TanH Accuracy\",\"Relu Accuracy\",\"Sigmoid Loss\",\"TanH Loss\",\"Relu Loss\"]\n",
        "\n",
        "fig1 = plt.figure(edgecolor='black', linewidth=4)\n",
        "fig2 = plt.figure(edgecolor='black', linewidth=4)\n",
        "\n",
        "for dic in hpList:\n",
        "        count=count+1\n",
        "        print('\\n------------------------- Case -',count, '-------------------------')\n",
        "        Layers = dic.get('layers')\n",
        "        Epoch = dic.get('epoch')\n",
        "        LearningRate = dic.get('learning_rate')\n",
        "        print(f'Hidden Layers={Layers}, Epoch={Epoch}, Learning Rate={LearningRate}')\n",
        "        print('\\n-----------Sigmoid-----------')\n",
        "        sigmoidHistory = train_evaluate('sigmoid',Layers,Epoch,LearningRate)\n",
        "\n",
        "        print('\\n-----------Tanh-----------')\n",
        "        tanhHistory = train_evaluate('tanh',Layers,Epoch,LearningRate)\n",
        "\n",
        "        print('\\n-----------Relu-----------')\n",
        "        reluHistory = train_evaluate('relu',Layers,Epoch,LearningRate)\n",
        "\n",
        "        ax1 = fig1.add_subplot(4,2,count)\n",
        "        ax2 = fig2.add_subplot(4,2,count)\n",
        "        plot_training_graph(sigmoidHistory, tanhHistory, reluHistory, Epoch, LearningRate, Layers, ax1)\n",
        "        plot_testing_graph(sigmoidHistory, tanhHistory, reluHistory, Epoch, LearningRate, Layers, ax2)\n",
        "\n",
        "#Plot the model history for each model in a single plot    \n",
        "fig1.legend(ax1.get_lines(), labels, ncol=2, loc=\"upper center\")\n",
        "fig2.legend(ax2.get_lines(), labels, ncol=2, loc=\"upper center\")\n",
        "\n",
        "fig1.set_size_inches(18.5, 25, forward=True)\n",
        "fig2.set_size_inches(18.5, 25, forward=True)\n",
        "\n",
        "fig1.text(0.5, 0.09, 'Epoch', ha='center')\n",
        "fig1.text(0.07, 0.5, 'Training Accuracy/Loss', va='center', rotation='vertical')\n",
        "\n",
        "fig2.text(0.5, 0.09, 'Epoch', ha='center')\n",
        "fig2.text(0.07, 0.5, 'Testing Accuracy/Loss', va='center', rotation='vertical')\n",
        "\n",
        "plt.show()"
      ]
    },
    {
      "cell_type": "code",
      "source": [
        ""
      ],
      "metadata": {
        "id": "E0TMBAgMY7-K"
      },
      "execution_count": null,
      "outputs": []
    }
  ],
  "metadata": {
    "colab": {
      "collapsed_sections": [],
      "name": "Assignment 3.ipynb",
      "provenance": []
    },
    "kernelspec": {
      "display_name": "Python 3",
      "name": "python3"
    },
    "language_info": {
      "name": "python"
    }
  },
  "nbformat": 4,
  "nbformat_minor": 0
}